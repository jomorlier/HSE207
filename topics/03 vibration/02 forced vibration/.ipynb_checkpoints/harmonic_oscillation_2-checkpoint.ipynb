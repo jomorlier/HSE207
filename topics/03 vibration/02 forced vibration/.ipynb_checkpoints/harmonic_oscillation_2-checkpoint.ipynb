{
 "cells": [
  {
   "cell_type": "code",
   "execution_count": null,
   "metadata": {
    "collapsed": true
   },
   "outputs": [],
   "source": []
  },
  {
   "cell_type": "markdown",
   "metadata": {
    "collapsed": true
   },
   "source": [
    "# Damping \n",
    "\n",
    "- assume damping causes exponential decay while oscillating\n",
    "\n",
    "$$\n",
    "\\begin{align*}z(t) &= e^{-\\gamma t} e^{-j\\omega t} = e^{-(\\gamma +j\\omega)t}\\qquad \\text{normalized for simplicity}\\\\\n",
    "\\upsilon(t) &= \\frac{dz(t)}{dt} = -(\\gamma + j\\omega)  e^{-(\\gamma +j\\omega)t} \\\\\n",
    "a(t) & = \\frac{d^2z(t)}{dt^2} = (\\gamma + j\\omega)^2 e^{j \\omega t} = (\\gamma ^2 - \\omega^2 + j2\\gamma \\omega) e^{-(\\gamma +j\\omega)t}\n",
    "\\end{align*}$$\n",
    "<br><br>\n",
    "$$ \\left\\{ (\\gamma ^2 - \\omega^2 + j2\\gamma \\omega) e^{-(\\gamma +j\\omega)t} \\right\\} + 2\\gamma \\left\\{ \\left( -(\\gamma + j\\omega)  e^{-(\\gamma +j\\omega)t}\\right) \\right\\} + \\left(\\gamma^2 + \\omega^2 \\right) \\left\\{ e^{-(\\gamma +j\\omega)t} \\right\\} \\\\\n",
    "= a(t) + 2\\gamma \\upsilon(t) + \\left(\\gamma^2 + \\omega^2 \\right) z(t) = \\frac{d^2z(t)}{dt^2} + 2\\gamma \\frac{dz(t)}{dt} + (\\gamma^2 + \\omega^2) z(t) = 0$$\n",
    "\n",
    "\n",
    "- Show $ z(t) = e^{-\\gamma t} e^{j\\omega t} $ also satisfies $$\\frac{d^2z(t)}{dt^2} + 2\\gamma \\frac{dz(t)}{dt} + \\left(\\gamma^2 + \\omega^2 \\right) z(t) = 0$$\n",
    "\n",
    "- Given the differential equation\n",
    "\n",
    "$$\\ddot z(t) + 2\\gamma \\, \\dot z(t) + \\left(\\gamma^2 + \\omega^2 \\right) z(t) = 0$$\n",
    "\n",
    "- Solution is a linear combination of \n",
    "\n",
    "$$ z(t) = e^{-\\gamma t} \\left(A e^{j\\omega t} + B e^{-j\\omega t}\\right)$$\n",
    "\n",
    "## mass, spring, and damper system\n",
    "\n",
    "$$ \n",
    "\\begin{align*}\n",
    "m \\ddot x(t) + c \\dot x(t) + k x(t) &= 0  \\implies \\\\\n",
    "\\ddot x(t) + 2\\zeta \\omega_n \\dot x(t) + \\omega_n^2 x(t) &= 0 \\qquad \\text{where } \\; \\omega_n^2 = \\frac{k}{m} = \\gamma^2 + \\omega^2\n",
    "\\end{align*}$$\n",
    "\n",
    "- parameters\n",
    "\n",
    "$$\n",
    "\\begin{align*}\n",
    "\\omega_n^2 &= \\frac{k}{m} = \\gamma^2 + \\omega^2 & \\text{: natural angular velocity}\\\\\n",
    "\\omega^2 &= \\omega_n^2 - \\gamma^2 & \\text{: actual angular velocity}\\\\\n",
    "\\gamma & = \\zeta \\omega_n &\\text{: decaying factor} \\\\\n",
    "\\left(\\frac{\\omega}{\\omega_n}\\right)^2 &= 1 - \\zeta^2\\\\\n",
    "0 \\leq \\zeta &= \\sqrt{1-\\left(\\frac{\\omega}{\\omega_n}\\right)^2} \\leq 1 & \\text{: damping ratio}\n",
    "\\end{align*}\n",
    "$$"
   ]
  },
  {
   "cell_type": "code",
   "execution_count": null,
   "metadata": {
    "collapsed": true
   },
   "outputs": [],
   "source": []
  },
  {
   "cell_type": "code",
   "execution_count": null,
   "metadata": {
    "collapsed": true
   },
   "outputs": [],
   "source": []
  },
  {
   "cell_type": "code",
   "execution_count": null,
   "metadata": {
    "collapsed": true
   },
   "outputs": [],
   "source": []
  },
  {
   "cell_type": "code",
   "execution_count": null,
   "metadata": {
    "collapsed": true
   },
   "outputs": [],
   "source": []
  },
  {
   "cell_type": "code",
   "execution_count": null,
   "metadata": {
    "collapsed": true
   },
   "outputs": [],
   "source": []
  },
  {
   "cell_type": "code",
   "execution_count": null,
   "metadata": {
    "collapsed": true
   },
   "outputs": [],
   "source": []
  },
  {
   "cell_type": "code",
   "execution_count": null,
   "metadata": {
    "collapsed": true
   },
   "outputs": [],
   "source": []
  }
 ],
 "metadata": {
  "kernelspec": {
   "display_name": "Matlab",
   "language": "matlab",
   "name": "matlab_kernel"
  },
  "language_info": {
   "file_extension": ".m",
   "help_links": [
    {
     "text": "MetaKernel Magics",
     "url": "https://github.com/calysto/metakernel/blob/master/metakernel/magics/README.md"
    }
   ],
   "mimetype": "text/x-matlab",
   "name": "octave"
  }
 },
 "nbformat": 4,
 "nbformat_minor": 0
}
