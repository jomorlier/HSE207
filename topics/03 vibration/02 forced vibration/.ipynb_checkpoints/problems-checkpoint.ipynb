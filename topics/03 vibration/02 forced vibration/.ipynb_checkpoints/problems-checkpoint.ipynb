{
 "cells": [
  {
   "cell_type": "code",
   "execution_count": null,
   "metadata": {
    "collapsed": true
   },
   "outputs": [],
   "source": []
  },
  {
   "cell_type": "markdown",
   "metadata": {},
   "source": [
    "# Problem\n",
    "\n",
    "The mass in the spring and mass system has been released with initial conditions of $x_0$ and $\\upsilon_0$. The magnitude of this simple harmonic motion is as twice as $x_0$. Find out the phase $\\phi$ using a related circular motion and its geometric relationship.\n",
    "\n",
    "<img src=\"./image_files/spring.png\",width = 400>"
   ]
  },
  {
   "cell_type": "markdown",
   "metadata": {},
   "source": [
    "# Problem\n",
    "\n",
    "Consider the spring-mass arrangement.\n",
    "\n",
    "a) Find the equivalent spring constant $k_{eq}$.  \n",
    "\n",
    "b) Derive the equation  of motion using $k_{eq}$. \n",
    "\n",
    "c) Calculate the natural angular frequency ($\\omega_n$) of the system.\n",
    "\n",
    "<img src=\"./image_files/spring_keq.png\",width = 400>"
   ]
  },
  {
   "cell_type": "code",
   "execution_count": null,
   "metadata": {
    "collapsed": true
   },
   "outputs": [],
   "source": []
  },
  {
   "cell_type": "code",
   "execution_count": null,
   "metadata": {
    "collapsed": true
   },
   "outputs": [],
   "source": []
  },
  {
   "cell_type": "code",
   "execution_count": null,
   "metadata": {
    "collapsed": true
   },
   "outputs": [],
   "source": []
  }
 ],
 "metadata": {
  "kernelspec": {
   "display_name": "Matlab",
   "language": "matlab",
   "name": "matlab_kernel"
  },
  "language_info": {
   "file_extension": ".m",
   "help_links": [
    {
     "text": "MetaKernel Magics",
     "url": "https://github.com/calysto/metakernel/blob/master/metakernel/magics/README.md"
    }
   ],
   "mimetype": "text/x-matlab",
   "name": "octave"
  }
 },
 "nbformat": 4,
 "nbformat_minor": 0
}
