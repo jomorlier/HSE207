{
 "cells": [
  {
   "cell_type": "markdown",
   "metadata": {
    "collapsed": true
   },
   "source": [
    "<br><br>\n",
    "<font size='6'><b>Work and Energy</b></font><br><br>\n",
    "\n",
    "<table style=\"border-style: hidden; border-collapse: collapse;\" width = \"80%\"> \n",
    "    <tr style=\"border-style: hidden; border-collapse: collapse;\">\n",
    "        <td width = 60% style=\"border-style: hidden; border-collapse: collapse;\">\n",
    "\n",
    "        </td>\n",
    "        <td width = 20%>\n",
    "        by Seungchul Lee<br>iSystems Design Lab<br>http://isystems.unist.ac.kr/<br>UNIST\n",
    "        </td>\n",
    "    </tr>\n",
    "</table>\n",
    "\n",
    "Table of Contents\n",
    "<div id=\"toc\"></div>"
   ]
  },
  {
   "cell_type": "markdown",
   "metadata": {},
   "source": [
    "# 1. Work done by Force\n",
    "\n",
    "- work is not a vector, but is a scalar\n",
    "\n",
    "- define as a scalar from an inner product of two vectors\n",
    "\n",
    "\n",
    "<table style=\"border-style: hidden; border-collapse: collapse;\" width = \"96%\"> \n",
    "    <tr style=\"border-style: hidden; border-collapse: collapse;\">\n",
    "        <td width = 48% style=\"border-style: hidden; border-collapse: collapse;\">\n",
    "             <img src=\"./image_files/work01.png\" width = 300>\n",
    "        </td>\n",
    "        <td width = 48%>\n",
    "            $$W = \\vec F \\cdot \\vec x$$\n",
    "        </td>\n",
    "    </tr>\n",
    "    <tr style=\"border-style: hidden; border-collapse: collapse;\">\n",
    "        <td width = 48% style=\"border-style: hidden; border-collapse: collapse;\">\n",
    "             <img src=\"./image_files/work02.png\" width = 300>\n",
    "        </td>\n",
    "        <td width = 48%>\n",
    "            $$\\text{if } \\vec F \\text{ is not constant, } \\vec{F}(\\vec x)$$\n",
    "\n",
    "            $$W = \\int_x \\vec{F}(\\vec x) \\cdot d\\vec{x}$$\n",
    "        </td>\n",
    "    </tr>\n",
    "</table>"
   ]
  },
  {
   "cell_type": "markdown",
   "metadata": {
    "collapsed": true
   },
   "source": [
    "## 1.1. Indicate all work done by each force\n",
    "- example 1\n",
    "<img src=\"./image_files/F_x.png\" width = 300>\n",
    "\n",
    "- example 2 (uniform circular motion)\n",
    "\n",
    "<img src=\"./image_files/circular_motion.png\" width = 300>\n",
    "\n",
    "<br>\n",
    "- example 3\n",
    "<img src=\"./image_files/work04.png\" width = 250>\n",
    "\n",
    "\n",
    "You have an intuition of what physical work is, but does that correspond to our definition of mechanical work? Intuitively, it requires work to push a box along the floor. The longer we push, the more work it requires. The heavier the box (and hence the larger the friction force), the more work is done. Here, our intuition is consistent with our definition.\n",
    "\n",
    "\n",
    "However, holding a heavy box in your arms requires effort, although it requires no work according to our definition. Trying to push a very heavy box without succeeding also requires no mechanical work, but still requires effort on your behalf. The reasons for this discrepancy are related to how we perceive and experience trying to move something, to how our muscles work inside our bodies, and to how we perceive movement: your body may still move somewhat while the box is kept approximately at a constant height. \n",
    "\n",
    "Most importantly, it is important to try to separate the very precise definition of mechanical work from the looser concept from everyday speech.\n",
    "\n"
   ]
  },
  {
   "cell_type": "markdown",
   "metadata": {},
   "source": [
    "# 2. Work-Energy Theorem\n",
    "\n",
    "## 2.1. Work-Energy Theorem with Constant Force \n",
    "\n",
    "<table style=\"border-style: hidden; border-collapse: collapse;\" width = \"80%\"> \n",
    "    <tr style=\"border-style: hidden; border-collapse: collapse;\">\n",
    "        <td width = 40% style=\"border-style: hidden; border-collapse: collapse;\">\n",
    "             <img src=\"./image_files/work05.png\" width = 150>\n",
    "        </td>\n",
    "        <td width = 40%>\n",
    "            $$\n",
    "            \\begin{align*}\n",
    "              F = & \\, \\text{ constant}\\\\\n",
    "              a = & \\,\\, \\frac{F}{m} = \\text{constant}\n",
    "            \\end{align*}\n",
    "            $$\n",
    "        </td>\n",
    "    </tr>\n",
    "</table>\n",
    "\n",
    "$$\\begin{align*}\n",
    "& V_2^2 = V_1^2 + 2ad\\\\\n",
    "\\implies& V_2^2 = V_1^2 + 2\\frac{F}{m}d\\\\\n",
    "\\implies& \\frac{1}{2}mV^2_2 = \\frac{1}{2}mV_1^2 + Fd\\\\\n",
    "\\implies& \\frac{1}{2}mV^2_2 - \\frac{1}{2}V_1^2 = Fd\\\\ \\\\\n",
    "\\therefore \\;&KE_2 -KE_1 = W_{12}\n",
    "\\end{align*}$$\n",
    "\n",
    "<br>\n",
    "where\n",
    "$$\\begin{align*}\n",
    "\\frac{1}{2}mV^2 &=   KE\\\\\n",
    "Fd &= W \\text{ (work done by $F$)}\\\\\n",
    "\\end{align*}$$\n",
    "\n",
    "<br>"
   ]
  },
  {
   "cell_type": "markdown",
   "metadata": {
    "collapsed": true
   },
   "source": [
    "- Kinetic Energy\n",
    "    - $\\frac{1}{2}mV^2$\n",
    "    - engergy quantity that mass $m$ can hold (or have) when it moves with the velocity of $V$\n",
    "    - its ability to do work\n",
    "\n",
    "\n",
    "- Work-Energy Theorem\n",
    "\n",
    "$$\n",
    "F = ma = m\\frac{dv}{dt} \\quad \\quad \\upsilon = \\frac{dx}{dt}$$\n",
    "\n",
    "$$\\begin{align*}\n",
    "W_{AB} &= \\int_A^B F \\cdot dx\\\\\n",
    "&= \\int_A^B m \\frac{d\\upsilon}{dt} \\cdot \\upsilon dt\\\\\n",
    "&= \\int_A^B m\\upsilon d\\upsilon = \\frac{1}{2}m\\upsilon^2\\Big|_A^B = \\frac{1}{2}mV_B^2 - \\frac{1}{2}mV_A^2\\\\\n",
    "&= KE_B - KE_A\n",
    "\\end{align*}$$\n",
    "\n",
    "\n",
    "- the work done by all forces acting on a particle equals the change in the particle's kinetic energy\n",
    "\n",
    "- Question: room temperature when the door of an efrigerator is open?\n",
    "<img src=\"./image_files/fridge.png\" width = 200>"
   ]
  },
  {
   "cell_type": "markdown",
   "metadata": {
    "collapsed": true
   },
   "source": [
    "## 2.2. Work-Energy Theorem with Non-constant Force \n",
    "\n",
    "What if $F$ is not constant?\n",
    "\n",
    "<img src=\"./image_files/work06.png\" width = 300>\n",
    "\n",
    "<table style=\"border-style: hidden; border-collapse: collapse;\" width = \"80%\"> \n",
    "    <tr style=\"border-style: hidden; border-collapse: collapse;\">\n",
    "        <td width = 40% style=\"border-style: hidden; border-collapse: collapse;\">\n",
    "             <img src=\"./image_files/work07.png\" width = 300>\n",
    "        </td>\n",
    "        <td width = 40%>\n",
    "            $$\n",
    "            \\begin{align*}\n",
    "              \\Delta KE &= F(x) \\Delta x\\\\\n",
    "              \\sum \\Delta KE &= \\sum F(x) \\Delta x\\\\\n",
    "              KE_2 - KE_1 &= \\int_{x_1}^{x_2}F(x)dx = G(x_2)-G(x_1)\\\\\n",
    "              &= G_2 - G_1\n",
    "            \\end{align*}\n",
    "            $$\n",
    "        </td>\n",
    "    </tr>\n",
    "    \n",
    "\n",
    "    <tr style=\"border-style: hidden; border-collapse: collapse;\">\n",
    "        <td width = 40% style=\"border-style: hidden; border-collapse: collapse;\">\n",
    "             <img src=\"./image_files/work08.png\" width = 300>\n",
    "        </td>\n",
    "        <td width = 40%>\n",
    "            $$\n",
    "            \\begin{align*}\n",
    "            \\frac{d}{dx}G(x) &= F(x)\\\\\n",
    "            G(x+\\Delta x) - G(x) &= F(x)\\Delta x\n",
    "            \\end{align*}\n",
    "            $$\n",
    "        </td>\n",
    "    </tr>\n",
    "</table>\n"
   ]
  },
  {
   "cell_type": "markdown",
   "metadata": {
    "collapsed": true
   },
   "source": [
    "# 3. Potential Energy and Conservation of Energy \n",
    "\n",
    "$$\n",
    "\\begin{align*}\n",
    "\\\\ \n",
    "KE_2 - G_2 = KE_1 - G_1\\\\ \\\\\n",
    "U(x) = -G(x) & \\text{ : Potential Energy (= has a potential to work)}\\\\ \\\\\n",
    "\\end{align*}$$\n",
    "\n",
    "\n",
    "- Exists  only when $F(x)$ is a function $x$\n",
    "    - Gravity, spring force\n",
    "    - What about friction?\n",
    "\n",
    "\n",
    "- conservation of energy\n",
    "\n",
    "$$F = -\\frac{dU}{dx}$$\n",
    "\n",
    "$$KE_2 + U_2 = KE_1 + U_1 $$\n"
   ]
  },
  {
   "cell_type": "markdown",
   "metadata": {
    "collapsed": true
   },
   "source": [
    "## 3.1. Potential Energy in <font color='red'>Gravity</font>\n",
    "\n",
    "- system: mass + gravity \n",
    "\n",
    "\n",
    "- Gravity\n",
    "\n",
    "<table style=\"border-style: hidden; border-collapse: collapse;\" width = \"96%\"> \n",
    "    <tr style=\"border-style: hidden; border-collapse: collapse;\">\n",
    "        <td width = 48% style=\"border-style: hidden; border-collapse: collapse;\">\n",
    "            <img src=\"./image_files/work09.png\" width = 250>\n",
    "        </td>\n",
    "        <td width = 48%>\n",
    "            $$\\begin{align*}\n",
    "            F_g(y) & = -mg\\\\\n",
    "            U_g(y) & = mgy :\\text{ Potential energy}\\\\ \\\\\n",
    "            -\\frac{dU_g(y)}{dy} & = -mg = F_g(y)\n",
    "            \\end{align*}$$\n",
    "        </td>\n",
    "    </tr>\n",
    "</table>\n"
   ]
  },
  {
   "cell_type": "markdown",
   "metadata": {
    "collapsed": true
   },
   "source": [
    "\n",
    "<table style=\"border-style: hidden; border-collapse: collapse;\" width = \"60%\"> \n",
    "    <tr style=\"border-style: hidden; border-collapse: collapse;\">\n",
    "            <td width = 10% style=\"border-style: hidden; border-collapse: collapse;\">\n",
    "                 <img src=\"./image_files/work11.png\" width = 75>\n",
    "            </td>\n",
    "            <td width = 60%>\n",
    "                $$\n",
    "                a = 0 \\quad W_F \\int^B_A F dy = mg(y_p - y_a) = mgh\n",
    "                $$\n",
    "            </td>\n",
    "    </tr>\n",
    "</table>\n",
    "\n",
    "\n",
    "- Release $B$ with zero velocity\n",
    "    - system = mass\n",
    "    - gravity is an external force\n",
    "$$\\begin{align*}\n",
    "\\frac{1}{2}mV_A^2 - \\frac{1}{2}mV^2_B = W_g = -mg(-h) = mgh\\\\\n",
    "V_A = \\sqrt{2gh}\n",
    "\\end{align*}$$\n",
    "\n",
    "\n",
    "\n",
    "- conservation of energy\n",
    "    - system = mass + gravity\n",
    "    - potential energy is stored at gravity (field)\n",
    "    \n",
    "$$\\begin{align*}\n",
    "\\frac{1}{2}mV_B^2 + mgy_B = W\\frac{1}{2}mV^2_A + mgy_A\\\\\n",
    "V_A = \\sqrt{2gh}\n",
    "\\end{align*}$$"
   ]
  },
  {
   "cell_type": "markdown",
   "metadata": {
    "collapsed": true
   },
   "source": [
    "## 3.2. Potential Energy in <font color='red'>Spring</font>\n",
    "\n",
    "- system = mass + spring\n",
    "<table style=\"border-style: hidden; border-collapse: collapse;\" width = \"96%\"> \n",
    "    <tr style=\"border-style: hidden; border-collapse: collapse;\">\n",
    "        <td width = 48% style=\"border-style: hidden; border-collapse: collapse;\">\n",
    "            <img src=\"./image_files/work12.png\" width = 300>\n",
    "        </td>\n",
    "        <td width = 48%>\n",
    "            $$\\begin{align*}\n",
    "            F_g(x) &= -kx\\\\\n",
    "            U_s(x) &= \\frac{1}{2}kx^2 : \\text{Potential energy}\\\\\n",
    "            -\\frac{dU(x)}{dx} &= -kx = F_g(x)\n",
    "            \\end{align*}$$    \n",
    "        </td>\n",
    "    </tr>\n",
    "</table>\n",
    "\n",
    "<br>\n",
    "- $B$ has higher potential energy by $\\frac{1}{2}kx^2$ than $A$\n",
    "\n",
    "<table style=\"border-style: hidden; border-collapse: collapse;\" width = \"60%\"> \n",
    "    <tr style=\"border-style: hidden; border-collapse: collapse;\">\n",
    "            <td width = 15% style=\"border-style: hidden; border-collapse: collapse;\">\n",
    "                 <img src=\"./image_files/work14.png\" width = 150>\n",
    "            </td>\n",
    "            <td width = 60%>\n",
    "                $$\n",
    "                W_f = \\int^B_A kx dx = \\frac{1}{2}kx^2\\bigg|^B_A = \\frac{1}{2}kx_b^2\n",
    "                $$\n",
    "            </td>\n",
    "    </tr>\n",
    "</table>\n",
    "\n",
    "<br>\n",
    "- Release $B$ with $V_B = 0$\n",
    "    - system: mass\n",
    "    - spring force is an external force\n",
    "<br>\n",
    "$$\\begin{align*}\n",
    "\\frac{1}{2}mV_A^2 - \\frac{1}{2}mV_B^2 = W_S = \\frac{1}{2}KX_B^2\\\\\n",
    "V_A^2 = \\frac{k}{m}X_B^2\\\\\n",
    "V_A = \\pm \\sqrt{\\frac{k}{m}}X_B\n",
    "\\end{align*}$$\n",
    "\n",
    "<br>\n",
    "- Conservation of energy\n",
    "    - system: mass + spring\n",
    "    - potential energy is stored at a spring (field)\n",
    "<br>\n",
    "$$\\begin{align*}\n",
    "\\frac{1}{2}mV_B^2 + \\frac{1}{2}kX_B^2  = W\\frac{1}{2}mV^2_A + \\frac{1}{2}kX_A^2\n",
    "\\end{align*}$$"
   ]
  },
  {
   "cell_type": "markdown",
   "metadata": {
    "collapsed": true
   },
   "source": [
    "# 4. Examples\n",
    "\n",
    "## 4.1. Roller coaster\n",
    "A particle is released at point A and then it travels along a curvilinear track which has a circle track as shown in the below Figure. The radius of circle track is 10 m. Neglect friction.\n",
    "\n",
    "1) If the height of point $A$ is $h$, determine the maximum speed of the particle and its position.\n",
    "\n",
    "2) Determine the minimum height of point $A$ which let the particle remain in contact with the track. \n",
    "\n",
    "$$h = \\frac{5}{2}R$$\n",
    "\n",
    "<img src=\"./image_files/track_2.png\" width=400>"
   ]
  },
  {
   "cell_type": "code",
   "execution_count": 2,
   "metadata": {
    "collapsed": false
   },
   "outputs": [
    {
     "data": {
      "text/html": [
       "<center><iframe src=\"https://www.youtube.com/embed/85gvFbOeu2Q?list=PLBD_gON7g_m2tX6Fxh2M93FblNmeiHF-T\" \n",
       "width=\"560\" height=\"315\" frameborder=\"0\" allowfullscreen></iframe></center>"
      ],
      "text/plain": [
       "<IPython.core.display.HTML object>"
      ]
     },
     "metadata": {},
     "output_type": "display_data"
    }
   ],
   "source": [
    "%%html\n",
    "<center><iframe src=\"https://www.youtube.com/embed/85gvFbOeu2Q?list=PLBD_gON7g_m2tX6Fxh2M93FblNmeiHF-T\" \n",
    "width=\"560\" height=\"315\" frameborder=\"0\" allowfullscreen></iframe></center>"
   ]
  },
  {
   "cell_type": "markdown",
   "metadata": {},
   "source": [
    "## 4.2. Pendulum\n",
    "\n",
    "__simple harmonic motion__\n",
    "\n",
    "<img src=\"./image_files/pendulumn3.png\" width = 250>\n",
    "\n",
    "$$ mgh = \\frac{1}{2}mV^2 = mgh$$"
   ]
  },
  {
   "cell_type": "code",
   "execution_count": 3,
   "metadata": {
    "collapsed": false
   },
   "outputs": [
    {
     "data": {
      "text/html": [
       "<center><iframe src=\"https://www.youtube.com/embed/7FfKaIgArJ8\"\n",
       "width=\"560\" height=\"315\" frameborder=\"0\" allowfullscreen></iframe></center>"
      ],
      "text/plain": [
       "<IPython.core.display.HTML object>"
      ]
     },
     "metadata": {},
     "output_type": "display_data"
    }
   ],
   "source": [
    "%%html\n",
    "<center><iframe src=\"https://www.youtube.com/embed/7FfKaIgArJ8\"\n",
    "width=\"560\" height=\"315\" frameborder=\"0\" allowfullscreen></iframe></center>"
   ]
  },
  {
   "cell_type": "markdown",
   "metadata": {},
   "source": [
    "__Example__\n",
    "\n",
    "\n",
    "The mass $m$ is connected to end of a cord in which its other end is fixed at O. Answer the following questions when the mass $m$ is released from rest at A. (Neglect the friction and mass of cord)\n",
    "\n",
    "1) Determine the tension in the cord just before the cord strikes the fixed bar at B.\n",
    "\n",
    "2) Determine the tension in the cord just after the cord strikes the fixed bar at B.\n",
    "\n",
    "3) Calculate the velocity of mass m as it passes angle $\\theta$.\n",
    "\n",
    "4) Determine the tension in the cord  as it passes angle $\\theta$.\n",
    "\n",
    "<img src=\"./image_files/pendulumn.png\" width = 300>"
   ]
  },
  {
   "cell_type": "markdown",
   "metadata": {},
   "source": [
    "__Example__\n",
    "\n",
    "The mass $m$ at A is given a downward velocity $\\upsilon_0$ and rotates in a circle of radius $l$. \n",
    "\n",
    "a) Find the smallest velocity $\\upsilon_0$ for which the mass will reach point B if AO is a slender rod (or bar) of negligible mass. \n",
    "\n",
    "b) Find the smallest velocity $\\upsilon_0$ for which the mass will reach point B and make a circle if AO is a string.\n",
    "\n",
    "c) If a string AO breaks at the angle $\\theta$, determine a maximum tension that the string can withstand.  \n",
    "\n",
    "<img src=\"./image_files/circular_drop.png\" width = 300>"
   ]
  },
  {
   "cell_type": "markdown",
   "metadata": {},
   "source": [
    "## 4.3.\n",
    "\n",
    "<font size='4'><b>Problem</b></font>\n",
    "<img src = \"./image_files/circular_outside.png\" width = 500>\n",
    "\n",
    "<font size='4'><b>Problem</b></font>\n",
    "<img src = \"./image_files/circular_inside.png\" width = 500>"
   ]
  },
  {
   "cell_type": "code",
   "execution_count": 2,
   "metadata": {
    "collapsed": false
   },
   "outputs": [
    {
     "data": {
      "application/javascript": [
       "$.getScript('https://kmahelona.github.io/ipython_notebook_goodies/ipython_notebook_toc.js')"
      ],
      "text/plain": [
       "<IPython.core.display.Javascript object>"
      ]
     },
     "metadata": {},
     "output_type": "display_data"
    }
   ],
   "source": [
    "%%javascript\n",
    "$.getScript('https://kmahelona.github.io/ipython_notebook_goodies/ipython_notebook_toc.js')"
   ]
  }
 ],
 "metadata": {
  "kernelspec": {
   "display_name": "Matlab",
   "language": "matlab",
   "name": "matlab_kernel"
  },
  "language_info": {
   "file_extension": ".m",
   "help_links": [
    {
     "text": "MetaKernel Magics",
     "url": "https://github.com/calysto/metakernel/blob/master/metakernel/magics/README.md"
    }
   ],
   "mimetype": "text/x-matlab",
   "name": "octave"
  }
 },
 "nbformat": 4,
 "nbformat_minor": 0
}
