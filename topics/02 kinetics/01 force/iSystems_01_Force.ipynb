{
 "cells": [
  {
   "cell_type": "markdown",
   "metadata": {},
   "source": [
    "<br><br>\n",
    "<font size='6'><b>Force</b></font><br><br>\n",
    "\n",
    "<table style=\"border-style: hidden; border-collapse: collapse;\" width = \"80%\"> \n",
    "    <tr style=\"border-style: hidden; border-collapse: collapse;\">\n",
    "        <td width = 60% style=\"border-style: hidden; border-collapse: collapse;\">\n",
    "\n",
    "        </td>\n",
    "        <td width = 20%>\n",
    "        by Seungchul Lee<br>iSystems Design Lab<br>http://isystems.unist.ac.kr/<br>UNIST\n",
    "        </td>\n",
    "    </tr>\n",
    "</table>\n",
    "\n",
    "Table of Contents\n",
    "<div id=\"toc\"></div>"
   ]
  },
  {
   "cell_type": "markdown",
   "metadata": {
    "collapsed": true
   },
   "source": [
    "# 1. Newton's First Law\n",
    "\n",
    "- when <font color='red'>no force</font> acts on a body, it will remain at rest or maintain uniform motion\n",
    "    \n",
    "- when a force is applied to a body, it will change its state of motion"
   ]
  },
  {
   "cell_type": "markdown",
   "metadata": {
    "collapsed": true
   },
   "source": [
    "# 2. Netwon's Second Law\n",
    "\n",
    "## 2.1. Force\n",
    "\n",
    "- Vector\n",
    "\n",
    "$$\\begin{align*}\n",
    "\\vec F &\\propto \\vec a\n",
    "\\\\\n",
    "\\vec F &=  m \\cdot \\vec a\\\\\n",
    "& \\quad\\uparrow\\\\\n",
    "&\\text{Constant}\n",
    "\\end{align*}$$\n",
    "\n",
    "- $\\vec F$ is proportinal to $\\vec a$, and $m$ is nothing but a constant\n",
    "\n",
    "- invisible\n",
    "\n",
    "- change of velocity\n",
    "\n",
    "- Mass is different from weight"
   ]
  },
  {
   "cell_type": "markdown",
   "metadata": {
    "collapsed": true
   },
   "source": [
    "### Same force\n",
    "\n",
    "\n",
    "<table style=\"border-style: hidden; border-collapse: collapse;\" width = \"96%\"> \n",
    "    <tr style=\"border-style: hidden; border-collapse: collapse;\">\n",
    "        <td width = 48% style=\"border-style: hidden; border-collapse: collapse;\">\n",
    "             <img src = \"./image_files/force01.png\" width = 350>\n",
    "        </td>\n",
    "        <td width = 48%>\n",
    "            $$\\begin{align*}\n",
    "            m_1 & a_1 \\\\\n",
    "            m_2 & a_2 \\\\\n",
    "            \\\\\n",
    "            m_1 a_1 &= m_2 a_2\n",
    "            \\end{align*}$$\n",
    "        </td>\n",
    "    </tr>\n",
    "</table>"
   ]
  },
  {
   "cell_type": "markdown",
   "metadata": {
    "collapsed": true
   },
   "source": [
    "### Same mass\n",
    "\n",
    "<table style=\"border-style: hidden; border-collapse: collapse;\" width = \"80%\"> \n",
    "    <tr style=\"border-style: hidden; border-collapse: collapse;\">\n",
    "        <td width = 40% style=\"border-style: hidden; border-collapse: collapse;\">\n",
    "             <img src=\"./image_files/same_mass.png\", width = 200>\n",
    "        </td>\n",
    "        <td width = 40%>\n",
    "            $$\\begin{array}\n",
    "            \\quad & m &\\\\\n",
    "            F_1 & & a_1\\\\\n",
    "            F_2 & & a_2\\\\\n",
    "            &\\vdots&\\\\ \\\\\n",
    "            \\end{array}$$\n",
    "\n",
    "            $$ \\frac{F_1}{a_1}=\\frac{F_2}{a_2}=m $$            \n",
    "        </td>\n",
    "    </tr>\n",
    "</table>\n",
    "\n",
    "<br>\n",
    "\n",
    "- Newton's 2nd Law\n",
    "\n",
    "$$\\begin{array}{c}\n",
    "\\vec F = m \\vec a\\\\\n",
    "\\end{array}$$\n",
    "\n",
    "- Mass is resistance to rate of change of velocity"
   ]
  },
  {
   "cell_type": "markdown",
   "metadata": {
    "collapsed": true
   },
   "source": [
    "## 2.2. Free Body Diagram (F.B.D.)\n",
    "\n",
    "- Force is a vector concept\n",
    "\n",
    "- Total force (or net force) is a vector sum of individual forces <font color='red'>acting on</font> the body from surroundings\n",
    "\n",
    "- Consider one object (the system of interest)\n",
    "\n",
    "<br>\n",
    "<img src = \"./image_files/force02.png\" width = 300>\n",
    "<br>\n",
    "\n",
    "$$\\vec F_T = \\sum\\limits_{i} \\vec{F}_i$$"
   ]
  },
  {
   "cell_type": "code",
   "execution_count": 14,
   "metadata": {
    "collapsed": false
   },
   "outputs": [
    {
     "data": {
      "text/html": [
       "<center><iframe src=\"https://www.youtube.com/embed/pcFtlYNq2O0?list=PLBD_gON7g_m1ZBQxsjMPckhutDgGrzBj3\" \n",
       "width=\"560\" height=\"315\" frameborder=\"0\" allowfullscreen></iframe></center>"
      ],
      "text/plain": [
       "<IPython.core.display.HTML object>"
      ]
     },
     "metadata": {},
     "output_type": "display_data"
    }
   ],
   "source": [
    "%%html\n",
    "<center><iframe src=\"https://www.youtube.com/embed/pcFtlYNq2O0?list=PLBD_gON7g_m1ZBQxsjMPckhutDgGrzBj3\" \n",
    "width=\"560\" height=\"315\" frameborder=\"0\" allowfullscreen></iframe></center>"
   ]
  },
  {
   "cell_type": "code",
   "execution_count": 15,
   "metadata": {
    "collapsed": false
   },
   "outputs": [
    {
     "data": {
      "text/html": [
       "<center><iframe src=\"https://www.youtube.com/embed/cTQ7lDGWgDg?list=PLBD_gON7g_m1ZBQxsjMPckhutDgGrzBj3\" \n",
       "width=\"560\" height=\"315\" frameborder=\"0\" allowfullscreen></iframe></center>"
      ],
      "text/plain": [
       "<IPython.core.display.HTML object>"
      ]
     },
     "metadata": {},
     "output_type": "display_data"
    }
   ],
   "source": [
    "%%html\n",
    "<center><iframe src=\"https://www.youtube.com/embed/cTQ7lDGWgDg?list=PLBD_gON7g_m1ZBQxsjMPckhutDgGrzBj3\" \n",
    "width=\"560\" height=\"315\" frameborder=\"0\" allowfullscreen></iframe></center>"
   ]
  },
  {
   "cell_type": "markdown",
   "metadata": {
    "collapsed": true
   },
   "source": [
    "## 2.3. Gravitational force near the Earth\n",
    "<br>\n",
    "$$\n",
    "\\begin{align*}\n",
    "\\vec g &\\equiv \\text{  gravitational force acting on an unit mass} \\\\\n",
    "\\vec F &= m \\vec g \\text{ : gravitational force acting on mass } m \\end{align*}$$\n",
    "\n",
    "<br>\n",
    "<img src = \"./image_files/force07.png\" width = 500>\n",
    "<br>\n",
    "\n",
    "$$F = m \\cdot a$$\n",
    "\n",
    "$$\\therefore \\; \\space a = g$$\n",
    "\n",
    "- can be used to generate a constant force (or constant acceleration)\n",
    "<br>\n",
    "    <img src=\"./image_files/constant_force.png\", width = 500>"
   ]
  },
  {
   "cell_type": "markdown",
   "metadata": {},
   "source": [
    "## 2.4. Normal force\n",
    "\n",
    "- Perpendicular to the surface (surface being a plane) of _contact_\n",
    "\n",
    "- Here _normal_ refers to the geometry terminology for being perpendicular\n",
    "\n",
    "<br>\n",
    "<img src=\"./image_files/normal_force.png\", width = 600>"
   ]
  },
  {
   "cell_type": "markdown",
   "metadata": {},
   "source": [
    "## 2.5. Spring force (Hooke's law)"
   ]
  },
  {
   "cell_type": "code",
   "execution_count": 16,
   "metadata": {
    "collapsed": false
   },
   "outputs": [
    {
     "data": {
      "text/html": [
       "<center><iframe src=\"https://www.youtube.com/embed/9BRUEIHwaU0\"\n",
       "width=\"420\" height=\"315\" frameborder=\"0\" allowfullscreen></iframe></center>"
      ],
      "text/plain": [
       "<IPython.core.display.HTML object>"
      ]
     },
     "metadata": {},
     "output_type": "display_data"
    }
   ],
   "source": [
    "%%html\n",
    "<center><iframe src=\"https://www.youtube.com/embed/9BRUEIHwaU0\"\n",
    "width=\"420\" height=\"315\" frameborder=\"0\" allowfullscreen></iframe></center>"
   ]
  },
  {
   "cell_type": "markdown",
   "metadata": {
    "collapsed": true
   },
   "source": [
    "<table style=\"border-style: hidden; border-collapse: collapse;\" width = \"96%\"> \n",
    "    <tr style=\"border-style: hidden; border-collapse: collapse;\">\n",
    "        <td width = 48% style=\"border-style: hidden; border-collapse: collapse;\">\n",
    "             <img src=\"./image_files/Hookes-law-springs.png\", width = 150>\n",
    "        </td>\n",
    "        <td width = 48%>\n",
    "            <img src=\"./image_files/HookesLawForSpring-English.png\", width = 230>\n",
    "        </td>\n",
    "    </tr>\n",
    "</table>\n",
    "\n",
    "\n",
    "<table style=\"border-style: hidden; border-collapse: collapse;\" width = \"78%\"> \n",
    "    <tr style=\"border-style: hidden; border-collapse: collapse;\">\n",
    "        <td width = 30% style=\"border-style: hidden; border-collapse: collapse;\">\n",
    "                 $$\\begin{align*} & \\Large F = -kx \\\\ &\\text{(idealized)} \\end{align*}$$\n",
    "        </td>\n",
    "        <td width = 48%>\n",
    "            <img src = \"./image_files/force03.png\" width = 300>\n",
    "        </td>\n",
    "    </tr>\n",
    "</table>\n",
    "\n",
    "- Force is proportional to a displacement (the amount of deformation)\n",
    "    - example: a scale\n",
    "- negative sign: restoring force (directed back toward the equilibrium position of the system)\n",
    "\n",
    "\n",
    "- an idealized spring is a linear device that can generate force $F = -kx$\n",
    "\n",
    "<br>\n",
    "<br>\n",
    "<img src = \"./image_files/force04.png\" width = 300>\n",
    "<br>\n",
    "\n",
    "<table style=\"border-style: hidden; border-collapse: collapse;\" width = \"80%\"> \n",
    "    <tr style=\"border-style: hidden; border-collapse: collapse;\">\n",
    "        <td width = 40% style=\"border-style: hidden; border-collapse: collapse;\">\n",
    "         $$\\text{F.B.D.}$$\n",
    "         <img src = \"./image_files/force05.png\" width = 175>\n",
    "         <br>\n",
    "         $$F = -kx$$\n",
    "        </td>\n",
    "        <td width = 40%>\n",
    "        $$\\text{Kinematics}$$\n",
    "        <img src = \"./image_files/force06.png\" width = 100>        \n",
    "        $$\\underrightarrow{+} \\quad a$$\n",
    "        </td>\n",
    "    </tr>\n",
    "</table>\n",
    "\n",
    "$$\n",
    "\\begin{align*}\n",
    "F &= ma \\\\ -kx &= ma \\end{align*}$$\n",
    "\n",
    "- acceleration is changing over time or displacement (not a constant acceleration any more)\n",
    "\n",
    "$$ -kx = m\\frac{d^2x}{dt^2} \\implies  m\\frac{d^2x(t)}{dt^2} + kx(t) = 0$$"
   ]
  },
  {
   "cell_type": "code",
   "execution_count": 17,
   "metadata": {
    "collapsed": false,
    "scrolled": true
   },
   "outputs": [
    {
     "data": {
      "text/html": [
       "<center><iframe src=\"https://www.youtube.com/embed/KjTa6b6mCv4\" \n",
       "width=\"420\" height=\"315\" frameborder=\"0\" allowfullscreen></iframe></center>"
      ],
      "text/plain": [
       "<IPython.core.display.HTML object>"
      ]
     },
     "metadata": {},
     "output_type": "display_data"
    }
   ],
   "source": [
    "%%html\n",
    "<center><iframe src=\"https://www.youtube.com/embed/KjTa6b6mCv4\" \n",
    "width=\"420\" height=\"315\" frameborder=\"0\" allowfullscreen></iframe></center>"
   ]
  },
  {
   "cell_type": "markdown",
   "metadata": {},
   "source": [
    "### Numerical solution of simple harmonic motion"
   ]
  },
  {
   "cell_type": "code",
   "execution_count": 5,
   "metadata": {
    "collapsed": false
   },
   "outputs": [
    {
     "data": {},
     "execution_count": 5,
     "metadata": {},
     "output_type": "execute_result"
    }
   ],
   "source": [
    "m = 1.0;    % kg\n",
    "k = 100.0;    % N/m\n",
    "g = 9.8;    % m/sˆ2\n",
    "v0 = 0.0;    % in m/s\n",
    "time = 2.0;    % s\n",
    "dt = 0.0001; % s\n",
    "n = ceil(time/dt);\n",
    "t = zeros(n,1);\n",
    "y = zeros(n,1);\n",
    "v = zeros(n,1);\n",
    "a = zeros(n,1);\n",
    "y(1) = 0.0;\n",
    "v(1) = v0;\n",
    "a(1) = -k*y(1) - m*g;\n",
    "\n",
    "for i = 1:n-1\n",
    "    F = -k*y(i) - m*g;\n",
    "    a(i+1) = F/m;\n",
    "    v(i+1) = v(i) + a(i+1)*dt;\n",
    "    y(i+1) = y(i) + v(i+1)*dt;\n",
    "    t(i+1) = t(i) + dt;\n",
    "end"
   ]
  },
  {
   "cell_type": "code",
   "execution_count": 6,
   "metadata": {
    "collapsed": false
   },
   "outputs": [
    {
     "data": {
      "image/png": "[encoded data removed]",
      "text/plain": [
       "<IPython.core.display.Image object>"
      ]
     },
     "metadata": {},
     "output_type": "display_data"
    },
    {
     "data": {},
     "execution_count": 6,
     "metadata": {},
     "output_type": "execute_result"
    }
   ],
   "source": [
    "subplot(3,1,1), plot(t,a), ylabel('a')\n",
    "subplot(3,1,2), plot(t,v), ylabel('v')\n",
    "subplot(3,1,3), plot(t,y), ylabel('y'), xlabel('t')"
   ]
  },
  {
   "cell_type": "markdown",
   "metadata": {},
   "source": [
    "<img src=\"./image_files/spring_oscillation.png\", width = 700>"
   ]
  },
  {
   "cell_type": "markdown",
   "metadata": {
    "collapsed": true
   },
   "source": [
    "# 3. Newton’s Third Law: Action-Reaction Pairs\n",
    "\n",
    "- When <font color = 'red'>two</font> bodies interact via a force, then the force on one body is equal in magnitude and opposite in direction to the force acting on the other body\n",
    "\n",
    "<br>\n",
    "<img src = \"./image_files/force08.png\" width = 350>\n",
    "<br>\n",
    "\n",
    "$$\\vec{F}_{1,2} = - \\vec{F}_{2,1}$$"
   ]
  },
  {
   "cell_type": "markdown",
   "metadata": {
    "collapsed": true
   },
   "source": [
    "<font size='5'><b>Question</b></font>\n",
    "\n",
    "Consider a car at rest on a level surface. We can conclude that the downward gravitational pull of Earth on the car and upward contact force of Earth on it are equal and opposite because\n",
    "\n",
    "\n",
    "1. The two forces from an interaction pair\n",
    "2. The net force on the car is zero\n",
    "3. Neither of the above\n",
    "4. Unsure"
   ]
  },
  {
   "cell_type": "markdown",
   "metadata": {
    "collapsed": true
   },
   "source": [
    "## 3.1. Example\n",
    "\n",
    "<table style=\"border-style: hidden; border-collapse: collapse;\" width = \"96%\"> \n",
    "    <tr style=\"border-style: hidden; border-collapse: collapse;\">\n",
    "        <td width = 48% style=\"border-style: hidden; border-collapse: collapse;\">\n",
    "            <img src = \"./image_files/force09.png\" width = 250>\n",
    "        </td>\n",
    "        <td width = 48%>\n",
    "            <img src = \"./image_files/force10.png\" width = 250>\n",
    "        </td>\n",
    "    </tr>\n",
    "</table>\n",
    "\n",
    "<br>\n",
    "\n",
    "- Think about all forces acting on $m$\n",
    "    - $mg$, pulled down by the earth (non-contact)\n",
    "    - $N$, pushed up by the table (contact)\n",
    "\n",
    "\n",
    "- $m$ is at rest $(a = 0)$\n",
    " \n",
    " $\\implies $ No total external forces $(N = mg)$\n",
    "\n",
    "\n",
    "- Action & Reaction forces between two objects\n",
    "\n",
    "\n",
    "<br>\n",
    "<img src = \"./image_files/force11.png\" width = 500>\n",
    "<br>\n"
   ]
  },
  {
   "cell_type": "markdown",
   "metadata": {
    "collapsed": true
   },
   "source": [
    "## 3.2. Example - push\n",
    "\n",
    "<br>\n",
    "<img src = \"./image_files/force12.png\" width = 400>\n",
    "<br>\n",
    "\n",
    "<table style=\"border-style: hidden; border-collapse: collapse;\" width = \"100%\"> \n",
    "    <tr style=\"border-style: hidden; border-collapse: collapse;\">\n",
    "        <td width = 33% style=\"border-style: hidden; border-collapse: collapse;\">\n",
    "            $$\\text{Person}$$\n",
    "        </td>\n",
    "        <td width = 33% style=\"border-style: hidden; border-collapse: collapse;\">\n",
    "            $$\\text{Bar}$$\n",
    "        </td>\n",
    "        <td width = 34% style=\"border-style: hidden; border-collapse: collapse;\">\n",
    "            $$\\text{Wall}$$\n",
    "        </td>        \n",
    "    </tr>\n",
    "    \n",
    "    <tr style=\"border-style: hidden; border-collapse: collapse;\">\n",
    "        <td width = 33% style=\"border-style: hidden; border-collapse: collapse;\">\n",
    "            <img src = \"./image_files/force13.png\" width = 200>\n",
    "        </td>\n",
    "        <td width = 33 style=\"border-style: hidden; border-collapse: collapse;\">\n",
    "            <img src = \"./image_files/force14.png\" width = 250>\n",
    "        </td>\n",
    "        <td width = 34% style=\"border-style: hidden; border-collapse: collapse;\">\n",
    "            <img src = \"./image_files/force15.png\" width = 130>\n",
    "        </td>    \n",
    "    </tr>\n",
    "</table>\n",
    "\n",
    "$$\\lvert F \\rvert = \\lvert F_{\\text{friction}} \\rvert = \\lvert F_{\\text{wall}} \\rvert$$\n"
   ]
  },
  {
   "cell_type": "markdown",
   "metadata": {
    "collapsed": true
   },
   "source": [
    "## 3.3. Example - pull\n",
    "\n",
    "Person $A$ is pulling a string with force $F$. Tell all forces\n",
    "\n",
    "<img src = \"./image_files/force16.png\" width = 300>\n",
    "\n",
    "---\n",
    "\n",
    "- String\n",
    "\n",
    "<table style=\"border-style: hidden; border-collapse: collapse;\" width = \"96%\"> \n",
    "    <tr style=\"border-style: hidden; border-collapse: collapse;\">\n",
    "        <td width = 48% style=\"border-style: hidden; border-collapse: collapse;\">\n",
    "                 <img src = \"./image_files/force17.png\" width = 400>\n",
    "        </td>\n",
    "        <td width = 48%>\n",
    "            $$\n",
    "\\begin{array}{l}\n",
    "F_1 \\text{ (by wall) }\\\\\n",
    "a_s = 0\n",
    "\\end{array}\n",
    "$$\n",
    "        </td>\n",
    "    </tr>\n",
    "</table>\n",
    "\n",
    "$\\implies F_1 = F \\text{ [from Newton's } 2^{nd} \\text{ Law] }$\n",
    "\n",
    "---\n",
    "\n",
    "- Wall\n",
    "\n",
    "<table style=\"border-style: hidden; border-collapse: collapse;\" width = \"96%\"> \n",
    "    <tr style=\"border-style: hidden; border-collapse: collapse;\">\n",
    "        <td width = 48% style=\"border-style: hidden; border-collapse: collapse;\">\n",
    "             <img src = \"./image_files/force18.png\" width = 250>\n",
    "        </td>\n",
    "        <td width = 48%>\n",
    "            $$ \\text{A wall is pulling a string by $F$}$$\n",
    "            $$\\begin{align*}\n",
    "\\\\ M_w a_w &= F  \\\\\n",
    "a_w &= 0  \\quad (\\because M \\rightarrow \\infty)\n",
    "\\end{align*}$$\n",
    "        </td>\n",
    "    </tr>\n",
    "</table>\n",
    "\n",
    "$\\implies \\text{ A string is pulling a wall by } F \\text{ [from Newton's } 3^{rd} \\text{ Law]}$\n",
    "\n",
    "---\n",
    "\n",
    "- Persion A\n",
    "\n",
    "<table style=\"border-style: hidden; border-collapse: collapse;\" width = \"96%\"> \n",
    "    <tr style=\"border-style: hidden; border-collapse: collapse;\">\n",
    "        <td width = 48% style=\"border-style: hidden; border-collapse: collapse;\">\n",
    "             <img src = \"./image_files/force19.png\" width = 200>\n",
    "        </td>\n",
    "        <td width = 48%>\n",
    "            $$\\text{A string is pulling person A by } F \\text{ [from Newton's } 3^{rd} \\text{ Law]}$$\n",
    "        </td>\n",
    "    </tr>\n",
    "</table>\n",
    "\n",
    "$$a_A = 0 $$\n",
    "\n",
    "$$\\text{Why?} \\quad \\text{Friction}$$\n",
    "\n",
    "<br>\n",
    "<img src = \"./image_files/force20.png\" width = 250>\n",
    "<br>"
   ]
  },
  {
   "cell_type": "markdown",
   "metadata": {
    "collapsed": true
   },
   "source": [
    "<font size='5'><b>Question</b></font>\n",
    "\n",
    "A body of mass $m$ is suspended from a spring with spring constant $k$ in configuration (a) and the spring is stretched $0.1$m. If two identical bodies of mass $\\frac{m}{2}$ are suspended from a spring with the same spring constant $k$ in configuration (b), how much will the spring stretch? Explain your answer.\n",
    "\n",
    "<br>\n",
    "<img src = \"./image_files/force40.png\" width = 300>\n",
    "<br>\n"
   ]
  },
  {
   "cell_type": "markdown",
   "metadata": {},
   "source": [
    "## Exercises"
   ]
  },
  {
   "cell_type": "markdown",
   "metadata": {},
   "source": [
    "<font size='4'><b>Problem 1</b></font>\n",
    "\n",
    "<img src=\"./image_files/problem01.png\", width = 600>"
   ]
  },
  {
   "cell_type": "markdown",
   "metadata": {
    "collapsed": true
   },
   "source": [
    "<font size='4'><b>Problem 2</b></font>\n",
    "\n",
    "<br>\n",
    "<img src = \"./image_files/force37.png\" width = 300>\n",
    "<br>\n",
    "\n",
    "<br>\n",
    "<img src = \"./image_files/force38.png\" width = 300>\n",
    "<br>"
   ]
  },
  {
   "cell_type": "markdown",
   "metadata": {
    "collapsed": true
   },
   "source": [
    "<font size='4'><b>Problem 3</b></font>\n",
    "\n",
    "Find $\\vec a$ for $m$ and $M$\n",
    "\n",
    "<br>\n",
    "<img src = \"./image_files/force39.png\" width = 400>\n",
    "<br>"
   ]
  },
  {
   "cell_type": "markdown",
   "metadata": {
    "collapsed": true
   },
   "source": [
    "# 4. Reference Frame\n",
    "\n",
    "<img src=\"./image_files/reference_example.png\", width = 500>\n",
    "<br>\n",
    "__Inertial Reference Frame__\n",
    "\n",
    "- $A$'s point of view ($A$ reference)\n",
    "\n",
    "$$\\begin{array}{l}\n",
    "A \\text{: at rest}\\\\\n",
    "B \\text{: moves with } +a\n",
    "\\end{array}\n",
    "\\quad\n",
    "\\text{Apply the } 2^{nd} \\text{ Law}$$ \n",
    "\n",
    "<br>\n",
    "<img src = \"./image_files/force21.png\" width = 500>\n",
    "<br>"
   ]
  },
  {
   "cell_type": "markdown",
   "metadata": {
    "collapsed": true
   },
   "source": [
    "__Non Inertial Reference Frame__\n",
    "\n",
    "- $B$'s point of view ($B$ reference)\n",
    "\n",
    "$$\n",
    "\\begin{array}{l}\n",
    "B\\text{: at rest}\\\\\n",
    "A\\text{: moves with } - a_B\n",
    "\\end{array}$$ \n",
    "\n",
    "<br>\n",
    "<img src = \"./image_files/force22.png\" width = 600>\n",
    "<br>\n",
    "\n",
    "- Is Newton’s Law wrong ?\n",
    "\n",
    "    - Observation (reference) frame is accelerating !!!\n",
    "\n",
    "    - Frame moves with $a_B$\n",
    "\n",
    "<br>\n",
    "<img src = \"./image_files/force23_1.png\" width = 450>\n",
    "<br>\n",
    "\n",
    "$$F - m_Ba_B = m_B \\cdot 0$$\n",
    "\n",
    "\n",
    "<br>\n",
    "<img src = \"./image_files/force24_1.png\" width = 450>\n",
    "<br>\n",
    "\n",
    "$$-m_Aa_B = m_A(-a_B)$$"
   ]
  },
  {
   "cell_type": "code",
   "execution_count": 18,
   "metadata": {
    "collapsed": false
   },
   "outputs": [
    {
     "data": {
      "text/html": [
       "<center><iframe src=\"https://www.youtube.com/embed/My2z65pkpuM\" \n",
       "width=\"560\" height=\"315\" frameborder=\"0\" allowfullscreen></iframe></center>"
      ],
      "text/plain": [
       "<IPython.core.display.HTML object>"
      ]
     },
     "metadata": {},
     "output_type": "display_data"
    }
   ],
   "source": [
    "%%html\n",
    "<center><iframe src=\"https://www.youtube.com/embed/My2z65pkpuM\" \n",
    "width=\"560\" height=\"315\" frameborder=\"0\" allowfullscreen></iframe></center>"
   ]
  },
  {
   "cell_type": "code",
   "execution_count": 19,
   "metadata": {
    "collapsed": false
   },
   "outputs": [
    {
     "data": {
      "text/html": [
       "<center><iframe src=\"https://www.youtube.com/embed/y8mzDvpKzfY\" \n",
       "width=\"560\" height=\"315\" frameborder=\"0\" allowfullscreen></iframe></center>"
      ],
      "text/plain": [
       "<IPython.core.display.HTML object>"
      ]
     },
     "metadata": {},
     "output_type": "display_data"
    }
   ],
   "source": [
    "%%html\n",
    "<center><iframe src=\"https://www.youtube.com/embed/y8mzDvpKzfY\" \n",
    "width=\"560\" height=\"315\" frameborder=\"0\" allowfullscreen></iframe></center>"
   ]
  },
  {
   "cell_type": "code",
   "execution_count": 20,
   "metadata": {
    "collapsed": false
   },
   "outputs": [
    {
     "data": {
      "text/html": [
       "<center><iframe src=\"https://www.youtube.com/embed/FjuMvUbT8gA\" \n",
       "width=\"560\" height=\"315\" frameborder=\"0\" allowfullscreen></iframe></center>"
      ],
      "text/plain": [
       "<IPython.core.display.HTML object>"
      ]
     },
     "metadata": {},
     "output_type": "display_data"
    }
   ],
   "source": [
    "%%html\n",
    "<center><iframe src=\"https://www.youtube.com/embed/FjuMvUbT8gA\" \n",
    "width=\"560\" height=\"315\" frameborder=\"0\" allowfullscreen></iframe></center>"
   ]
  },
  {
   "cell_type": "markdown",
   "metadata": {},
   "source": [
    "<font size=\"4\"><b>Summary</b></font>"
   ]
  },
  {
   "cell_type": "code",
   "execution_count": 21,
   "metadata": {
    "collapsed": false
   },
   "outputs": [
    {
     "data": {
      "text/html": [
       "<center><iframe src=\"https://www.youtube.com/embed/z0ijwmYLHhw?list=PLBD_gON7g_m17lIledteTg4CeySTCbEsc\" \n",
       "width=\"560\" height=\"315\" frameborder=\"0\" allowfullscreen></iframe></center>"
      ],
      "text/plain": [
       "<IPython.core.display.HTML object>"
      ]
     },
     "metadata": {},
     "output_type": "display_data"
    }
   ],
   "source": [
    "%%html\n",
    "<center><iframe src=\"https://www.youtube.com/embed/z0ijwmYLHhw?list=PLBD_gON7g_m17lIledteTg4CeySTCbEsc\" \n",
    "width=\"560\" height=\"315\" frameborder=\"0\" allowfullscreen></iframe></center>"
   ]
  },
  {
   "cell_type": "code",
   "execution_count": 22,
   "metadata": {
    "collapsed": false
   },
   "outputs": [
    {
     "data": {
      "text/html": [
       "<center><iframe src=\"https://www.youtube.com/embed/HoCLWQApN1M?list=PLBD_gON7g_m17lIledteTg4CeySTCbEsc\" \n",
       "width=\"560\" height=\"315\" frameborder=\"0\" allowfullscreen></iframe></center>"
      ],
      "text/plain": [
       "<IPython.core.display.HTML object>"
      ]
     },
     "metadata": {},
     "output_type": "display_data"
    }
   ],
   "source": [
    "%%html\n",
    "<center><iframe src=\"https://www.youtube.com/embed/HoCLWQApN1M?list=PLBD_gON7g_m17lIledteTg4CeySTCbEsc\" \n",
    "width=\"560\" height=\"315\" frameborder=\"0\" allowfullscreen></iframe></center>"
   ]
  },
  {
   "cell_type": "markdown",
   "metadata": {},
   "source": [
    "<font size='4'><b>Problem 3 revisited</b></font>\n",
    "\n",
    "Find $\\vec a$ for $m$ and $M$\n",
    "\n",
    "<br>\n",
    "<img src = \"./image_files/force39.png\" width = 400>\n",
    "<br>"
   ]
  },
  {
   "cell_type": "markdown",
   "metadata": {
    "collapsed": true
   },
   "source": [
    "# 5. What is Weight?"
   ]
  },
  {
   "cell_type": "markdown",
   "metadata": {
    "collapsed": true
   },
   "source": [
    "## 5.1. Weight\n",
    "\n",
    "<br>\n",
    "<img src = \"./image_files/force25.png\" width = 500>\n",
    "<br>\n",
    "\n",
    "$$N - mg = m \\cdot 0$$\n",
    "\n",
    "<br>\n",
    "<table style=\"border-style: hidden; border-collapse: collapse;\" width = \"96%\"> \n",
    "    <tr style=\"border-style: hidden; border-collapse: collapse;\">\n",
    "        <td width = 48% style=\"border-style: hidden; border-collapse: collapse;\">\n",
    "                 <img src = \"./image_files/force26.png\" width = 100>\n",
    "        </td>\n",
    "        <td width = 48%>\n",
    "            $$\\text{Spring is compressed by } x$$\n",
    "            $$N = + kx \\\\$$\n",
    "            $$\\text{Weight = Normal force on a scale}$$\n",
    "        </td>\n",
    "    </tr>\n",
    "</table>\n"
   ]
  },
  {
   "cell_type": "markdown",
   "metadata": {},
   "source": [
    "## 5.2. Inside elevator"
   ]
  },
  {
   "cell_type": "markdown",
   "metadata": {
    "collapsed": true
   },
   "source": [
    "### Example - Weight with an upward accelerating Elevator\n",
    "\n",
    "<br>\n",
    "<img src = \"./image_files/force27.png\" width = 500>\n",
    "<br>\n",
    "\n",
    "$$\\begin{align*}\n",
    "N - mg &= ma\\\\\n",
    "N &= m(g+a)\\\\ \\\\\n",
    "\\implies &\\text{gain weight}\n",
    "\\end{align*}$$"
   ]
  },
  {
   "cell_type": "markdown",
   "metadata": {
    "collapsed": true
   },
   "source": [
    "### Example – Weight observed inside an upward Accelerating Elevator\n",
    "\n",
    "<br>\n",
    "<img src = \"./image_files/force28.png\" width = 400>\n",
    "<br>\n",
    "\n",
    "$$N - mg - ma = 0$$"
   ]
  },
  {
   "cell_type": "code",
   "execution_count": 24,
   "metadata": {
    "collapsed": false
   },
   "outputs": [
    {
     "data": {
      "text/html": [
       "<center><iframe src=\"https://www.youtube.com/embed/D-GzuZjawNI\" \n",
       "width=\"420\" height=\"315\" frameborder=\"0\" allowfullscreen></iframe></center>"
      ],
      "text/plain": [
       "<IPython.core.display.HTML object>"
      ]
     },
     "metadata": {},
     "output_type": "display_data"
    }
   ],
   "source": [
    "%%html\n",
    "<center><iframe src=\"https://www.youtube.com/embed/D-GzuZjawNI\" \n",
    "width=\"420\" height=\"315\" frameborder=\"0\" allowfullscreen></iframe></center>"
   ]
  },
  {
   "cell_type": "code",
   "execution_count": 25,
   "metadata": {
    "collapsed": false
   },
   "outputs": [
    {
     "data": {
      "text/html": [
       "<center><iframe src=\"https://www.youtube.com/embed/etcZNxQPPaY\" \n",
       "width=\"420\" height=\"315\" frameborder=\"0\" allowfullscreen></iframe></center>"
      ],
      "text/plain": [
       "<IPython.core.display.HTML object>"
      ]
     },
     "metadata": {},
     "output_type": "display_data"
    }
   ],
   "source": [
    "%%html\n",
    "<center><iframe src=\"https://www.youtube.com/embed/etcZNxQPPaY\" \n",
    "width=\"420\" height=\"315\" frameborder=\"0\" allowfullscreen></iframe></center>"
   ]
  },
  {
   "cell_type": "markdown",
   "metadata": {
    "collapsed": true
   },
   "source": [
    "## 5.3. What is weight in tension?\n",
    "\n",
    "<br>\n",
    "<img src = \"./image_files/weight_tension.png\" width = 500>\n",
    "<br>\n",
    "\n",
    "\n",
    "\n",
    "<table style=\"border-style: hidden; border-collapse: collapse;\" width = \"80%\"> \n",
    "    <tr style=\"border-style: hidden; border-collapse: collapse;\">\n",
    "        <td width = 40% style=\"border-style: hidden; border-collapse: collapse;\">\n",
    "             <img src = \"./image_files/gain_weight2.png\" width = 300>\n",
    "        </td>\n",
    "        <td width = 40%>\n",
    "             $$T - mg = ma$$\n",
    "        </td>\n",
    "    </tr>\n",
    "</table>\n"
   ]
  },
  {
   "cell_type": "markdown",
   "metadata": {
    "collapsed": true
   },
   "source": [
    "## 5.4. Force in a circular motion\n"
   ]
  },
  {
   "cell_type": "markdown",
   "metadata": {
    "collapsed": true
   },
   "source": [
    "<font size='4'><b>Example – Inertial circular frame</b></font>\n",
    "\n",
    "<br>\n",
    "<img src = \"./image_files/force35.png\" width = 500>\n",
    "<br>\n",
    "\n",
    "\n",
    "$$N = mr\\omega^2$$"
   ]
  },
  {
   "cell_type": "markdown",
   "metadata": {
    "collapsed": true
   },
   "source": [
    "<font size='4'><b>Example – Non inertial circular frame</b></font>\n",
    "\n",
    "\n",
    "<br>\n",
    "<img src = \"./image_files/force36.png\" width = 500>\n",
    "<br>\n",
    "\n",
    "$$a = 0$$\n",
    "\n",
    "$$ - N + mr\\omega^2 = m\\cdot0$$\n",
    "\n",
    "$$a_{f_2} \\text{ : feels like a gravitatial acceleration}$$"
   ]
  },
  {
   "cell_type": "markdown",
   "metadata": {},
   "source": [
    "<font size='4'><b>Problem</b></font>\n",
    "<img src = \"./image_files/circular_outside.png\" width = 500>\n",
    "\n",
    "<font size='4'><b>Problem</b></font>\n",
    "<img src = \"./image_files/circular_inside.png\" width = 500>"
   ]
  },
  {
   "cell_type": "markdown",
   "metadata": {
    "collapsed": true
   },
   "source": [
    "# 6. Problems with Pulleys\n",
    "\n",
    "<br>\n",
    "<img src = \"./image_files/force30.png\" width = 350>\n",
    "<br>\n",
    "\n",
    "Ignore (mass, moment of inertia) of a pulley $\\implies$ It only changes directions\n"
   ]
  },
  {
   "cell_type": "markdown",
   "metadata": {
    "collapsed": true
   },
   "source": [
    "## 6.1. Tension on a string is uniform (?)\n",
    "\n",
    "Think of a small piece of string segment\n",
    "\n",
    "<br>\n",
    "<img src = \"./image_files/force31.png\" width = 350>\n",
    "<br>\n",
    "\n",
    "$$\n",
    "\\begin{align*}\n",
    "\\text{if } T_1 &\\neq T_2\\\\\n",
    "T_1 - T_2 &= ma\n",
    "\\end{align*}\n",
    "\\quad\n",
    "\\text{: might have almost infinite acceleration}\n",
    "$$ "
   ]
  },
  {
   "cell_type": "markdown",
   "metadata": {
    "collapsed": true
   },
   "source": [
    "## 6.2. Example - pulley\n",
    "\n",
    "<br>\n",
    "<img src = \"./image_files/force32.png\" width = 600>\n",
    "<br>\n",
    "\n",
    "\n",
    "<br>\n",
    "<img src = \"./image_files/force33.png\" width = 300>\n",
    "<br>\n",
    "\n",
    "<br>\n",
    "<img src = \"./image_files/force34.png\" width = 500>\n",
    "<br>"
   ]
  },
  {
   "cell_type": "markdown",
   "metadata": {},
   "source": [
    "# 7. Question on Newton's Law"
   ]
  },
  {
   "cell_type": "code",
   "execution_count": 26,
   "metadata": {
    "collapsed": false
   },
   "outputs": [
    {
     "data": {
      "text/html": [
       "<center><iframe src=\"https://www.youtube.com/embed/_TeW04Le-rg\" \n",
       "width=\"420\" height=\"315\" frameborder=\"0\" allowfullscreen></iframe></center>"
      ],
      "text/plain": [
       "<IPython.core.display.HTML object>"
      ]
     },
     "metadata": {},
     "output_type": "display_data"
    }
   ],
   "source": [
    "%%html\n",
    "<center><iframe src=\"https://www.youtube.com/embed/_TeW04Le-rg\" \n",
    "width=\"420\" height=\"315\" frameborder=\"0\" allowfullscreen></iframe></center>"
   ]
  },
  {
   "cell_type": "markdown",
   "metadata": {},
   "source": [
    "# 8. Angular Dynamics on Circular Motion\n",
    "\n",
    "We begin our discussion of rotational dynamics and rotational motion. We will start by introducing the concept of torque, the new manifestation of forces that produce a change in rotational motion.\n",
    "\n",
    "- Interactions $\\rightarrow$ Force $\\rightarrow$ Change in __translational__ motion\n",
    "\n",
    "To include rotational motion, the net torque applied to a rigid body will produce a change in rotational motion:\n",
    "\n",
    "- Interactions $\\rightarrow$ Force $\\rightarrow$ Torque $\\rightarrow$ Change in __rotational__ motion\n",
    "\n",
    "## 8.1. Kinematics on circular motion\n",
    "\n",
    "$$\n",
    "\\begin{align*}\\displaystyle \\omega(t) &= \\frac{d\\theta(t)}{dt} &\\text{units:}\\, [\\omega]=\\text{rad/s}\\\\\n",
    "\\displaystyle \\alpha(t) &= \\frac{d\\omega(t)}{dt} = \\frac{d^{2}\\theta(t)}{dt^2} &\\text{units:}\\, [\\alpha] = \\text{rad/s}^2\\end{align*}$$\n",
    "\n",
    "<table style=\"border-style: hidden; border-collapse: collapse;\" width = \"96%\"> \n",
    "    <tr style=\"border-style: hidden; border-collapse: collapse;\">\n",
    "        <td width = 48% style=\"border-style: hidden; border-collapse: collapse;\">\n",
    "            <img src = \"./image_files/angular_acc.png\" width = 400>\n",
    "        </td>\n",
    "        <td width = 48%>\n",
    "            <img src = \"./image_files/torque.png\" width = 350>\n",
    "        </td>\n",
    "    </tr>\n",
    "</table>\n",
    "\n",
    "\n",
    "## 8.2. Torque about an Axis\n",
    "\n",
    "In our study of translational motion under force, the location where the force was applied to the system did not matter. The subsequent translational motion only depended on the magnitude and direction of the net force. We will see that this simplification no longer holds for rotational motion. Forces applied to a body in an attempt to produce rotation will have different effects depending on the location of application and the direction of the applied force. \n",
    "\n",
    "Consider trying to close a door by applying a force to the door near the hinges or in the middle of the door. Getting the door to close is much easier when the force is applied far from the hinges (see force $F_3$ in the figure below). This is why we usually place door handles by the edge opposite the hinges.\n",
    "\n",
    "A well chosen location is not enough to guarantee effective rotation from an applied force. Consider another experiment. Suppose that you stand at the edge of an open door and push the door edge toward the hinges (see the force $F_1$ in the figure below). The door will not rotate, even with a hard push. This indicates that the direction of the force also affects the rotation produced.\n",
    "\n",
    "<img src = \"image_files/door_torque.png\", width = 500>\n",
    "\n",
    "<br>\n",
    "<br>\n",
    "**Definition of Torque**\n",
    "\n",
    "Consider a force $\\vec{F}$ that is applied at a given point **A** as shown in the figure below. We say that this force produces a torque about point Q. The torque produced is a vector $\\vec{\\tau}$ is defined by the vector product : \n",
    "\n",
    "$$\\begin{align} \\vec{\\tau} = \\vec{r}\\times \\vec{F} \\end{align}$$\n",
    "\n",
    "where the vector $\\vec{r}$ is the position vector of the point **A** measured from point **Q**. (see below). \n",
    "\n",
    "\n",
    "<table style=\"border-style: hidden; border-collapse: collapse;\" width = \"90%\"> \n",
    "    <tr style=\"border-style: hidden; border-collapse: collapse;\">\n",
    "        <td width = 45% style=\"border-style: hidden; border-collapse: collapse;\">\n",
    "            <img src = \"image_files/torque_definition.png\",width = 300>\n",
    "        </td>\n",
    "        <td width = 45%>\n",
    "            <img src = \"image_files/TorqueUp.png\", width = 300>\n",
    "        </td>\n",
    "    </tr>\n",
    "</table>\n",
    "<br>\n",
    "\n",
    "\n",
    "<table style=\"border-style: hidden; border-collapse: collapse;\" width = \"96%\"> \n",
    "    <tr style=\"border-style: hidden; border-collapse: collapse;\">\n",
    "        <td width = 48% style=\"border-style: hidden; border-collapse: collapse;\">\n",
    "            <img src = \"./image_files/angular_acc.png\" width = 400>\n",
    "        </td>\n",
    "        <td width = 48%>\n",
    "            <img src = \"./image_files/torque.png\" width = 350>\n",
    "        </td>\n",
    "    </tr>\n",
    "</table>\n",
    "<br>\n",
    "\n",
    "<table style=\"border-style: hidden; border-collapse: collapse;\" width = \"50%\"> \n",
    "    <tr style=\"border-style: hidden; border-collapse: collapse;\">\n",
    "        <td width = 25% style=\"border-style: hidden; border-collapse: collapse;\">\n",
    "            $$\\begin{align*}\n",
    "            \\tau_{net} &\\,\\text{ causes }\\,\\alpha\\\\\n",
    "            \\tau_{net} &= I \\cdot \\alpha\n",
    "            \\end{align*}\n",
    "            $$            \n",
    "        </td>\n",
    "        <td width = 25%>\n",
    "            $$\\begin{align*}\n",
    "            \\text{like } \\, F_{net} &\\,\\text{ causes }\\,a\\\\\n",
    "            \\text{like } \\, F_{net} &= m \\cdot a\n",
    "            \\end{align*}\n",
    "            $$\n",
    "        </td>\n",
    "    </tr>\n",
    "</table>\n",
    "\n",
    "$$\n",
    "\\begin{align*}\n",
    "\\tau &= rF = I \\alpha = mr^2 \\alpha\\\\\n",
    "&\\implies F = m \\cdot r \\alpha \\\\\n",
    "&\\implies F = m a\n",
    "\\end{align*}\n",
    "$$\n",
    "\n",
    "## 8.3. Torque = Moment\n",
    "\n",
    "- How can we generate the moment?\n",
    "\n",
    "- Vector \n",
    "\n",
    "    - Magnitude\n",
    "\n",
    "    - Direction (not obvious)\n",
    "\n",
    "<img src=\"./image_files/statics_02.png\", width = 450>\n"
   ]
  },
  {
   "cell_type": "code",
   "execution_count": 27,
   "metadata": {
    "collapsed": false
   },
   "outputs": [
    {
     "data": {
      "text/html": [
       "<center><iframe src=\"https://www.youtube.com/embed/qDjZf7O20Cg\" \n",
       "width=\"560\" height=\"315\" frameborder=\"0\" allowfullscreen></iframe></center>"
      ],
      "text/plain": [
       "<IPython.core.display.HTML object>"
      ]
     },
     "metadata": {},
     "output_type": "display_data"
    }
   ],
   "source": [
    "%%html\n",
    "<center><iframe src=\"https://www.youtube.com/embed/qDjZf7O20Cg\" \n",
    "width=\"560\" height=\"315\" frameborder=\"0\" allowfullscreen></iframe></center>"
   ]
  },
  {
   "cell_type": "markdown",
   "metadata": {},
   "source": [
    "## 8.3. Moment of Inertia \n",
    "\n",
    "moment of inertia = roational mass\n",
    "<br>\n",
    "$$I = \\sum_{i} m_i r_i^2$$\n",
    "\n",
    "\n",
    "Just as mass quantifies the resistance of an object to changes in linear velocity, the moment of inertia, also called rotational inertia, quantifies the resistance of an object to changes in angular velocity. A system's moment of inertia depends on\n",
    "\n",
    "- about what axis the system rotates,\n",
    "- the mass of the system,\n",
    "- how the mass is distributed—is it far from the rotation axis, or near the rotation axis?\n",
    "\n",
    "\n",
    "moment of inertia for other rigid bodies \n",
    "\n",
    "<img src=\"./image_files/rot_KEMofI2.jpg\", width=700>"
   ]
  },
  {
   "cell_type": "code",
   "execution_count": 28,
   "metadata": {
    "collapsed": false
   },
   "outputs": [
    {
     "data": {
      "text/html": [
       "<center><iframe src=\"https://www.youtube.com/embed/zesZg4FutAE\" \n",
       "width=\"560\" height=\"315\" frameborder=\"0\" allowfullscreen></iframe></center>"
      ],
      "text/plain": [
       "<IPython.core.display.HTML object>"
      ]
     },
     "metadata": {},
     "output_type": "display_data"
    }
   ],
   "source": [
    "%%html\n",
    "<center><iframe src=\"https://www.youtube.com/embed/zesZg4FutAE\" \n",
    "width=\"560\" height=\"315\" frameborder=\"0\" allowfullscreen></iframe></center>"
   ]
  },
  {
   "cell_type": "markdown",
   "metadata": {},
   "source": [
    "**Analogy of Rotational Dynamics with Translation Dynamics (Newton's Second Law)**\n",
    "\n",
    "By analogy to the manner in which force changes velocity\n",
    "\n",
    "$$\\sum\\vec{F}=m \\frac{d \\vec{v}}{dt} =m\\vec{a}$$\n",
    "\n",
    "the angular dynamics and net torque model has a similar equation of change, but for rotational velocity around a fixed axis. If we apply a non zero torque on an object (e.g. push or pull on a door handle), it will result in a change of rotational motion - e.g. the door will start to rotate faster or slower about its (fixed) hinges.\n",
    "\n",
    "By analogy, the angular velocity of an object rotating about an axis that passes through a point $Q$, is changed by the net torque on the object measured about point Q:\n",
    "\n",
    "$$\\sum\\vec{\\tau}_{\\small{Q}} = I_Q \\frac{d \\vec \\omega}{dt} = I_Q \\vec{\\alpha}$$\n",
    "\n",
    "Where $\\alpha$ is the angular acceleration: the rate of change of the angular speed $\\omega$, and $\\displaystyle I_Q$ is the moment of inertia about point $Q$, a quantity that is analogous to the inertial mass in $\\sum\\vec{F}=m\\vec{a}$."
   ]
  },
  {
   "cell_type": "code",
   "execution_count": 2,
   "metadata": {
    "collapsed": false
   },
   "outputs": [
    {
     "data": {
      "application/javascript": [
       "$.getScript('https://kmahelona.github.io/ipython_notebook_goodies/ipython_notebook_toc.js')"
      ],
      "text/plain": [
       "<IPython.core.display.Javascript object>"
      ]
     },
     "metadata": {},
     "output_type": "display_data"
    }
   ],
   "source": [
    "%%javascript\n",
    "$.getScript('https://kmahelona.github.io/ipython_notebook_goodies/ipython_notebook_toc.js')"
   ]
  }
 ],
 "metadata": {
  "kernelspec": {
   "display_name": "Matlab",
   "language": "matlab",
   "name": "matlab_kernel"
  },
  "language_info": {
   "file_extension": ".m",
   "help_links": [
    {
     "text": "MetaKernel Magics",
     "url": "https://github.com/calysto/metakernel/blob/master/metakernel/magics/README.md"
    }
   ],
   "mimetype": "text/x-matlab",
   "name": "octave"
  }
 },
 "nbformat": 4,
 "nbformat_minor": 0
}
