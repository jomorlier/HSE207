{
 "cells": [
  {
   "cell_type": "markdown",
   "metadata": {},
   "source": [
    "<font size=\"6\"><b>Uniform Circular Motion</b></font>\n",
    "\n",
    "Table of Contents\n",
    "<div id=\"toc\"></div>"
   ]
  },
  {
   "cell_type": "markdown",
   "metadata": {},
   "source": [
    "# 1. Velocity\n",
    "\n",
    "\n",
    "|||\n",
    "|-|-|\n",
    "|   <img src=\"./files/circular01.png\", width=250>   |  $$\\begin{align*}\\\\\n",
    "\\vec{v}_{avg} & = \\frac{\\vec r \\left(t + \\Delta t\\right) - \\vec r \\left( t \\right)}{\\Delta t}\\\\\n",
    "\\vec v & = \\lim\\limits_{\\Delta \\rightarrow 0}\\frac{\\vec r \\left( t + \\Delta t \\right) - \\vec r \\left( t \\right)}{\\Delta t}\n",
    "\\end{align*}$$     |\n",
    "\n",
    "<br>\n",
    "<img src=\"./files/circular02.png\", width=250>\n",
    "<br>\n",
    "\n",
    "$$\\vec v \\text{ is tangential to the circle}$$\n"
   ]
  },
  {
   "cell_type": "code",
   "execution_count": 1,
   "metadata": {
    "collapsed": false
   },
   "outputs": [
    {
     "data": {
      "text/html": [
       "<iframe \n",
       "width=\"420\" height=\"315\" src=\"https://www.youtube.com/embed/lNe59oGVLuE\" frameborder=\"0\" allowfullscreen>\n",
       "</iframe>"
      ],
      "text/plain": [
       "<IPython.core.display.HTML object>"
      ]
     },
     "metadata": {},
     "output_type": "display_data"
    }
   ],
   "source": [
    "%%html\n",
    "<iframe \n",
    "width=\"420\" height=\"315\" src=\"https://www.youtube.com/embed/lNe59oGVLuE\" frameborder=\"0\" allowfullscreen>\n",
    "</iframe>"
   ]
  },
  {
   "cell_type": "code",
   "execution_count": 2,
   "metadata": {
    "collapsed": false
   },
   "outputs": [
    {
     "data": {
      "text/html": [
       "<iframe \n",
       "width=\"560\" height=\"315\" src=\"https://www.youtube.com/embed/QQKQzPJj5eg?list=PLBD_gON7g_m33nR6eOy1GmU3b83rL1oho\" \n",
       "frameborder=\"0\" allowfullscreen>\n",
       "</iframe>"
      ],
      "text/plain": [
       "<IPython.core.display.HTML object>"
      ]
     },
     "metadata": {},
     "output_type": "display_data"
    }
   ],
   "source": [
    "%%html\n",
    "<iframe \n",
    "width=\"560\" height=\"315\" src=\"https://www.youtube.com/embed/QQKQzPJj5eg?list=PLBD_gON7g_m33nR6eOy1GmU3b83rL1oho\" \n",
    "frameborder=\"0\" allowfullscreen>\n",
    "</iframe>"
   ]
  },
  {
   "cell_type": "markdown",
   "metadata": {},
   "source": [
    "# 2. Acceleration\n",
    "\n",
    "$$\\vec{a}_{avg} = \\frac{\\vec v \\left(t + \\Delta t\\right) - \\vec v \\left( t \\right)}{\\Delta t}$$\n",
    "\n",
    "<br>\n",
    "<img src=\"./files/circular03.png\", width=250>\n",
    "<br>\n",
    "\n",
    "$$\\text{ What about } \\vec a ?$$  "
   ]
  },
  {
   "cell_type": "code",
   "execution_count": 3,
   "metadata": {
    "collapsed": false
   },
   "outputs": [
    {
     "data": {
      "text/html": [
       "<iframe \n",
       "width=\"420\" height=\"315\" src=\"https://www.youtube.com/embed/kIsQlbNwtPU\" frameborder=\"0\" allowfullscreen>\n",
       "</iframe>"
      ],
      "text/plain": [
       "<IPython.core.display.HTML object>"
      ]
     },
     "metadata": {},
     "output_type": "display_data"
    }
   ],
   "source": [
    "%%html\n",
    "<iframe \n",
    "width=\"420\" height=\"315\" src=\"https://www.youtube.com/embed/kIsQlbNwtPU\" frameborder=\"0\" allowfullscreen>\n",
    "</iframe>\n"
   ]
  },
  {
   "cell_type": "markdown",
   "metadata": {},
   "source": [
    "# 3. Angular Velocity\n",
    "\n",
    "<br>\n",
    "<img src=\"./files/circular04.png\", width=250>\n",
    "<br>\n",
    "\n",
    "$$\\begin{array}\\\\\n",
    " & \\theta &\\triangleq \\frac{l}{r} \\text{ ( radian ) }\\\\ \n",
    " & l &= r \\theta    \\\\\n",
    " & \\dot l &= \\dot r \\theta + r \\dot \\theta\\\\\n",
    "\\Rightarrow & v &= r \\dot \\theta = r\\omega\n",
    "\\end{array}$$"
   ]
  },
  {
   "cell_type": "markdown",
   "metadata": {},
   "source": [
    "## Angular Velocity Vector\n",
    "\n",
    "$$\\begin{array}\\\\\n",
    "\\text{line velocity } &:\\vec v, \\quad \\text{ we know }v = r\\omega\\text{ (only magnitude)}\\\\\n",
    "\\text{angular velocity} &: \\vec {\\omega}\\\\\n",
    "\\\\\n",
    "\\lvert \\vec{\\omega} \\rvert = \\omega\\\\\n",
    "\\vec{\\omega}\\text{ direction?}\\\\\n",
    "\\end{array}$$"
   ]
  },
  {
   "cell_type": "markdown",
   "metadata": {},
   "source": [
    "## Cross Product \n",
    "\n",
    "$$\\vec A \\times \\vec B$$\n",
    "\n",
    "<br>\n",
    "<img src=\"./files/circular05.png\", width=250>\n",
    "<br>\n",
    "\n",
    "$$\\lvert \\vec A \\times \\vec B \\rvert = \\lvert \\vec A \\rvert \\lvert \\vec B \\rvert \\sin \\theta$$\n",
    "\n",
    "Why do we need to know the cross product?"
   ]
  },
  {
   "cell_type": "markdown",
   "metadata": {},
   "source": [
    "$$ \\lvert \\vec{\\omega} \\rvert = \\omega$$\n",
    "\n",
    "<br>\n",
    "<img src=\"./files/circular06.png\", width=200>\n",
    "<br>\n",
    "\n",
    "$$\\vec{\\omega} \\text{ dirction ?}$$"
   ]
  },
  {
   "cell_type": "markdown",
   "metadata": {},
   "source": [
    "## Angular Velocity Vector\n",
    "\n",
    "<br>\n",
    "<img src=\"./files/circular07.png\", width=500>\n",
    "<br>\n",
    "\n",
    "How to represent $v$ and $a$ in a cross product form\n",
    "\n",
    "$$\\begin{array}\\\\\n",
    "\\vec{v} &= \\vec{\\omega} \\times \\vec r\\\\\n",
    "\\vec{a} &= \\vec{\\omega} \\times \\vec v\\\\\n",
    "&= \\vec{\\omega} \\times \\left( \\vec{\\omega} \\times \\vec r\\right)\n",
    "\\end{array}$$"
   ]
  },
  {
   "cell_type": "markdown",
   "metadata": {},
   "source": [
    "## Circular Motion or Spiral Motion?\n",
    "\n",
    "<br>\n",
    "<img src=\"./files/circular08.png\", width=300>\n",
    "<br>"
   ]
  },
  {
   "cell_type": "markdown",
   "metadata": {},
   "source": [
    "## Free Fall or Circular Motion?\n",
    "\n",
    "<br>\n",
    "<img src=\"./files/circular09.png\", width=300>\n",
    "<br>\n",
    "\n",
    "<br>\n",
    "<img src=\"./files/circular10.png\", width=300>\n",
    "<br>\n",
    "\n",
    "<br>\n",
    "<img src=\"./files/circular11.png\", width=300>\n",
    "<br>"
   ]
  },
  {
   "cell_type": "markdown",
   "metadata": {},
   "source": [
    "General motion = translation motion + circular motion"
   ]
  },
  {
   "cell_type": "code",
   "execution_count": 5,
   "metadata": {
    "collapsed": false
   },
   "outputs": [
    {
     "data": {
      "application/javascript": [
       "$.getScript('https://kmahelona.github.io/ipython_notebook_goodies/ipython_notebook_toc.js')"
      ],
      "text/plain": [
       "<IPython.core.display.Javascript object>"
      ]
     },
     "metadata": {},
     "output_type": "display_data"
    }
   ],
   "source": [
    "%%javascript\n",
    "$.getScript('https://kmahelona.github.io/ipython_notebook_goodies/ipython_notebook_toc.js')"
   ]
  }
 ],
 "metadata": {
  "kernelspec": {
   "display_name": "Python 2",
   "language": "python",
   "name": "python2"
  },
  "language_info": {
   "codemirror_mode": {
    "name": "ipython",
    "version": 2
   },
   "file_extension": ".py",
   "mimetype": "text/x-python",
   "name": "python",
   "nbconvert_exporter": "python",
   "pygments_lexer": "ipython2",
   "version": "2.7.10"
  }
 },
 "nbformat": 4,
 "nbformat_minor": 0
}
