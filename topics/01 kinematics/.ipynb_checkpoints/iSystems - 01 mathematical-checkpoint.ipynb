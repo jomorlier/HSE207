{
 "cells": [
  {
   "cell_type": "markdown",
   "metadata": {},
   "source": [
    "# Two Trains and Fly"
   ]
  },
  {
   "cell_type": "markdown",
   "metadata": {},
   "source": [
    "- Two trains are on the same track a distance 100 mi apart heading towards one another, each at a speed of 10 mi/h.\n",
    "\n",
    "- A fly starting out at the front of one train, flies towards the other at a speed of 20 mi/h. \n",
    "\n",
    "- Upon reaching the other train, the fly turns around and continues towards the first train. \n",
    "\n",
    "- How many kilometers does the fly travel before getting squashed in the collision of the two trains?\n",
    "\n",
    "\n",
    "<img src =\"image_files/01.png\", width = 800>\n",
    "\n",
    "- http://mathworld.wolfram.com/TwoTrainsPuzzle.html\n"
   ]
  },
  {
   "cell_type": "markdown",
   "metadata": {},
   "source": [
    "<img src=\"image_files/02.png\", width=400>"
   ]
  },
  {
   "cell_type": "markdown",
   "metadata": {},
   "source": [
    "<img src=\"image_files/03.png\", width=400>"
   ]
  },
  {
   "cell_type": "markdown",
   "metadata": {},
   "source": [
    "# Vector"
   ]
  },
  {
   "cell_type": "markdown",
   "metadata": {},
   "source": [
    "## Vector in Coordinate"
   ]
  },
  {
   "cell_type": "markdown",
   "metadata": {},
   "source": [
    "$$ \\vec{A} = A_x \\hat{x} + A_y \\hat{y} + A_z \\hat{z} = \\begin{bmatrix} A_x \\\\ A_y \\\\ A_z \\end{bmatrix} \\quad\n",
    "\\text{coordinate with} \\; \\{\\hat{x}, \\hat{y}, \\hat{z} \\}$$\n",
    "\n",
    "\n",
    "$$ \\begin{bmatrix} 3 \\\\ 2 \\\\ 1 \\end{bmatrix} = 3 \\begin{bmatrix} 1 \\\\ 0 \\\\ 0 \\end{bmatrix}\n",
    "+ 2 \\begin{bmatrix} 1 \\\\ 0 \\\\ 0 \\end{bmatrix} + 1 \\begin{bmatrix} 0 \\\\ 0 \\\\ 1 \\end{bmatrix}$$"
   ]
  },
  {
   "cell_type": "markdown",
   "metadata": {},
   "source": [
    "## Inner Product"
   ]
  },
  {
   "cell_type": "markdown",
   "metadata": {},
   "source": [
    "$$ \\vec{A} \\cdot \\vec{B} = \\lvert \\vec{A} \\rvert \\lvert \\vec{B} \\rvert \\cos{\\theta} $$"
   ]
  },
  {
   "cell_type": "markdown",
   "metadata": {},
   "source": [
    "<table>\n",
    "<tr>\n",
    "<td>\n",
    "<img src=\"image_files/05.png\", width = 400>\n",
    "</td>\n",
    "<td>\n",
    "<img src=\"image_files/04.png\", width = 200>\n",
    "</td>\n",
    "</tr>\n",
    "</table>"
   ]
  },
  {
   "cell_type": "markdown",
   "metadata": {},
   "source": [
    "$$ \\begin{align} \\vec{A} \\cdot \\vec{B} \\; = \\; & \\left( A_x \\hat{x} + A_y \\hat{y} + A_z \\hat{z} \\right) \\cdot\n",
    "\\left( B_x \\hat{x} + B_y \\hat{y} + B_z \\hat{z} \\right) \\\\ = \\;\n",
    "& A_x B_x \\hat{x} \\cdot \\hat{x} + A_x B_y \\hat{x} \\cdot \\hat{y} + A_x B_z \\hat{x} \\cdot \\hat{z} + \\\\\n",
    "& A_y B_x \\hat{y} \\cdot \\hat{x} + A_y B_y \\hat{y} \\cdot \\hat{y} + A_y B_z \\hat{y} \\cdot \\hat{z} + \\\\\n",
    "& A_z B_x \\hat{z} \\cdot \\hat{x} + A_z B_y \\hat{z} \\cdot \\hat{y} + A_z B_z \\hat{z} \\cdot \\hat{z} \\\\ = \\;\n",
    "& A_x B_x + A_y B_y + A_z B_z \\end{align}$$"
   ]
  },
  {
   "cell_type": "markdown",
   "metadata": {},
   "source": [
    "# Translational Motion"
   ]
  },
  {
   "cell_type": "markdown",
   "metadata": {},
   "source": [
    "## Kinematics in 1-D"
   ]
  },
  {
   "cell_type": "markdown",
   "metadata": {},
   "source": [
    "### 1. constant acceleration \n",
    "\n",
    "$$ \\begin{align} & a = \\text{const.} \\\\\n",
    "& v = v_0 + at \\\\\n",
    "& x = x_0 + v_0 t + \\frac{1}{2} a t^2 \\end{align}$$"
   ]
  },
  {
   "cell_type": "markdown",
   "metadata": {},
   "source": [
    "### 2. 0 acceleration\n",
    "\n",
    "$$ \\begin{align} & a = 0 \\\\\n",
    "& v = v_0 \\\\\n",
    "& x = x_0 + v_0 t \\end{align}$$"
   ]
  },
  {
   "cell_type": "markdown",
   "metadata": {},
   "source": [
    "### 3. free fall\n",
    "\n",
    "$$ \\begin{align} & a = -g \\left(+ \\uparrow \\right) \\\\\n",
    "& v = v_0 -gt \\\\\n",
    "& x = x_0 + v_0 t - \\frac{1}{2}gt^2 \\end{align}$$"
   ]
  },
  {
   "cell_type": "markdown",
   "metadata": {},
   "source": [
    "## Kinematics in 2-D"
   ]
  },
  {
   "cell_type": "markdown",
   "metadata": {},
   "source": [
    "### constant acceleration"
   ]
  },
  {
   "cell_type": "markdown",
   "metadata": {},
   "source": [
    "$$ \\begin{align}\n",
    "\\vec{a} & = \\text{const.} = a_x \\hat{x} + a_y \\hat{y} \\\\\n",
    "\\vec{v} & = \\left( v_{0x} + a_x t \\right) \\hat{x} + \\left( v_{0y} + a_y t \\right) \\hat{y} \\\\\n",
    "\\vec{x} & = \\left( x_{0x} + v_{0x} t + \\frac{1}{2} a_x t^2 \\right) \\hat{x} +\n",
    "\\left( y_{0x} + v_{0y} t + \\frac{1}{2} a_y t^2 \\right) \\hat{y} \\\\\n",
    "\\\\\n",
    "& \\Rightarrow \\; \\text{Two independent 1-D motions} \\end{align}$$"
   ]
  },
  {
   "cell_type": "markdown",
   "metadata": {},
   "source": [
    "## Decomposition in 2-D"
   ]
  },
  {
   "cell_type": "markdown",
   "metadata": {},
   "source": [
    "<img src=\"image_files/06.png\", width = 700>"
   ]
  },
  {
   "cell_type": "markdown",
   "metadata": {},
   "source": [
    "$$\\begin{align} \\textbf{Decompose} \\; & \\text{complicated motion (problem) to} \\\\\n",
    "& \\text{simple motions (subproblems)} \\end{align}$$"
   ]
  },
  {
   "cell_type": "markdown",
   "metadata": {},
   "source": [
    "## Projectile"
   ]
  },
  {
   "cell_type": "markdown",
   "metadata": {},
   "source": [
    "<img src=\"image_files/07.png\", width = 600>"
   ]
  },
  {
   "cell_type": "markdown",
   "metadata": {},
   "source": [
    "$$ \\begin{array}{c} \\text{Given} \\; v \\; \\& \\; \\theta \\\\\n",
    "H = ? \\\\\n",
    "S = ? \\end{array}\n",
    "\\quad \\quad \\quad\n",
    "\\begin{array}{c} \\text{Given} \\; v \\\\\n",
    "\\max\\limits_{\\theta}{S} \\end{array}$$"
   ]
  },
  {
   "cell_type": "markdown",
   "metadata": {},
   "source": [
    "## Different Frames"
   ]
  },
  {
   "cell_type": "markdown",
   "metadata": {},
   "source": [
    "<img src=\"image_files/08.png\", width=600>"
   ]
  },
  {
   "cell_type": "markdown",
   "metadata": {},
   "source": [
    "<br>\n",
    "$$ \\begin{align} & \\text{Mass} \\; M \\; \\text{moves with velocity of} \\; v_x \\\\\n",
    "& \\text{Mass} \\; M \\; \\text{shots ball} \\; m \\; \\text{up with velocity of} \\; v_y \\end{align}$$"
   ]
  },
  {
   "cell_type": "markdown",
   "metadata": {},
   "source": [
    "### For frame 1"
   ]
  },
  {
   "cell_type": "markdown",
   "metadata": {},
   "source": [
    "<img src=\"image_files/09.png\", width = 600>"
   ]
  },
  {
   "cell_type": "markdown",
   "metadata": {},
   "source": [
    "### For frame 2"
   ]
  },
  {
   "cell_type": "markdown",
   "metadata": {},
   "source": [
    "<img src =\"image_files/10.png\">"
   ]
  }
 ],
 "metadata": {
  "kernelspec": {
   "display_name": "Matlab",
   "language": "matlab",
   "name": "matlab_kernel"
  },
  "language_info": {
   "file_extension": ".m",
   "help_links": [
    {
     "text": "MetaKernel Magics",
     "url": "https://github.com/calysto/metakernel/blob/master/metakernel/magics/README.md"
    }
   ],
   "mimetype": "text/x-matlab",
   "name": "octave"
  }
 },
 "nbformat": 4,
 "nbformat_minor": 0
}
