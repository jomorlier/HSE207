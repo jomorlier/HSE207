{
 "cells": [
  {
   "cell_type": "markdown",
   "metadata": {},
   "source": [
    "<font size=\"6\"><b>Mechanisms</b></font>\n",
    "\n",
    "Table of Contents\n",
    "<div id=\"toc\"></div>"
   ]
  },
  {
   "cell_type": "markdown",
   "metadata": {},
   "source": [
    "# 1. Examples of Mechanical Design\n",
    "\n",
    "Computational Design of Mechanical Characters by Disney Research Group"
   ]
  },
  {
   "cell_type": "code",
   "execution_count": 1,
   "metadata": {
    "collapsed": false
   },
   "outputs": [
    {
     "data": {
      "text/html": [
       "<iframe \n",
       "width=\"560\" height=\"315\" src=\"https://www.youtube.com/embed/DfznnKUwywQ\" frameborder=\"0\" allowfullscreen>\n",
       "</iframe>"
      ],
      "text/plain": [
       "<IPython.core.display.HTML object>"
      ]
     },
     "metadata": {},
     "output_type": "display_data"
    }
   ],
   "source": [
    "%%html\n",
    "<iframe \n",
    "width=\"560\" height=\"315\" src=\"https://www.youtube.com/embed/DfznnKUwywQ\" frameborder=\"0\" allowfullscreen>\n",
    "</iframe>"
   ]
  },
  {
   "cell_type": "markdown",
   "metadata": {},
   "source": [
    "Art Student’s 407-Piece Hand-Carved Wooden Clock Literally Writes The Time \n",
    "- http://www.ablogtowatch.com/suzuki-kango-plock-wooden-automaton-time-writing-clock/ \n",
    "- by Tohoku University of Art and Design \n",
    "\n"
   ]
  },
  {
   "cell_type": "code",
   "execution_count": 2,
   "metadata": {
    "collapsed": false
   },
   "outputs": [
    {
     "data": {
      "text/html": [
       "<iframe \n",
       "width=\"560\" height=\"315\" src=\"https://www.youtube.com/embed/tQHKoDC9XVI\" frameborder=\"0\" allowfullscreen>\n",
       "</iframe>"
      ],
      "text/plain": [
       "<IPython.core.display.HTML object>"
      ]
     },
     "metadata": {},
     "output_type": "display_data"
    }
   ],
   "source": [
    "%%html\n",
    "<iframe \n",
    "width=\"560\" height=\"315\" src=\"https://www.youtube.com/embed/tQHKoDC9XVI\" frameborder=\"0\" allowfullscreen>\n",
    "</iframe>"
   ]
  },
  {
   "cell_type": "code",
   "execution_count": 3,
   "metadata": {
    "collapsed": false
   },
   "outputs": [
    {
     "data": {
      "text/html": [
       "<iframe \n",
       "width=\"420\" height=\"315\" src=\"https://www.youtube.com/embed/0gjyVqwrf3E\" frameborder=\"0\" allowfullscreen>\n",
       "</iframe>"
      ],
      "text/plain": [
       "<IPython.core.display.HTML object>"
      ]
     },
     "metadata": {},
     "output_type": "display_data"
    }
   ],
   "source": [
    "%%html\n",
    "<iframe \n",
    "width=\"420\" height=\"315\" src=\"https://www.youtube.com/embed/0gjyVqwrf3E\" frameborder=\"0\" allowfullscreen>\n",
    "</iframe>"
   ]
  },
  {
   "cell_type": "code",
   "execution_count": 10,
   "metadata": {
    "collapsed": false,
    "scrolled": true
   },
   "outputs": [
    {
     "data": {
      "text/html": [
       "<iframe \n",
       "width=\"560\" height=\"315\" src=\"https://www.youtube.com/embed/rPGpOyIOwd8\" frameborder=\"0\" allowfullscreen>\n",
       "</iframe>"
      ],
      "text/plain": [
       "<IPython.core.display.HTML object>"
      ]
     },
     "metadata": {},
     "output_type": "display_data"
    }
   ],
   "source": [
    "%%html\n",
    "<iframe \n",
    "width=\"560\" height=\"315\" src=\"https://www.youtube.com/embed/rPGpOyIOwd8\" frameborder=\"0\" allowfullscreen>\n",
    "</iframe>"
   ]
  },
  {
   "cell_type": "code",
   "execution_count": 5,
   "metadata": {
    "collapsed": false
   },
   "outputs": [
    {
     "data": {
      "text/html": [
       "<iframe width=\"560\" height=\"315\" src=\"https://www.youtube.com/embed/jYHawaGL90o\" frameborder=\"0\" allowfullscreen></iframe>"
      ],
      "text/plain": [
       "<IPython.core.display.HTML object>"
      ]
     },
     "metadata": {},
     "output_type": "display_data"
    }
   ],
   "source": [
    "%%html\n",
    "<iframe width=\"560\" height=\"315\" src=\"https://www.youtube.com/embed/jYHawaGL90o\" frameborder=\"0\" allowfullscreen></iframe>"
   ]
  },
  {
   "cell_type": "markdown",
   "metadata": {
    "collapsed": true
   },
   "source": [
    "## Kinematics\n",
    "\n",
    "- Kinematics refers generally to the study of robot geometry\n",
    "\n",
    "- Given a configuration of a robot (e.g., settings to joint angles), how does this affect the position of its parts?\n",
    "\n",
    "- For a desired position of the robot end-effector, are there joint angles that achieve this position?"
   ]
  },
  {
   "cell_type": "markdown",
   "metadata": {},
   "source": [
    "# 2. Two-link planar robot (SCARA)"
   ]
  },
  {
   "cell_type": "code",
   "execution_count": 6,
   "metadata": {
    "collapsed": false
   },
   "outputs": [
    {
     "data": {
      "text/html": [
       "<iframe \n",
       "width=\"560\" height=\"315\" src=\"https://www.youtube.com/embed/eX2a9kr7tFM\" frameborder=\"0\" allowfullscreen>\n",
       "</iframe>"
      ],
      "text/plain": [
       "<IPython.core.display.HTML object>"
      ]
     },
     "metadata": {},
     "output_type": "display_data"
    }
   ],
   "source": [
    "%%html\n",
    "<iframe \n",
    "width=\"560\" height=\"315\" src=\"https://www.youtube.com/embed/eX2a9kr7tFM\" frameborder=\"0\" allowfullscreen>\n",
    "</iframe>"
   ]
  },
  {
   "cell_type": "markdown",
   "metadata": {
    "collapsed": true
   },
   "source": [
    "<img src=\"./files/scara.png\", width = 400>\n",
    "\n",
    "\n",
    "<table style=\"border-style: hidden; border-collapse: collapse;\" width = \"96%\"> \n",
    "    <tr style=\"border-style: hidden; border-collapse: collapse;\">\n",
    "        <td width = 48% style=\"border-style: hidden; border-collapse: collapse;\">\n",
    "             <img src=\"./files/scara_robot.png\", width = 250>\n",
    "        </td>\n",
    "        <td width = 48%>\n",
    "            $$\\begin{align*}\n",
    "                \\theta_1, \\theta_2&: \\text{joint angles of robot (configuration space, joint space)}\\\\ \\\\\n",
    "                l_1,l_2&: \\text{length of each link (robot parameters)}\\\\ \\\\\n",
    "                x,y&: \\text{position of end effector (task space)}\\\\ \\\\               \n",
    "            \\end{align*}\n",
    "            $$\n",
    "        </td>\n",
    "    </tr>\n",
    "</table>\n",
    "\n",
    "$\\implies$ kinematics is how we move back and forth between these represenations\n",
    "\n",
    "<img src=\"./files/forward_inverse.png\", width = 500>\n",
    "\n",
    "### Forward kinematics of two-link robot\n",
    "\n",
    "- position of \"elbow\" $x_0, y_0$\n",
    "\n",
    "$$\n",
    "\\begin{align*}\n",
    "x_0 &= l_1 \\cos\\theta_1\\\\\n",
    "y_0 &= l_1 \\sin\\theta_1\\\\\n",
    "\\end{align*}\n",
    "$$\n",
    "\n",
    "- So, position of end effector $x,y$\n",
    "$$\n",
    "\\begin{align*}\n",
    "x &= l_1 \\cos\\theta_1 + l_2 \\cos(\\theta_1 + \\theta_2)\\\\\n",
    "y &= l_1 \\sin\\theta_1 + l_2 \\sin(\\theta_1 + \\theta_2)\\\\\n",
    "\\end{align*}\n",
    "$$\n",
    "\n",
    "### Inverse kinematics of two-link robot\n",
    "\n",
    "- Given $x,y$, can we find $\\theta_1, \\theta_2$ that achieve this position ?\n",
    "     \n",
    " $$\n",
    "\\begin{align*}\n",
    "\\theta_2 & = \\pm \\cos^{-1} \\left( \\frac{x^2 + y^2 -l_1^2 - l_2^2}{2l_1 l_2} \\right) \\\\\n",
    "\\theta_1 & = \\tan^{-1} \\left( \\frac{y}{x} \\right) - \\sin^{-1}\\left( \\frac{l_2 \\sin \\theta_2}{x^2 + y^2} \\right)\n",
    "\\end{align*}\n",
    "$$\n",
    "- why does $\\theta_2$ have two values?\n",
    "\n",
    "(do not worry about the above equations and their derivation)\n",
    "\n",
    "### Velocity of robot end effector with respect to joint angles\n",
    "\n",
    "- chain rule\n",
    "$$\n",
    "\\begin{align*}\n",
    "\\frac{dx}{dt} &= -l_1 \\omega_1 \\sin\\theta_1 - l_2 (\\omega_1 + \\omega_2) \\sin(\\theta_1 + \\theta_2)\\\\\n",
    "\\frac{dy}{dt} &= l_1 \\omega_1 \\cos\\theta_1 + l_2 (\\omega_1 + \\omega_2) \\cos(\\theta_1 + \\theta_2)\\\\\n",
    "\\end{align*}\n",
    "$$\n",
    "    where $\\omega_1 = \\frac{d \\theta_1}{dt}$ and $\\omega_2 = \\frac{d \\theta_2}{dt}$\n",
    "\n",
    "\n",
    "- But, it is very tedious. Any other intuitive ways to think ?\n",
    "\n",
    "\n",
    "<br>\n",
    "<table style=\"border-style: hidden; border-collapse: collapse;\" width = \"96%\"> \n",
    "    <tr style=\"border-style: hidden; border-collapse: collapse;\">\n",
    "        <td width = 48% style=\"border-style: hidden; border-collapse: collapse;\">\n",
    "             <img src=\"./files/scara_velocity.png\", width = 300>\n",
    "        </td>\n",
    "        <td width = 48%>\n",
    "            $$\n",
    "\\begin{align*}\n",
    "\\upsilon_2 &= \\upsilon_1 + \\upsilon_{2/1} \\\\ \\\\\n",
    "\\text{where}\\\\\n",
    "\\upsilon_1 &= \\begin{bmatrix} l_1 \\cos \\theta_1 \\\\ l_1 \\sin \\theta_1 \\\\ 0\\end{bmatrix} \\times \n",
    "\\begin{bmatrix} 0 \\\\ 0 \\\\ \\omega_1\\end{bmatrix} \\\\\n",
    "\\upsilon_{2/1} &= \\begin{bmatrix} l_2 \\cos (\\theta_1 + \\theta_2) \\\\ l_2 \\sin(\\theta_1 + \\theta_2) \\\\ 0\\end{bmatrix} \\times \n",
    "\\begin{bmatrix} 0 \\\\ 0 \\\\ \\omega_1 + \\omega_2\\end{bmatrix}\n",
    "\\end{align*}\n",
    "$$\n",
    "\n",
    "        </td>\n",
    "    </tr>\n",
    "</table>"
   ]
  },
  {
   "cell_type": "code",
   "execution_count": null,
   "metadata": {
    "collapsed": false
   },
   "outputs": [],
   "source": [
    "L1 = 1;\n",
    "L2 = 1;\n",
    "theta1 = 15*pi/180;\n",
    "theta2 = 30*pi/180;\n",
    "\n",
    "omega1 = 0.5;\n",
    "omega2 = 0.1;\n",
    "\n",
    "r1 = [L1*cos(theta1) L1*sin(theta1)]';\n",
    "r21 = [L2*cos(theta1 + theta2) L2*sin(theta1 + theta2)]';\n",
    "r2 = r1 + r21;\n",
    "\n",
    "v1= cross([0 0 omega1]', [r1; 0]);\n",
    "v21 = cross([0 0 omega1 + omega2]', [r21; 0]);\n",
    "\n",
    "v = v1 + v21;\n",
    "\n",
    "plot([0,r1(1)],[0,r1(2)],'k-o'), hold on\n",
    "plot([r1(1), r2(1)],[r1(2), r2(2)],'k-o')\n",
    "plot([r1(1), r1(1) + v1(1)],[r1(2), r1(2) + v1(2)],'r-o')\n",
    "plot([r2(1), r2(1) + v21(1)],[r2(2), r2(2) + v21(2)],'r-o')\n",
    "plot([r2(1), r2(1) + v1(1)],[r2(2), r2(2) + v1(2)],'b-o')\n",
    "plot([r2(1), r2(1) + v(1)],[r2(2), r2(2) + v(2)],'m-o'), hold off\n",
    "\n",
    "axis equal, xlim([0 2.5]), grid on"
   ]
  },
  {
   "cell_type": "code",
   "execution_count": 1,
   "metadata": {
    "collapsed": false
   },
   "outputs": [
    {
     "data": {
      "text/html": [
       "\n",
       "<canvas id=\"canvas_1\"></canvas>\n",
       "<script>\n",
       "require([\"http://cs.brynmawr.edu/gxk2013/examples/tools/alphaChannels/processing.js\"], function () {\n",
       "    var processingCode = '\\nint L1 = 100;\\nint L2 = 50;\\n\\n//-----------------------------------------------\\n\\nArrayList<PVector> ppoints = new ArrayList<PVector>();\\nArrayList<PVector> mpoints = new ArrayList<PVector>();\\nint i = 0;\\n\\nvoid setup() {\\n  size(500, 500);\\n  background(255);\\n  calpp();\\n  smooth();\\n}\\n\\nvoid draw() {\\n  background(255);\\n  translate(width/2, height/2);\\n\\n  if (i >= ppoints.size()) {\\n    i = 0;\\n  } else {\\n\\n    for (int j = 0; j <= i; j++) {\\n      PVector temp = ppoints.get(j);\\n      if (abs(i-j) < 100) {\\n        fill(150, map(abs(i-j), 0, 100, 255, 50));\\n      } else {\\n        fill(150, 50);\\n      }\\n      noStroke();\\n      ellipse(temp.x, temp.y, 10, 10);\\n    }\\n\\n    PVector p1 = mpoints.get(i);\\n    PVector p2 = ppoints.get(i);\\n    stroke(0);\\n    fill(0);\\n    ellipse(0, 0,5,5);\\n    ellipse(p1.x, p1.y,5,5);\\n    ellipse(p2.x, p2.y, 10, 10);\\n  \\n    strokeWeight(5);\\n    line(p1.x, p1.y, p2.x, p2.y);\\n    line(0, 0, p1.x, p1.y);\\n\\n    i++;\\n  }\\n}\\n\\n\\nvoid calpp() {\\n  int t1 = 0;\\n  while (t1 < 360) {\\n\\n    PVector p1 = new PVector(L1*cos(radians(-t1)), L1*sin(radians(-t1)));\\n    int t2 = 0;\\n    while (t2 < 360) {\\n\\n      PVector p2 = new PVector(L2*cos(radians(-t2)), L2*sin(radians(-t2)));\\n      ppoints.add(PVector.add(p1, p2));\\n      mpoints.add(p1);\\n\\n      t2 = t2+10;\\n    }\\n    t1 = t1+15;\\n  }\\n}';\n",
       "    var cc = Processing.compile(processingCode);\n",
       "    var processingInstance = new Processing(\"canvas_1\", cc);\n",
       "});\n",
       "</script>\n"
      ],
      "text/plain": [
       "<IPython.core.display.HTML object>"
      ]
     },
     "metadata": {},
     "output_type": "display_data"
    }
   ],
   "source": [
    "%%processing\n",
    "\n",
    "int L1 = 100;\n",
    "int L2 = 50;\n",
    "\n",
    "//-----------------------------------------------\n",
    "\n",
    "ArrayList<PVector> ppoints = new ArrayList<PVector>();\n",
    "ArrayList<PVector> mpoints = new ArrayList<PVector>();\n",
    "int i = 0;\n",
    "\n",
    "void setup() {\n",
    "  size(500, 500);\n",
    "  background(255);\n",
    "  calpp();\n",
    "  smooth();\n",
    "}\n",
    "\n",
    "void draw() {\n",
    "  background(255);\n",
    "  translate(width/2, height/2);\n",
    "\n",
    "  if (i >= ppoints.size()) {\n",
    "    i = 0;\n",
    "  } else {\n",
    "\n",
    "    for (int j = 0; j <= i; j++) {\n",
    "      PVector temp = ppoints.get(j);\n",
    "      if (abs(i-j) < 100) {\n",
    "        fill(150, map(abs(i-j), 0, 100, 255, 50));\n",
    "      } else {\n",
    "        fill(150, 50);\n",
    "      }\n",
    "      noStroke();\n",
    "      ellipse(temp.x, temp.y, 10, 10);\n",
    "    }\n",
    "\n",
    "    PVector p1 = mpoints.get(i);\n",
    "    PVector p2 = ppoints.get(i);\n",
    "    stroke(0);\n",
    "    fill(0);\n",
    "    ellipse(0, 0,5,5);\n",
    "    ellipse(p1.x, p1.y,5,5);\n",
    "    ellipse(p2.x, p2.y, 10, 10);\n",
    "  \n",
    "    strokeWeight(5);\n",
    "    line(p1.x, p1.y, p2.x, p2.y);\n",
    "    line(0, 0, p1.x, p1.y);\n",
    "\n",
    "    i++;\n",
    "  }\n",
    "}\n",
    "\n",
    "\n",
    "void calpp() {\n",
    "  int t1 = 0;\n",
    "  while (t1 < 360) {\n",
    "\n",
    "    PVector p1 = new PVector(L1*cos(radians(-t1)), L1*sin(radians(-t1)));\n",
    "    int t2 = 0;\n",
    "    while (t2 < 360) {\n",
    "\n",
    "      PVector p2 = new PVector(L2*cos(radians(-t2)), L2*sin(radians(-t2)));\n",
    "      ppoints.add(PVector.add(p1, p2));\n",
    "      mpoints.add(p1);\n",
    "\n",
    "      t2 = t2+10;\n",
    "    }\n",
    "    t1 = t1+15;\n",
    "  }\n",
    "}"
   ]
  },
  {
   "cell_type": "markdown",
   "metadata": {
    "collapsed": true
   },
   "source": [
    "### degree of freedom\n",
    "\n",
    "- the number of independent parameters that define its configuration\n",
    "\n",
    "- 4 bar linkage\n",
    "    - 과학상자\n",
    "    - simulation\n",
    "\n",
    "- 5 bar linkage\n"
   ]
  },
  {
   "cell_type": "code",
   "execution_count": null,
   "metadata": {
    "collapsed": true
   },
   "outputs": [],
   "source": []
  },
  {
   "cell_type": "code",
   "execution_count": null,
   "metadata": {
    "collapsed": true
   },
   "outputs": [],
   "source": []
  },
  {
   "cell_type": "code",
   "execution_count": null,
   "metadata": {
    "collapsed": true
   },
   "outputs": [],
   "source": []
  },
  {
   "cell_type": "markdown",
   "metadata": {},
   "source": [
    "# 2. Four-bar linkage\n",
    "\n",
    "<img src=\"files/220px-4_bar_linkage_animated.gif\", width = 400>"
   ]
  },
  {
   "cell_type": "code",
   "execution_count": null,
   "metadata": {
    "collapsed": true
   },
   "outputs": [],
   "source": []
  },
  {
   "cell_type": "markdown",
   "metadata": {},
   "source": [
    "http://mechanicalexpressions.com/explore/kinematics/4-bar-linkage.html"
   ]
  },
  {
   "cell_type": "code",
   "execution_count": null,
   "metadata": {
    "collapsed": true
   },
   "outputs": [],
   "source": []
  },
  {
   "cell_type": "code",
   "execution_count": null,
   "metadata": {
    "collapsed": true
   },
   "outputs": [],
   "source": []
  },
  {
   "cell_type": "code",
   "execution_count": 9,
   "metadata": {
    "collapsed": false
   },
   "outputs": [
    {
     "data": {
      "application/javascript": [
       "$.getScript('https://kmahelona.github.io/ipython_notebook_goodies/ipython_notebook_toc.js')"
      ],
      "text/plain": [
       "<IPython.core.display.Javascript object>"
      ]
     },
     "metadata": {},
     "output_type": "display_data"
    }
   ],
   "source": [
    "%%javascript\n",
    "$.getScript('https://kmahelona.github.io/ipython_notebook_goodies/ipython_notebook_toc.js')"
   ]
  }
 ],
 "metadata": {
  "kernelspec": {
   "display_name": "Matlab",
   "language": "matlab",
   "name": "matlab_kernel"
  },
  "language_info": {
   "file_extension": ".m",
   "help_links": [
    {
     "text": "MetaKernel Magics",
     "url": "https://github.com/calysto/metakernel/blob/master/metakernel/magics/README.md"
    }
   ],
   "mimetype": "text/x-matlab",
   "name": "octave"
  }
 },
 "nbformat": 4,
 "nbformat_minor": 0
}
