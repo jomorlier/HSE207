{
 "cells": [
  {
   "cell_type": "markdown",
   "metadata": {
    "slideshow": {
     "slide_type": "slide"
    }
   },
   "source": [
    "<font size=\"6\"><b>Kinematics</b></font>\n",
    "\n",
    "Table of Contents\n",
    "<div id=\"toc\"></div>"
   ]
  },
  {
   "cell_type": "markdown",
   "metadata": {
    "slideshow": {
     "slide_type": "slide"
    }
   },
   "source": [
    "# 1. Two Trains and Fly\n",
    "\n",
    "- Two trains are on the same track a distance 100 mi apart heading towards one another, each at a speed of 10 mi/h.\n",
    "\n",
    "\n",
    "- A fly starting out at the front of one train, flies towards the other at a speed of 20 mi/h. \n",
    "\n",
    "\n",
    "- Upon reaching the other train, the fly turns around and continues towards the first train. \n",
    "\n",
    "\n",
    "- How many kilometers does the fly travel before getting squashed in the collision of the two trains?\n",
    "\n",
    "<br>\n",
    "<img src =\"./files/01.png\", width = 700>\n",
    "<br>\n",
    "- http://mathworld.wolfram.com/TwoTrainsPuzzle.html\n"
   ]
  },
  {
   "cell_type": "markdown",
   "metadata": {
    "slideshow": {
     "slide_type": "subslide"
    }
   },
   "source": [
    "<table style=\"border-style: hidden; border-collapse: collapse;\" width = \"80%\"> \n",
    "    <tr>\n",
    "        <td width = 400 style=\"border-style: hidden; border-collapse: collapse;\">\n",
    "            <img src=\"./files/02.png\", width=300>\n",
    "        </td>\n",
    "        <td width = 400>\n",
    "            <img src=\"./files/03.png\", width=300>\n",
    "\n",
    "        </td>\n",
    "    </tr>\n",
    "</table>"
   ]
  },
  {
   "cell_type": "markdown",
   "metadata": {
    "slideshow": {
     "slide_type": "slide"
    }
   },
   "source": [
    "# 2. Kinematics\n",
    "\n",
    "- way to describe the motion\n",
    "    - translation \n",
    "    - rotation (will be covered later)"
   ]
  },
  {
   "cell_type": "markdown",
   "metadata": {
    "slideshow": {
     "slide_type": "slide"
    }
   },
   "source": [
    "# 3. Translation motion\n",
    "\n",
    "__Position__\n",
    "\n",
    "- The motion of an object is described by the position, $x(t)$, as a function of time $t$, measured in a given reference system."
   ]
  },
  {
   "cell_type": "markdown",
   "metadata": {
    "slideshow": {
     "slide_type": "fragment"
    }
   },
   "source": [
    "__Velocity__\n",
    "- Displacement\n",
    "\n",
    "  The displacement $\\Delta x(t_1)$ over the time interval from $t=t_1$ to $t=t_1+\\Delta t$ is defined as:\n",
    "\n",
    "$$ \\Delta x(t_1) = x(t_1+\\Delta t) - x(t_1)$$\n",
    "\n",
    "- Average Velocity\n",
    "\n",
    " The average velocity from $\\Delta x(t_1)$ over the time interval from $t=t_1$ to $t=t_1+\\Delta t$ is defined as:\n",
    "\n",
    "$$ \\bar v(t_1) = \\frac{x(t_1+\\Delta t) - x(t_1)}{\\Delta t} = \\frac{\\Delta x(t_1)}{\\Delta t}$$\n",
    "\n",
    "- Instantaneous Velocity\n",
    "\n",
    " The instantaneous velocity is defined as the time derivative of the position:\n",
    "\n",
    "$$ v(t) = \\lim_{\\Delta t \\to 0}\\frac{x(t+\\Delta t) - x(t)}{\\Delta t} = \\frac{d x(t)}{d t} = \\dot x (t)$$"
   ]
  },
  {
   "cell_type": "markdown",
   "metadata": {
    "slideshow": {
     "slide_type": "fragment"
    }
   },
   "source": [
    "__Acceleration__\n",
    "\n",
    "- average acceleration\n",
    "\n",
    " The average acceleration over a time interval $\\Delta t$ from $t$ to $t + \\Delta t$ is:\n",
    "\n",
    "$$ \\bar a(t) = \\frac{v(t+\\Delta t) - v(t)}{\\Delta t} = \\frac{\\Delta v(t)}{\\Delta t}$$\n",
    "\n",
    "- instantaneous acceleration\n",
    "\n",
    " The instantaneous acceleration is defined as:\n",
    "\n",
    "$$ a(t) = \\lim_{\\Delta t \\to 0}\\frac{v(t+\\Delta t) - v(t)}{\\Delta t} = \\frac{d v(t)}{d t} = \\frac{d}{dt}\\frac{dx}{dt} = \\frac{d^2x}{dt^2} = \\dot v (t) = \\ddot x(t)$$"
   ]
  },
  {
   "cell_type": "markdown",
   "metadata": {
    "slideshow": {
     "slide_type": "slide"
    }
   },
   "source": [
    "## 3.1. Constant acceleration \n",
    "<br>\n",
    "$$ \\begin{align*} & a = \\text{const.} \\\\\n",
    "& v = v_0 + at \\\\\n",
    "& x = x_0 + v_0 t + \\frac{1}{2} a t^2 \\end{align*}$$\n",
    "\n",
    "- zero acceleration\n",
    "\n",
    "$$ \\begin{align*} & a = 0 \\\\\n",
    "& v = v_0 \\\\\n",
    "& x = x_0 + v_0 t \\end{align*}$$\n",
    "\n",
    "- free fall\n",
    "\n",
    "$$ \\begin{align*} & a = -g \\quad \\left(+ \\uparrow \\right) \\\\\n",
    "& v = v_0 -gt \\\\\n",
    "& x = x_0 + v_0 t - \\frac{1}{2}gt^2 \\end{align*}$$\n",
    "\n",
    "- for the motion of a falling tennis ball when there is no air resistance\n"
   ]
  },
  {
   "cell_type": "code",
   "execution_count": 12,
   "metadata": {
    "collapsed": false,
    "slideshow": {
     "slide_type": "subslide"
    }
   },
   "outputs": [
    {
     "data": {
      "image/png": "[encoded data removed]",
      "text/plain": [
       "<IPython.core.display.Image object>"
      ]
     },
     "metadata": {},
     "output_type": "display_data"
    },
    {
     "data": {},
     "execution_count": 12,
     "metadata": {},
     "output_type": "execute_result"
    }
   ],
   "source": [
    "% 1D\n",
    "\n",
    "g = -9.8;\n",
    "y0 = 1.6;\n",
    "v0 = 3;\n",
    "t = 0:0.05:1;\n",
    "y = y0 + v0*t + 1/2*g*t.^2;\n",
    "\n",
    "plot(t,y)\n",
    "xlabel('time in sec')\n",
    "ylabel('y')"
   ]
  },
  {
   "cell_type": "markdown",
   "metadata": {
    "slideshow": {
     "slide_type": "slide"
    }
   },
   "source": [
    "## 3.2. Kinematics in 2-D\n",
    "<br>\n",
    "$$ \\begin{align*}\n",
    "\\vec{a} & = \\text{const.} = a_x \\hat{x} + a_y \\hat{y} \\\\ \\\\\n",
    "\\vec{v} & = \\left( v_{0x} + a_x t \\right) \\hat{x} + \\left( v_{0y} + a_y t \\right) \\hat{y} \\\\ \\\\\n",
    "\\vec{r} & = \\left( x_{0x} + v_{0x} t + \\frac{1}{2} a_x t^2 \\right) \\hat{x} +\n",
    "\\left( y_{0x} + v_{0y} t + \\frac{1}{2} a_y t^2 \\right) \\hat{y} \\\\\n",
    "\\\\\n",
    "& \\implies \\; \\text{Two independent 1-D motions} \\end{align*}$$"
   ]
  },
  {
   "cell_type": "code",
   "execution_count": 13,
   "metadata": {
    "collapsed": false,
    "slideshow": {
     "slide_type": "subslide"
    }
   },
   "outputs": [
    {
     "data": {
      "image/png": "[encoded data removed]",
      "text/plain": [
       "<IPython.core.display.Image object>"
      ]
     },
     "metadata": {},
     "output_type": "display_data"
    },
    {
     "data": {},
     "execution_count": 13,
     "metadata": {},
     "output_type": "execute_result"
    }
   ],
   "source": [
    "% 2D\n",
    "\n",
    "g = -9.8;\n",
    "\n",
    "x0 = 0;\n",
    "y0 = 1.6;\n",
    "\n",
    "v0x = 3;\n",
    "v0y = 3;\n",
    "\n",
    "t = 0:0.05:1;\n",
    "x = x0 + v0x*t;\n",
    "y = y0 + v0y*t + 1/2*g*t.^2;\n",
    "\n",
    "plot(x,y), axis equal\n",
    "xlabel('x')\n",
    "ylabel('y')"
   ]
  },
  {
   "cell_type": "markdown",
   "metadata": {
    "slideshow": {
     "slide_type": "slide"
    }
   },
   "source": [
    "# 4. Data fitting from experimental measurements\n",
    "\n",
    "## 4.1. Zero acceleration\n",
    "\n",
    "- experiment video\n",
    "- regression (data fitting or approximation)"
   ]
  },
  {
   "cell_type": "code",
   "execution_count": 14,
   "metadata": {
    "collapsed": false,
    "slideshow": {
     "slide_type": "subslide"
    }
   },
   "outputs": [
    {
     "data": {
      "text/html": [
       "<iframe width=\"560\" height=\"315\" \n",
       "src=\"https://www.youtube.com/embed/IS3i_E9Lzw4?list=PLBD_gON7g_m33nR6eOy1GmU3b83rL1oho\" frameborder=\"0\" allowfullscreen>\n",
       "</iframe>"
      ],
      "text/plain": [
       "<IPython.core.display.HTML object>"
      ]
     },
     "metadata": {},
     "output_type": "display_data"
    }
   ],
   "source": [
    "%%html\n",
    "<iframe width=\"560\" height=\"315\" \n",
    "src=\"https://www.youtube.com/embed/IS3i_E9Lzw4?list=PLBD_gON7g_m33nR6eOy1GmU3b83rL1oho\" frameborder=\"0\" allowfullscreen>\n",
    "</iframe>"
   ]
  },
  {
   "cell_type": "code",
   "execution_count": 15,
   "metadata": {
    "collapsed": false,
    "slideshow": {
     "slide_type": "subslide"
    }
   },
   "outputs": [
    {
     "data": {
      "image/png": "[encoded data removed]",
      "text/plain": [
       "<IPython.core.display.Image object>"
      ]
     },
     "metadata": {},
     "output_type": "display_data"
    },
    {
     "data": {
      "text/plain": [
       "b =\r\n",
       "\r\n",
       "   -0.0019\r\n",
       "   -0.8621"
      ]
     },
     "execution_count": 15,
     "metadata": {},
     "output_type": "execute_result"
    }
   ],
   "source": [
    "t = [0 0.033 0.067 0.1 0.133 0.167 0.2 0.233 0.267 0.3 0.334 0.367 0.4 0.434 0.467]';\n",
    "x = [0.001 -0.028 -0.059 -0.087 -0.118 -0.149 -0.175 -0.21 -0.237 -0.262 -0.285 -0.312 -0.344 -0.378 -0.405]';\n",
    "\n",
    "plot(t,x,'.')\n",
    "xlabel('t')\n",
    "ylabel('measured x')\n",
    "\n",
    "T = [ones(size(t)) t];\n",
    "b = regress(x,T)"
   ]
  },
  {
   "cell_type": "code",
   "execution_count": 16,
   "metadata": {
    "collapsed": false,
    "slideshow": {
     "slide_type": "subslide"
    }
   },
   "outputs": [
    {
     "data": {
      "image/png": "[encoded data removed]",
      "text/plain": [
       "<IPython.core.display.Image object>"
      ]
     },
     "metadata": {},
     "output_type": "display_data"
    },
    {
     "data": {},
     "execution_count": 16,
     "metadata": {},
     "output_type": "execute_result"
    }
   ],
   "source": [
    "T = [ones(size(t)) t];\n",
    "b = regress(x,T);\n",
    "\n",
    "tp = 0:0.01:0.5;\n",
    "plot(t,x,'o'), hold on\n",
    "plot(tp,b(1)+b(2)*tp), hold off\n",
    "\n",
    "xlabel('t')\n",
    "ylabel('height')"
   ]
  },
  {
   "cell_type": "markdown",
   "metadata": {
    "slideshow": {
     "slide_type": "slide"
    }
   },
   "source": [
    "## 4.2. Constant acceleration\n",
    "\n",
    "- experiment video\n",
    "\n",
    "- regression (data fitting or approximation)"
   ]
  },
  {
   "cell_type": "code",
   "execution_count": 1,
   "metadata": {
    "collapsed": false,
    "slideshow": {
     "slide_type": "subslide"
    }
   },
   "outputs": [
    {
     "data": {
      "text/html": [
       "<iframe width=\"560\" height=\"315\" \n",
       "src=\"https://www.youtube.com/embed/Mc6nAtbSMn0?list=PLBD_gON7g_m33nR6eOy1GmU3b83rL1oho\" frameborder=\"0\" allowfullscreen>\n",
       "</iframe>"
      ],
      "text/plain": [
       "<IPython.core.display.HTML object>"
      ]
     },
     "metadata": {},
     "output_type": "display_data"
    }
   ],
   "source": [
    "%%html\n",
    "<iframe width=\"560\" height=\"315\" \n",
    "src=\"https://www.youtube.com/embed/Mc6nAtbSMn0?list=PLBD_gON7g_m33nR6eOy1GmU3b83rL1oho\" frameborder=\"0\" allowfullscreen>\n",
    "</iframe>"
   ]
  },
  {
   "cell_type": "markdown",
   "metadata": {
    "slideshow": {
     "slide_type": "subslide"
    }
   },
   "source": [
    "Experiment result\n",
    "\n",
    "<img src=\"./files/free_fall.png\", width=500>\n",
    "\n",
    "<br>\n",
    "\n",
    "<img src=\"./files/free_fall_data.png\", width=600>"
   ]
  },
  {
   "cell_type": "code",
   "execution_count": 18,
   "metadata": {
    "collapsed": false,
    "slideshow": {
     "slide_type": "subslide"
    }
   },
   "outputs": [
    {
     "data": {
      "image/png": "[encoded data removed]",
      "text/plain": [
       "<IPython.core.display.Image object>"
      ]
     },
     "metadata": {},
     "output_type": "display_data"
    },
    {
     "data": {},
     "execution_count": 18,
     "metadata": {},
     "output_type": "execute_result"
    }
   ],
   "source": [
    "t = 0:0.1:0.5;\n",
    "t = t(:);\n",
    "y = [1.6 1.55 1.4 1.16 0.82 0.39]';\n",
    "\n",
    "plot(t,y,'o')\n",
    "\n",
    "xlabel('t')\n",
    "ylabel('height')"
   ]
  },
  {
   "cell_type": "code",
   "execution_count": 19,
   "metadata": {
    "collapsed": false,
    "slideshow": {
     "slide_type": "subslide"
    }
   },
   "outputs": [
    {
     "data": {
      "image/png": "[encoded data removed]",
      "text/plain": [
       "<IPython.core.display.Image object>"
      ]
     },
     "metadata": {},
     "output_type": "display_data"
    },
    {
     "data": {
      "text/plain": [
       "b =\r\n",
       "\r\n",
       "    1.5968\r\n",
       "   -4.8382"
      ]
     },
     "execution_count": 19,
     "metadata": {},
     "output_type": "execute_result"
    }
   ],
   "source": [
    "t = 0:0.1:0.5;\n",
    "t = t(:);\n",
    "y = [1.6 1.55 1.4 1.16 0.82 0.39]';\n",
    "\n",
    "T = [ones(size(t)) t.^2];\n",
    "b = regress(y,T)\n",
    "\n",
    "plot(t,y,'o'), hold on\n",
    "\n",
    "tp = 0:0.01:0.5;\n",
    "plot(tp,b(1)+b(2)*tp.^2), hold off\n",
    "\n",
    "xlabel('t')\n",
    "ylabel('height')"
   ]
  },
  {
   "cell_type": "markdown",
   "metadata": {
    "slideshow": {
     "slide_type": "subslide"
    }
   },
   "source": [
    "We can learn about the magnitude of the gravity\n",
    "\n",
    "$$ 4.8383 \\approx \\frac{9.8}{2}$$"
   ]
  },
  {
   "cell_type": "markdown",
   "metadata": {
    "slideshow": {
     "slide_type": "slide"
    }
   },
   "source": [
    "# 5. Data analysis from acceleration\n",
    "\n",
    "- Usually, we do not know the position as a function of time. Instead, we want to determine the motion based on measurements of the acceleration (or velocity)\n",
    "\n",
    "\n",
    "- Integral\n",
    "\n",
    "\n",
    "$$\n",
    "\\begin{align*}\n",
    "v(t) &= v(t_i) + \\int_{t_i}^{t} a(s)\\; ds\\\\\n",
    "x(t) &= x(t_i) + \\int_{t_i}^{t} v(s)\\; ds\n",
    "\\end{align*}\n",
    "$$\n",
    "\n",
    "__discrete integration (Euler's method)__\n",
    "\n",
    "\n",
    "<br>\n",
    "$$\n",
    "\\begin{align*}\n",
    "\\upsilon(t_0) &= \\upsilon_0\\\\\n",
    "x(t_0) &= x_0\\\\ \\\\\n",
    "\\upsilon(t_1) &= \\upsilon(t_0) + a(t_0)\\Delta t\\\\\n",
    "x(t_1) &= x(t_0) + \\upsilon(t_0)\\Delta t\\\\ \\\\\n",
    "& \\vdots\\\\ \\\\\n",
    "\\upsilon(t_i + \\Delta t) &= \\upsilon(t_i) + a(t_i)\\Delta t\\\\\n",
    "x(t_i + \\Delta t) &= x(t_i) + \\upsilon(t_i)\\Delta t\n",
    "\\end{align*}\n",
    "$$"
   ]
  },
  {
   "cell_type": "code",
   "execution_count": 20,
   "metadata": {
    "collapsed": false,
    "slideshow": {
     "slide_type": "subslide"
    }
   },
   "outputs": [
    {
     "data": {
      "image/png": "[encoded data removed]",
      "text/plain": [
       "<IPython.core.display.Image object>"
      ]
     },
     "metadata": {},
     "output_type": "display_data"
    },
    {
     "data": {},
     "execution_count": 20,
     "metadata": {},
     "output_type": "execute_result"
    }
   ],
   "source": [
    "path = [pwd, '\\files'];\n",
    "temp = load([path,'\\therocket.dat']);\n",
    "\n",
    "t = temp(:,1);\n",
    "a = temp(:,2);\n",
    "\n",
    "plot(t,a)\n",
    "xlabel('time in sec')\n",
    "ylabel('a [m/s^2]')"
   ]
  },
  {
   "cell_type": "code",
   "execution_count": 21,
   "metadata": {
    "collapsed": false,
    "slideshow": {
     "slide_type": "subslide"
    }
   },
   "outputs": [
    {
     "data": {
      "image/png": "[encoded data removed]",
      "text/plain": [
       "<IPython.core.display.Image object>"
      ]
     },
     "metadata": {},
     "output_type": "display_data"
    },
    {
     "data": {},
     "execution_count": 21,
     "metadata": {},
     "output_type": "execute_result"
    }
   ],
   "source": [
    "%plot -s 600,800\n",
    "\n",
    "t = temp(:,1);\n",
    "a = temp(:,2);\n",
    "\n",
    "dt = t(2) - t(1);\n",
    "\n",
    "n = length(t);\n",
    "v = zeros(n,1);\n",
    "x = zeros(n,1);\n",
    "\n",
    "v(1) = 0;\n",
    "x(1) = 0;\n",
    "\n",
    "for i = 1:n-1\n",
    "    v(i+1) = v(i) + a(i)*dt;\n",
    "    x(i+1) = x(i) + v(i)*dt;\n",
    "end\n",
    "\n",
    "subplot(3,1,1), plot(t,x), ylabel('x [m]')\n",
    "subplot(3,1,2), plot(t,v), ylabel('v [m/s]')\n",
    "subplot(3,1,3), plot(t,a), ylabel('a [m/s^2]'), xlabel('t [s]')"
   ]
  },
  {
   "cell_type": "markdown",
   "metadata": {
    "slideshow": {
     "slide_type": "slide"
    }
   },
   "source": [
    "# 6. Data analysis from position\n",
    "\n",
    "__Motion of a falling tennis ball__\n",
    "\n",
    "- motion (position, or displacement) $\\rightarrow$ velocity and acceleration\n",
    "\n",
    "- derivative\n",
    "\n",
    "$$\n",
    "\\begin{align*}\n",
    "v(t_i) &\\approx \\frac{r(t_{i}+\\Delta t)-r(t_i)}{\\Delta t}\\\\\n",
    "a(t_i) &\\approx \\frac{v(t_{i}+\\Delta t)-v(t_i)}{\\Delta t}\n",
    "\\end{align*}\n",
    "$$"
   ]
  },
  {
   "cell_type": "code",
   "execution_count": 2,
   "metadata": {
    "collapsed": false,
    "slideshow": {
     "slide_type": "subslide"
    }
   },
   "outputs": [
    {
     "data": {
      "text/html": [
       "<iframe \n",
       "width=\"560\" height=\"315\" src=\"https://www.youtube.com/embed/HBsRfaix2SA\" frameborder=\"0\" allowfullscreen>\n",
       "</iframe>"
      ],
      "text/plain": [
       "<IPython.core.display.HTML object>"
      ]
     },
     "metadata": {},
     "output_type": "display_data"
    }
   ],
   "source": [
    "%%html\n",
    "<iframe \n",
    "width=\"560\" height=\"315\" src=\"https://www.youtube.com/embed/HBsRfaix2SA\" frameborder=\"0\" allowfullscreen>\n",
    "</iframe>"
   ]
  },
  {
   "cell_type": "code",
   "execution_count": 23,
   "metadata": {
    "collapsed": false,
    "slideshow": {
     "slide_type": "subslide"
    }
   },
   "outputs": [
    {
     "data": {
      "image/png": "[encoded data removed]",
      "text/plain": [
       "<IPython.core.display.Image object>"
      ]
     },
     "metadata": {},
     "output_type": "display_data"
    },
    {
     "data": {},
     "execution_count": 23,
     "metadata": {},
     "output_type": "execute_result"
    }
   ],
   "source": [
    "%plot -s 500,400\n",
    "\n",
    "path = [pwd, '\\files'];\n",
    "temp = load([path,'\\fallingtennisball02.dat']);\n",
    "\n",
    "t = temp(:,1);\n",
    "y = temp(:,2);\n",
    "plot(t,y)\n",
    "xlabel('t [s]');\n",
    "ylabel('y [m]');"
   ]
  },
  {
   "cell_type": "markdown",
   "metadata": {
    "slideshow": {
     "slide_type": "subslide"
    }
   },
   "source": [
    "$$\n",
    "\\begin{align*}\n",
    "v(t_i) &\\approx \\frac{r(t_{i}+\\Delta t)-r(t_i)}{\\Delta t}\\\\\n",
    "a(t_i) &\\approx \\frac{v(t_{i}+\\Delta t)-v(t_i)}{\\Delta t}\n",
    "\\end{align*}\n",
    "$$"
   ]
  },
  {
   "cell_type": "code",
   "execution_count": 24,
   "metadata": {
    "collapsed": false,
    "slideshow": {
     "slide_type": "subslide"
    }
   },
   "outputs": [
    {
     "data": {
      "image/png": "[encoded data removed]",
      "text/plain": [
       "<IPython.core.display.Image object>"
      ]
     },
     "metadata": {},
     "output_type": "display_data"
    },
    {
     "data": {},
     "execution_count": 24,
     "metadata": {},
     "output_type": "execute_result"
    }
   ],
   "source": [
    "%plot -s 600,800\n",
    "n = length(t);\n",
    "dt = t(2) - t(1);\n",
    "\n",
    "v = zeros(n-1,1);\n",
    "for i = 1:n-1\n",
    "    v(i) = (y(i+1) - y(i))/dt;\n",
    "end\n",
    "\n",
    "a = zeros(n-2,1);\n",
    "for i = 1:n-2\n",
    "    a(i) = (v(i+1) - v(i))/dt;\n",
    "end\n",
    "\n",
    "subplot(3,1,1), plot(t,y), ylabel('x [m]')\n",
    "subplot(3,1,2), plot(t(2:n),v), ylabel('v [m/s]')\n",
    "subplot(3,1,3), plot(t(3:n),a), ylabel('a [m/s^2]'), xlabel('t [s]')"
   ]
  },
  {
   "cell_type": "code",
   "execution_count": 25,
   "metadata": {
    "collapsed": false,
    "slideshow": {
     "slide_type": "subslide"
    }
   },
   "outputs": [
    {
     "data": {
      "image/png": "[encoded data removed]",
      "text/plain": [
       "<IPython.core.display.Image object>"
      ]
     },
     "metadata": {},
     "output_type": "display_data"
    },
    {
     "data": {},
     "execution_count": 25,
     "metadata": {},
     "output_type": "execute_result"
    }
   ],
   "source": [
    "%plot -s 500,400\n",
    "\n",
    "imax = max(find(t<=0.5));\n",
    "\n",
    "plot(t(3:imax),a(3:imax));\n",
    "xlabel('t [s]')\n",
    "ylabel('a [m/sˆ2]')"
   ]
  },
  {
   "cell_type": "markdown",
   "metadata": {
    "collapsed": true,
    "slideshow": {
     "slide_type": "fragment"
    }
   },
   "source": [
    "The acceleration is clearly not a constant in this case. It starts at $−9.8m/s^2$, but its magnitude becomes smaller\n",
    "with time. (This is due to air resistance)."
   ]
  },
  {
   "cell_type": "markdown",
   "metadata": {
    "collapsed": true,
    "slideshow": {
     "slide_type": "slide"
    }
   },
   "source": [
    "# 7. Vector\n",
    "\n",
    "## Vector in Coordinate\n",
    "<br>\n",
    "$$ \\vec{A} = A_x \\hat{x} + A_y \\hat{y} + A_z \\hat{z} = \\begin{bmatrix} A_x \\\\ A_y \\\\ A_z \\end{bmatrix} \\quad\n",
    "\\text{coordinate with} \\; \\{\\hat{x}, \\hat{y}, \\hat{z} \\}$$\n",
    "\n",
    "<br>\n",
    "for example,\n",
    "\n",
    "$$ \\begin{bmatrix} 3 \\\\ 2 \\\\ 1 \\end{bmatrix} = 3 \\begin{bmatrix} 1 \\\\ 0 \\\\ 0 \\end{bmatrix}\n",
    "+ 2 \\begin{bmatrix} 1 \\\\ 0 \\\\ 0 \\end{bmatrix} + 1 \\begin{bmatrix} 0 \\\\ 0 \\\\ 1 \\end{bmatrix}$$\n",
    "\n",
    "- each component can be treated as a scalar"
   ]
  },
  {
   "cell_type": "markdown",
   "metadata": {
    "slideshow": {
     "slide_type": "subslide"
    }
   },
   "source": [
    "## Decomposition in 2-D\n",
    "\n",
    "<img src=\"./files/06.png\", width = 700>\n",
    "<br>\n",
    "\n",
    "Decompose complicated motion (problem) to simple motions (subproblems)"
   ]
  },
  {
   "cell_type": "markdown",
   "metadata": {
    "collapsed": true,
    "slideshow": {
     "slide_type": "subslide"
    }
   },
   "source": [
    "## Projectile\n",
    "\n",
    "<img src=\"./files/07.png\", width = 600>\n",
    "\n",
    "$$ \\begin{array}{c} \\text{Given} \\; \\upsilon \\; \\text{and} \\; \\theta \\\\\n",
    "H = ? \\\\\n",
    "S = ? \\end{array}\n",
    "\\quad \\quad \\quad\n",
    "\\begin{array}{c} \\text{Given} \\; \\upsilon \\\\\n",
    "\\max\\limits_{\\theta}{S} \\end{array}$$"
   ]
  },
  {
   "cell_type": "code",
   "execution_count": 3,
   "metadata": {
    "collapsed": false,
    "slideshow": {
     "slide_type": "subslide"
    }
   },
   "outputs": [
    {
     "data": {
      "text/html": [
       "<iframe \n",
       "width=\"420\" height=\"315\" src=\"https://www.youtube.com/embed/JCampZIwL5w\" frameborder=\"0\" allowfullscreen>\n",
       "</iframe>"
      ],
      "text/plain": [
       "<IPython.core.display.HTML object>"
      ]
     },
     "metadata": {},
     "output_type": "display_data"
    }
   ],
   "source": [
    "%%html\n",
    "<iframe \n",
    "width=\"420\" height=\"315\" src=\"https://www.youtube.com/embed/JCampZIwL5w\" frameborder=\"0\" allowfullscreen>\n",
    "</iframe>"
   ]
  },
  {
   "cell_type": "markdown",
   "metadata": {
    "slideshow": {
     "slide_type": "subslide"
    }
   },
   "source": [
    "## Different Frames\n",
    "\n",
    "<img src=\"./files/08.png\", width=600>\n",
    "\n",
    "<br>\n",
    "$$ \\begin{align*} & \\text{Mass} \\; M \\; \\text{moves with velocity of} \\; v_x \\\\\n",
    "& \\text{Mass} \\; M \\; \\text{shots ball} \\; m \\; \\text{up with velocity of} \\; v_y \\end{align*}$$"
   ]
  },
  {
   "cell_type": "markdown",
   "metadata": {
    "collapsed": true,
    "slideshow": {
     "slide_type": "subslide"
    }
   },
   "source": [
    "__For frame 1__\n",
    "\n",
    "<img src=\"./files/09.png\", width = 500>\n",
    "\n",
    "__For frame 2__\n",
    "\n",
    "<img src =\"./files/10.png\", width = 100>"
   ]
  },
  {
   "cell_type": "code",
   "execution_count": 11,
   "metadata": {
    "collapsed": false,
    "slideshow": {
     "slide_type": "subslide"
    }
   },
   "outputs": [
    {
     "data": {
      "text/html": [
       "<iframe \n",
       "width=\"420\" height=\"315\" src=\"https://www.youtube.com/embed/WxqrOYzTRmw\" frameborder=\"0\" allowfullscreen>\n",
       "</iframe>"
      ],
      "text/plain": [
       "<IPython.core.display.HTML object>"
      ]
     },
     "metadata": {},
     "output_type": "display_data"
    }
   ],
   "source": [
    "%%html\n",
    "<iframe \n",
    "width=\"420\" height=\"315\" src=\"https://www.youtube.com/embed/WxqrOYzTRmw\" frameborder=\"0\" allowfullscreen>\n",
    "</iframe>"
   ]
  },
  {
   "cell_type": "code",
   "execution_count": 12,
   "metadata": {
    "collapsed": false,
    "slideshow": {
     "slide_type": "subslide"
    }
   },
   "outputs": [
    {
     "data": {
      "text/html": [
       "<iframe \n",
       "width=\"420\" height=\"315\" src=\"https://www.youtube.com/embed/bZXlcDssxhY\" frameborder=\"0\" allowfullscreen>\n",
       "</iframe>"
      ],
      "text/plain": [
       "<IPython.core.display.HTML object>"
      ]
     },
     "metadata": {},
     "output_type": "display_data"
    }
   ],
   "source": [
    "%%html\n",
    "<iframe \n",
    "width=\"420\" height=\"315\" src=\"https://www.youtube.com/embed/bZXlcDssxhY\" frameborder=\"0\" allowfullscreen>\n",
    "</iframe>"
   ]
  },
  {
   "cell_type": "markdown",
   "metadata": {
    "slideshow": {
     "slide_type": "slide"
    }
   },
   "source": [
    "# 8. Uniform Circular Motion\n",
    "\n",
    "- motion of an object traveling at a constant speed on a circular path"
   ]
  },
  {
   "cell_type": "markdown",
   "metadata": {
    "slideshow": {
     "slide_type": "slide"
    }
   },
   "source": [
    "## 8.1. Velocity\n",
    "\n",
    "$$\\text{change of vector}: \\underbrace{\\text{change of magnitude}}_{\\text{translation}} + \\underbrace{\\text{change of direction}}_{\\text{circular motion}}$$\n",
    "\n",
    "\n",
    "<table style=\"border-style: hidden; border-collapse: collapse;\" width = \"80%\"> \n",
    "    <tr>\n",
    "        <td width = 350 style=\"border-style: hidden; border-collapse: collapse;\">\n",
    "            <img src = \"./files/circular01.png\" width = 250>\n",
    "        </td>\n",
    "        <td width = 350 style=\"border-style: hidden; border-collapse: collapse;\">\n",
    "            <img src=\"./files/circular02.png\", width=200>\n",
    "        </td>\n",
    "        <td width = 350>\n",
    "            $$\\begin{align*}\\\\\n",
    "\\vec{v}_{avg} & = \\frac{\\vec r \\left(t + \\Delta t\\right) - \\vec r \\left( t \\right)}{\\Delta t}\\\\\n",
    "\\vec v & = \\lim\\limits_{\\Delta \\rightarrow 0}\\frac{\\vec r \\left( t + \\Delta t \\right) - \\vec r \\left( t \\right)}{\\Delta t}\n",
    "\\end{align*}$$\n",
    "        </td>\n",
    "    </tr>\n",
    "</table>\n",
    "\n",
    "\n",
    "$$\\vec{\\upsilon} \\text{ is tangential to the circle}$$\n"
   ]
  },
  {
   "cell_type": "code",
   "execution_count": 6,
   "metadata": {
    "collapsed": false,
    "slideshow": {
     "slide_type": "subslide"
    }
   },
   "outputs": [
    {
     "data": {
      "text/html": [
       "<iframe \n",
       "width=\"420\" height=\"315\" src=\"https://www.youtube.com/embed/lNe59oGVLuE\" frameborder=\"0\" allowfullscreen>\n",
       "</iframe>"
      ],
      "text/plain": [
       "<IPython.core.display.HTML object>"
      ]
     },
     "metadata": {},
     "output_type": "display_data"
    }
   ],
   "source": [
    "%%html\n",
    "<iframe \n",
    "width=\"420\" height=\"315\" src=\"https://www.youtube.com/embed/lNe59oGVLuE\" frameborder=\"0\" allowfullscreen>\n",
    "</iframe>"
   ]
  },
  {
   "cell_type": "code",
   "execution_count": 7,
   "metadata": {
    "collapsed": false,
    "slideshow": {
     "slide_type": "subslide"
    }
   },
   "outputs": [
    {
     "data": {
      "text/html": [
       "<iframe \n",
       "width=\"560\" height=\"315\" src=\"https://www.youtube.com/embed/QQKQzPJj5eg?list=PLBD_gON7g_m33nR6eOy1GmU3b83rL1oho\" \n",
       "frameborder=\"0\" allowfullscreen>\n",
       "</iframe>"
      ],
      "text/plain": [
       "<IPython.core.display.HTML object>"
      ]
     },
     "metadata": {},
     "output_type": "display_data"
    }
   ],
   "source": [
    "%%html\n",
    "<iframe \n",
    "width=\"560\" height=\"315\" src=\"https://www.youtube.com/embed/QQKQzPJj5eg?list=PLBD_gON7g_m33nR6eOy1GmU3b83rL1oho\" \n",
    "frameborder=\"0\" allowfullscreen>\n",
    "</iframe>"
   ]
  },
  {
   "cell_type": "markdown",
   "metadata": {
    "slideshow": {
     "slide_type": "slide"
    }
   },
   "source": [
    "## 8.2. Acceleration\n",
    "\n",
    "<table style=\"border-style: hidden; border-collapse: collapse;\" width = \"80%\"> \n",
    "    <tr>\n",
    "        <td width = 400 style=\"border-style: hidden; border-collapse: collapse;\">\n",
    "            <img src=\"./files/circular03.png\", width=250>\n",
    "        </td>\n",
    "        <td width = 400 style=\"border-style: hidden; border-collapse: collapse;\">            \n",
    "            $$\\begin{align*}\\\\\n",
    "\\vec{a}_{avg} & = \\frac{\\vec v \\left(t + \\Delta t\\right) - \\vec v \\left( t \\right)}{\\Delta t}\\\\\n",
    "\\vec a & = \\lim\\limits_{\\Delta \\rightarrow 0}\\frac{\\vec v \\left( t + \\Delta t \\right) - \\vec v \\left( t \\right)}{\\Delta t}\n",
    "\\end{align*}$$\n",
    "\n",
    "        </td>\n",
    "    </tr>\n",
    "</table>\n",
    "\n",
    "<table style=\"border-style: hidden; border-collapse: collapse;\" width = \"80%\"> \n",
    "    <tr>\n",
    "        <td width = 400 style=\"border-style: hidden; border-collapse: collapse;\">\n",
    "            <img src=\"./files/uniform_circle_motion.gif\", width=250>\n",
    "        </td>\n",
    "        <td width = 400 style=\"border-style: hidden; border-collapse: collapse;\">            \n",
    "            <img src=\"./files/ucm.gif\", width=250>\n",
    "        </td>\n",
    "    </tr>\n",
    "</table>\n",
    "\n",
    "\n"
   ]
  },
  {
   "cell_type": "code",
   "execution_count": 31,
   "metadata": {
    "collapsed": false,
    "slideshow": {
     "slide_type": "subslide"
    }
   },
   "outputs": [
    {
     "data": {
      "text/html": [
       "<iframe \n",
       "width=\"420\" height=\"315\" src=\"https://www.youtube.com/embed/kIsQlbNwtPU\" frameborder=\"0\" allowfullscreen>\n",
       "</iframe>"
      ],
      "text/plain": [
       "<IPython.core.display.HTML object>"
      ]
     },
     "metadata": {},
     "output_type": "display_data"
    }
   ],
   "source": [
    "%%html\n",
    "<iframe \n",
    "width=\"420\" height=\"315\" src=\"https://www.youtube.com/embed/kIsQlbNwtPU\" frameborder=\"0\" allowfullscreen>\n",
    "</iframe>"
   ]
  },
  {
   "cell_type": "markdown",
   "metadata": {
    "slideshow": {
     "slide_type": "slide"
    }
   },
   "source": [
    "## 8.3. Angular Velocity\n",
    "\n",
    "\n",
    "<table style=\"border-style: hidden; border-collapse: collapse;\" width = \"80%\"> \n",
    "    <tr>\n",
    "        <td width = 400 style=\"border-style: hidden; border-collapse: collapse;\">\n",
    "            <img src=\"./files/circular04.png\", width=250>\n",
    "        </td>\n",
    "        <td width = 400 style=\"border-style: hidden; border-collapse: collapse;\">            \n",
    "            $$\\begin{array}\\\\\n",
    " & \\theta &\\triangleq \\frac{l}{r} \\text{ ( radian ) }\\\\ \n",
    " & l &= r \\theta    \\\\\n",
    " & \\dot l &= \\dot r \\theta + r \\dot \\theta\\\\\n",
    "\\Rightarrow & v &= r \\dot \\theta = r\\omega\n",
    "\\end{array}$$\n",
    "        </td>\n",
    "    </tr>\n",
    "</table>"
   ]
  },
  {
   "cell_type": "markdown",
   "metadata": {
    "slideshow": {
     "slide_type": "fragment"
    }
   },
   "source": [
    "### Angular Velocity Vector\n",
    "\n",
    "$$\\begin{array}\\\\\n",
    "\\text{line velocity } &:\\vec v, \\quad \\text{ we know }v = r\\omega\\text{ (only magnitude)}\\\\\n",
    "\\text{angular velocity} &: \\vec {\\omega}\\\\\n",
    "\\\\\n",
    "\\lvert \\vec{\\omega} \\rvert = \\omega\\\\\n",
    "\\vec{\\omega}\\text{ direction?}\\\\\n",
    "\\end{array}$$"
   ]
  },
  {
   "cell_type": "markdown",
   "metadata": {
    "slideshow": {
     "slide_type": "subslide"
    }
   },
   "source": [
    "### Cross Product \n",
    "\n",
    "$$\\vec A \\times \\vec B$$\n",
    "\n",
    "<br>\n",
    "<img src=\"./files/circular05.png\", width=250>\n",
    "<br>\n",
    "\n",
    "$$\\lvert \\vec A \\times \\vec B \\rvert = \\lvert \\vec A \\rvert \\lvert \\vec B \\rvert \\sin \\theta$$\n",
    "\n",
    "Why do we need to know the cross product?"
   ]
  },
  {
   "cell_type": "markdown",
   "metadata": {
    "slideshow": {
     "slide_type": "subslide"
    }
   },
   "source": [
    "$$ \\lvert \\vec{\\omega} \\rvert = \\omega$$\n",
    "\n",
    "<br>\n",
    "<img src=\"./files/circular06.png\", width=200>\n",
    "<br>\n",
    "\n",
    "$$\\vec{\\omega} \\text{ dirction ?}$$"
   ]
  },
  {
   "cell_type": "markdown",
   "metadata": {
    "slideshow": {
     "slide_type": "subslide"
    }
   },
   "source": [
    "### Angular Velocity and Angular Acceleration Vector\n",
    "\n",
    "<br>\n",
    "<img src=\"./files/circular07.png\", width=500>\n",
    "<br>\n",
    "\n",
    "How to represent $\\vec{v}$ and $\\vec{a}$ in a cross product form\n",
    "\n",
    "$$\n",
    "\\large\n",
    "\\begin{array}\\\\\n",
    "\\vec{v} &= \\vec{\\omega} \\times \\vec r\\\\\n",
    "\\vec{a} &= \\vec{\\omega} \\times \\vec v\\\\\n",
    "&= \\vec{\\omega} \\times \\left( \\vec{\\omega} \\times \\vec r\\right)\\\\ \\\\\n",
    "\\lvert\\vec{a}\\rvert & = r\\omega^2 = \\frac{v^2}{r}\n",
    "\\end{array}\n",
    "$$"
   ]
  },
  {
   "cell_type": "markdown",
   "metadata": {
    "slideshow": {
     "slide_type": "subslide"
    }
   },
   "source": [
    "### Circular Motion or Spiral Motion?\n",
    "\n",
    "$$\\lvert\\vec{a}\\rvert  > \\frac{v^2}{r}\\; ?$$\n",
    "\n",
    "<br>\n",
    "<img src=\"./files/circular08.png\", width=300>\n",
    "<br>"
   ]
  },
  {
   "cell_type": "markdown",
   "metadata": {
    "slideshow": {
     "slide_type": "subslide"
    }
   },
   "source": [
    "## 8.4. Free Fall or Circular Motion?\n",
    "\n",
    "\n",
    "<table style=\"border-style: hidden; border-collapse: collapse;\" width = \"80%\"> \n",
    "    <tr>\n",
    "        <td width = 400 style=\"border-style: hidden; border-collapse: collapse;\">\n",
    "            <img src=\"./files/circular09.png\", width=250>\n",
    "        </td>\n",
    "        <td width = 400 style=\"border-style: hidden; border-collapse: collapse;\">\n",
    "            <img src=\"./files/circular10.png\", width=250>\n",
    "        </td>\n",
    "        <td width = 400 style=\"border-style: hidden; border-collapse: collapse;\">\n",
    "            <img src=\"./files/circular11.png\", width=250>\n",
    "        </td>        \n",
    "    </tr>\n",
    "</table>\n",
    "\n",
    "- what about satellites ?"
   ]
  },
  {
   "cell_type": "markdown",
   "metadata": {
    "slideshow": {
     "slide_type": "slide"
    }
   },
   "source": [
    "# 9. General motion = translation motion + circular motion"
   ]
  },
  {
   "cell_type": "markdown",
   "metadata": {
    "collapsed": true,
    "slideshow": {
     "slide_type": "subslide"
    }
   },
   "source": [
    "- particle moving along the curved path\n",
    "\n",
    "<img src=\"./files/curved_motion.png\", width = 500>\n",
    "\n",
    "- projectile\n",
    "<img src=\"./files/free_fall_a.png\", width = 500>"
   ]
  },
  {
   "cell_type": "code",
   "execution_count": 1,
   "metadata": {
    "collapsed": false,
    "slideshow": {
     "slide_type": "skip"
    }
   },
   "outputs": [
    {
     "data": {
      "application/javascript": [
       "$.getScript('https://kmahelona.github.io/ipython_notebook_goodies/ipython_notebook_toc.js')"
      ],
      "text/plain": [
       "<IPython.core.display.Javascript object>"
      ]
     },
     "metadata": {},
     "output_type": "display_data"
    }
   ],
   "source": [
    "%%javascript\n",
    "$.getScript('https://kmahelona.github.io/ipython_notebook_goodies/ipython_notebook_toc.js')"
   ]
  }
 ],
 "metadata": {
  "celltoolbar": "Slideshow",
  "kernelspec": {
   "display_name": "Matlab",
   "language": "matlab",
   "name": "matlab_kernel"
  },
  "language_info": {
   "codemirror_mode": "octave",
   "file_extension": ".m",
   "help_links": [
    {
     "text": "MetaKernel Magics",
     "url": "https://github.com/calysto/metakernel/blob/master/metakernel/magics/README.md"
    }
   ],
   "mimetype": "text/x-matlab",
   "name": "matlab",
   "version": "0.8.0"
  }
 },
 "nbformat": 4,
 "nbformat_minor": 0
}
