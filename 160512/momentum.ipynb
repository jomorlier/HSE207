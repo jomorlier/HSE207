{
 "cells": [
  {
   "cell_type": "markdown",
   "metadata": {
    "collapsed": true
   },
   "source": [
    "<font size='6'><b>Momentum and Impulse</b></font>\n",
    "\n",
    "Table of Contents\n",
    "<div id=\"toc\"></div>"
   ]
  },
  {
   "cell_type": "markdown",
   "metadata": {},
   "source": [
    "# 1. Concept of Momentum\n",
    "\n",
    "- an alternate variable (to velocity) to describe translational motion that is particularly powerful when describing the motion of a multi-body system. \n",
    "\n",
    "- The momentum of a system is unaffected by internal forces - forces between two objects that are both inside the system. \n",
    "\n",
    "- Momentum is changed only by external forces - forces on any part of the system that arise from interactions with objects outside of the system.\n",
    "\n",
    "\n",
    "- For systems that experience no external forces, momentum is constant (or conserved). \n",
    "\n",
    "**Momentum**\n",
    "\n",
    "- Traditionally given the symbol $p$ (partly for \"impulse\", and since $m$ is already taken):\n",
    "<br><br>\n",
    "$$\\vec{p} = m\\vec{\\upsilon}$$\n",
    " for a single particle of mass $m$ traveling with velocity $\\upsilon$. \n",
    "\n",
    "- For a system composed of multiple particles, the momentum of the system is just the sum of the momenta of the masses in the system:\n",
    "\n",
    "$$\\vec{p}^{system} = \\sum_i m_i\\vec{\\upsilon}_i$$\n",
    "\n",
    "**Impulse**\n",
    "\n",
    "Impulse (which is given the symbol $J$) is defined by:\n",
    "\n",
    "$$\\vec{J} = \\int_{t_i}^{t_f} \\sum_i \\vec{F}^{ext}\\;dt$$\n",
    "\n",
    "for the net force acting over a time interval $t_i$ to $t_f$. "
   ]
  },
  {
   "cell_type": "markdown",
   "metadata": {
    "collapsed": true
   },
   "source": [
    "# 2. Collision (Linear Motions)\n",
    "\n",
    "- Forces\n",
    "\n",
    "    - Internal forces act between the objects in the system\n",
    "\n",
    "    - External forces act between objects in the system and the environment\n",
    "\n",
    "- Conservation of momentum in isolated systems\n",
    "\n",
    "    - An isolated system is a collection of objects that may interact interanlly, but where the net external force on all the objects is zero. For an isolated system, the total momentume is conserved.\n"
   ]
  },
  {
   "cell_type": "markdown",
   "metadata": {},
   "source": [
    "__2.1. Complete Elastic Collision__\n",
    "\n",
    "<table style=\"border-style: hidden; border-collapse: collapse;\" width = \"96%\"> \n",
    "    <tr style=\"border-style: hidden; border-collapse: collapse;\">        \n",
    "        <td width = 48% style=\"border-style: hidden; border-collapse: collapse;\">\n",
    "             $$\\text{before}$$\n",
    "        </td>\n",
    "        <td width = 48%>\n",
    "            $$\\text{after}$$\n",
    "        </td>\n",
    "    </tr>\n",
    "    <tr style=\"border-style: hidden; border-collapse: collapse;\">        \n",
    "        <td width = 48% style=\"border-style: hidden; border-collapse: collapse;\">\n",
    "             <img src=\"./image_files/twoballs_before.png\" width = 250>\n",
    "        </td>\n",
    "        <td width = 48%>\n",
    "            <img src=\"./image_files/twoballs_after.png\" width = 250>\n",
    "        </td>\n",
    "    </tr>\n",
    "</table>\n",
    "\n",
    "       \n",
    "- needs two equations\n",
    "\n",
    "    1) momentum conservation\n",
    "$$m_1 \\upsilon_1 = m_1 \\upsilon_1 ' + m_2 \\upsilon_2'$$\n",
    "    2) if complete elastic (_i.e._, kinetic energy conserved)\n",
    "$$ \\frac{1}{2}m_1 \\upsilon_1^2 = \\frac{1}{2}m_1 \\upsilon_1'^2 + \\frac{1}{2}m_2 \\upsilon_2'^2$$\n",
    "\n",
    "\n",
    "\n",
    "- general solution\n",
    "$$\n",
    "\\begin{align*}\n",
    "\\upsilon_1'^2 & = \\left( \\frac{m_1 - m_2}{m_1 + m_2} \\right)\\upsilon_1 \\\\\n",
    "\\upsilon_2'^2 & = \\left( \\frac{2 m_1}{m_1 + m_2}\\right)\\upsilon_1 \\qquad \\text{positive direction}\n",
    "\\end{align*}\n",
    "$$\n",
    "\n",
    "    1) $m_1 \\gg m_2 \\;(m_2 \\Rightarrow 0)$\n",
    "$$\n",
    "\\begin{align*}\n",
    "\\upsilon_1' & = \\upsilon_1\\\\\n",
    "\\upsilon_2' & = 2 \\upsilon_1 \\qquad \\text{not intuitive}\n",
    "\\end{align*}\n",
    "$$\n",
    "<br>\n",
    "    2) $m_1 \\ll m_2 \\;(m_1 \\Rightarrow 0)$\n",
    "$$\n",
    "\\begin{align*}\n",
    "\\upsilon_1' & = -\\upsilon_1\\\\\n",
    "\\upsilon_2' & = 0\n",
    "\\end{align*}\n",
    "$$\n",
    "<br>\n",
    "    3) $m_1 = m_2$\n",
    "$$\n",
    "\\begin{align*}\n",
    "\\upsilon_1' & = 0 \\\\\n",
    "\\upsilon_2' & = \\upsilon_1\n",
    "\\end{align*}\n",
    "$$\n",
    "<br>\n",
    "    4) $2 m_1 = m_2$\n",
    "$$\n",
    "\\begin{align*}\n",
    "\\upsilon_1' & = -\\frac{1}{3}\\upsilon_1 \\\\\n",
    "\\upsilon_2' & = \\frac{2}{3}\\upsilon_1\n",
    "\\end{align*}\n",
    "$$"
   ]
  },
  {
   "cell_type": "code",
   "execution_count": 4,
   "metadata": {
    "collapsed": false
   },
   "outputs": [
    {
     "data": {
      "text/html": [
       "<iframe \n",
       "width=\"420\" height=\"315\" src=\"https://www.youtube.com/embed/ZY8VnjKlAJM\" frameborder=\"0\" allowfullscreen>\n",
       "</iframe>"
      ],
      "text/plain": [
       "<IPython.core.display.HTML object>"
      ]
     },
     "metadata": {},
     "output_type": "display_data"
    }
   ],
   "source": [
    "%%html\n",
    "<iframe \n",
    "width=\"420\" height=\"315\" src=\"https://www.youtube.com/embed/ZY8VnjKlAJM\" frameborder=\"0\" allowfullscreen>\n",
    "</iframe>"
   ]
  },
  {
   "cell_type": "code",
   "execution_count": 5,
   "metadata": {
    "collapsed": false
   },
   "outputs": [
    {
     "data": {
      "text/html": [
       "<iframe \n",
       "width=\"420\" height=\"315\" src=\"https://www.youtube.com/embed/5VRx6dD7es8\" frameborder=\"0\" allowfullscreen>\n",
       "</iframe>"
      ],
      "text/plain": [
       "<IPython.core.display.HTML object>"
      ]
     },
     "metadata": {},
     "output_type": "display_data"
    }
   ],
   "source": [
    "%%html\n",
    "<iframe \n",
    "width=\"420\" height=\"315\" src=\"https://www.youtube.com/embed/5VRx6dD7es8\" frameborder=\"0\" allowfullscreen>\n",
    "</iframe>"
   ]
  },
  {
   "cell_type": "code",
   "execution_count": 6,
   "metadata": {
    "collapsed": false
   },
   "outputs": [
    {
     "data": {
      "text/html": [
       "<iframe \n",
       "width=\"420\" height=\"315\" src=\"https://www.youtube.com/embed/vbxgAmgtaq4\" frameborder=\"0\" allowfullscreen>\n",
       "</iframe>"
      ],
      "text/plain": [
       "<IPython.core.display.HTML object>"
      ]
     },
     "metadata": {},
     "output_type": "display_data"
    }
   ],
   "source": [
    "%%html\n",
    "<iframe \n",
    "width=\"420\" height=\"315\" src=\"https://www.youtube.com/embed/vbxgAmgtaq4\" frameborder=\"0\" allowfullscreen>\n",
    "</iframe>"
   ]
  },
  {
   "cell_type": "markdown",
   "metadata": {},
   "source": [
    "__2.2. Question__"
   ]
  },
  {
   "cell_type": "code",
   "execution_count": 8,
   "metadata": {
    "collapsed": false
   },
   "outputs": [
    {
     "data": {
      "text/html": [
       "<iframe \n",
       "width=\"420\" height=\"315\" src=\"https://www.youtube.com/embed/YLTu9pGz_7U\" frameborder=\"0\" allowfullscreen>\n",
       "</iframe>"
      ],
      "text/plain": [
       "<IPython.core.display.HTML object>"
      ]
     },
     "metadata": {},
     "output_type": "display_data"
    }
   ],
   "source": [
    "%%html\n",
    "<iframe \n",
    "width=\"420\" height=\"315\" src=\"https://www.youtube.com/embed/YLTu9pGz_7U\" frameborder=\"0\" allowfullscreen>\n",
    "</iframe>"
   ]
  },
  {
   "cell_type": "markdown",
   "metadata": {},
   "source": [
    "__2.3. Complete Inelastic Collision__\n",
    "\n",
    "<table style=\"border-style: hidden; border-collapse: collapse;\" width = \"96%\"> \n",
    "    <tr style=\"border-style: hidden; border-collapse: collapse;\">        \n",
    "        <td width = 48% style=\"border-style: hidden; border-collapse: collapse;\">\n",
    "             $$\\text{before}$$\n",
    "        </td>\n",
    "        <td width = 48%>\n",
    "            $$\\text{after}$$\n",
    "        </td>\n",
    "    </tr>\n",
    "    <tr style=\"border-style: hidden; border-collapse: collapse;\">        \n",
    "        <td width = 48% style=\"border-style: hidden; border-collapse: collapse;\">\n",
    "             <img src=\"./image_files/twoballs_before.png\" width = 250>\n",
    "        </td>\n",
    "        <td width = 48%>\n",
    "            <img src=\"./image_files/twoballs_after.png\" width = 250>\n",
    "        </td>\n",
    "    </tr>\n",
    "</table>\n",
    "\n",
    "1) momentum conservation\n",
    "\n",
    "$$m_1 \\upsilon_1 = m_1 \\upsilon_1 ' + m_2 \\upsilon_2'$$\n",
    "\n",
    "2) if complete inelastic\n",
    "\n",
    "$$ \\upsilon_1' = \\upsilon_2' $$\n",
    "\n",
    "- general solution\n",
    "\n",
    "$$\n",
    "\\begin{align*}\n",
    "\\upsilon_1'^2 & = \\left( \\frac{m_1}{m_1 + m_2} \\right)\\upsilon_1 \\\\\n",
    "\\upsilon_2'^2 & = \\left( \\frac{m_1}{m_1 + m_2}\\right)\\upsilon_1 \n",
    "\\end{align*}\n",
    "$$"
   ]
  },
  {
   "cell_type": "code",
   "execution_count": 7,
   "metadata": {
    "collapsed": false
   },
   "outputs": [
    {
     "data": {
      "text/html": [
       "<iframe \n",
       "width=\"420\" height=\"315\" src=\"https://www.youtube.com/embed/0u10y7FPlRE\" frameborder=\"0\" allowfullscreen>\n",
       "</iframe>"
      ],
      "text/plain": [
       "<IPython.core.display.HTML object>"
      ]
     },
     "metadata": {},
     "output_type": "display_data"
    }
   ],
   "source": [
    "%%html\n",
    "<iframe \n",
    "width=\"420\" height=\"315\" src=\"https://www.youtube.com/embed/0u10y7FPlRE\" frameborder=\"0\" allowfullscreen>\n",
    "</iframe>"
   ]
  },
  {
   "cell_type": "markdown",
   "metadata": {},
   "source": [
    "__2.3. Explosion__\n",
    "\n",
    "<table style=\"border-style: hidden; border-collapse: collapse;\" width = \"96%\"> \n",
    "    <tr style=\"border-style: hidden; border-collapse: collapse;\">        \n",
    "        <td width = 48% style=\"border-style: hidden; border-collapse: collapse;\">\n",
    "             $$\\text{before}$$\n",
    "        </td>\n",
    "        <td width = 48%>\n",
    "            $$\\text{after}$$\n",
    "        </td>\n",
    "    </tr>\n",
    "    <tr style=\"border-style: hidden; border-collapse: collapse;\">        \n",
    "        <td width = 48% style=\"border-style: hidden; border-collapse: collapse;\">\n",
    "             <img src=\"./image_files/twoballs_spring_before.png\" width = 250>\n",
    "        </td>\n",
    "        <td width = 48%>\n",
    "            <img src=\"./image_files/twoballs_spring_after.png\" width = 250>\n",
    "        </td>\n",
    "    </tr>\n",
    "</table>\n",
    "\n",
    "1) momentum conservation\n",
    "\n",
    "$$0 + 0 = m_1 \\upsilon_1 ' + m_2 \\upsilon_2' \\implies \\frac{\\upsilon_2'}{\\upsilon_1'} = \\frac{m_1}{m_2}$$\n",
    "\n",
    "2) if mechanical energy conserved\n",
    "\n",
    "$$\\frac{1}{2}kx^2 = \\frac{1}{2}m_1 \\upsilon_1'^2 + \\frac{1}{2}m_2 \\upsilon_2'^2 $$"
   ]
  },
  {
   "cell_type": "code",
   "execution_count": 9,
   "metadata": {
    "collapsed": false
   },
   "outputs": [
    {
     "data": {
      "text/html": [
       "<iframe \n",
       "width=\"560\" height=\"315\" src=\"https://www.youtube.com/embed/1e2s1uRCQFc?list=PLBD_gON7g_m0tzxOabPd4afo28xBK0cCX\" \n",
       "frameborder=\"0\" allowfullscreen>\n",
       "</iframe>"
      ],
      "text/plain": [
       "<IPython.core.display.HTML object>"
      ]
     },
     "metadata": {},
     "output_type": "display_data"
    }
   ],
   "source": [
    "%%html\n",
    "<iframe \n",
    "width=\"560\" height=\"315\" src=\"https://www.youtube.com/embed/1e2s1uRCQFc?list=PLBD_gON7g_m0tzxOabPd4afo28xBK0cCX\" \n",
    "frameborder=\"0\" allowfullscreen>\n",
    "</iframe>"
   ]
  },
  {
   "cell_type": "markdown",
   "metadata": {
    "collapsed": true
   },
   "source": [
    "__Example 1: Momentum + Kinetic Energy__\n",
    "\n",
    "<img src=\"./image_files/ballistic_pendulum.png\", width = 400>\n",
    "\n",
    "\n",
    "A pendulum consisting of a sphere of mass $m$ attached to the end of a massless rope of length $L$ is initially lifted by $h$ so that the rope is tight and horizontal, and released. At the bottom of its path, the sphere hits a block of mass $M = 2m$ lying at rest on a frictionless table. The collision is elastic.\n",
    "<br><br><br>\n",
    "\n",
    "__Example 2: Momentum + Kinetic Energy__\n",
    "\n",
    "(a) Find the velocities of the sphere and the block immediately after the collision.\n",
    "\n",
    "(b) How high does the pendulum swing after the collision?\n",
    "\n",
    "<img src=\"./image_files/cradle.png\", width = 300>\n"
   ]
  },
  {
   "cell_type": "markdown",
   "metadata": {},
   "source": [
    "__Example 3: Super-ball__"
   ]
  },
  {
   "cell_type": "code",
   "execution_count": 13,
   "metadata": {
    "collapsed": false,
    "scrolled": false
   },
   "outputs": [
    {
     "data": {
      "text/html": [
       "<iframe \n",
       "width=\"560\" height=\"315\" src=\"https://www.youtube.com/embed/7poxIuT8TSg\" frameborder=\"0\" allowfullscreen>\n",
       "</iframe>"
      ],
      "text/plain": [
       "<IPython.core.display.HTML object>"
      ]
     },
     "metadata": {},
     "output_type": "display_data"
    }
   ],
   "source": [
    "%%html\n",
    "<iframe \n",
    "width=\"560\" height=\"315\" src=\"https://www.youtube.com/embed/7poxIuT8TSg\" frameborder=\"0\" allowfullscreen>\n",
    "</iframe>"
   ]
  },
  {
   "cell_type": "markdown",
   "metadata": {
    "collapsed": true
   },
   "source": [
    "In super-ball we take two balls, one small and one large, and release them together from a height $h_0$ above the ground, as illustrated in the below figure. What is the maximum height $h_1$ reached by the top ball after the collision? Assume that all collisions are conservative.\n",
    "\n",
    "<img src=\"./image_files/superball.png\", width = 500>"
   ]
  },
  {
   "cell_type": "markdown",
   "metadata": {
    "collapsed": true
   },
   "source": [
    "__Example 4: Rocket__"
   ]
  },
  {
   "cell_type": "code",
   "execution_count": 14,
   "metadata": {
    "collapsed": false
   },
   "outputs": [
    {
     "data": {
      "text/html": [
       "<iframe \n",
       "width=\"560\" height=\"315\" src=\"https://www.youtube.com/embed/ccUNtsu8hLI\" frameborder=\"0\" allowfullscreen>\n",
       "</iframe>"
      ],
      "text/plain": [
       "<IPython.core.display.HTML object>"
      ]
     },
     "metadata": {},
     "output_type": "display_data"
    }
   ],
   "source": [
    "%%html\n",
    "<iframe \n",
    "width=\"560\" height=\"315\" src=\"https://www.youtube.com/embed/ccUNtsu8hLI\" frameborder=\"0\" allowfullscreen>\n",
    "</iframe>"
   ]
  },
  {
   "cell_type": "markdown",
   "metadata": {
    "collapsed": true
   },
   "source": [
    "# 3. Angular Momentum"
   ]
  },
  {
   "cell_type": "code",
   "execution_count": 15,
   "metadata": {
    "collapsed": false
   },
   "outputs": [
    {
     "data": {
      "text/html": [
       "<iframe \n",
       "width=\"560\" height=\"315\" src=\"https://www.youtube.com/embed/sy5NY-Dqdys\" frameborder=\"0\" allowfullscreen>\n",
       "</iframe>"
      ],
      "text/plain": [
       "<IPython.core.display.HTML object>"
      ]
     },
     "metadata": {},
     "output_type": "display_data"
    }
   ],
   "source": [
    "%%html\n",
    "<iframe \n",
    "width=\"560\" height=\"315\" src=\"https://www.youtube.com/embed/sy5NY-Dqdys\" frameborder=\"0\" allowfullscreen>\n",
    "</iframe>"
   ]
  },
  {
   "cell_type": "code",
   "execution_count": 18,
   "metadata": {
    "collapsed": false
   },
   "outputs": [
    {
     "data": {
      "application/javascript": [
       "$.getScript('https://kmahelona.github.io/ipython_notebook_goodies/ipython_notebook_toc.js')"
      ],
      "text/plain": [
       "<IPython.core.display.Javascript object>"
      ]
     },
     "metadata": {},
     "output_type": "display_data"
    }
   ],
   "source": [
    "%%javascript\n",
    "$.getScript('https://kmahelona.github.io/ipython_notebook_goodies/ipython_notebook_toc.js')"
   ]
  }
 ],
 "metadata": {
  "kernelspec": {
   "display_name": "Matlab",
   "language": "matlab",
   "name": "matlab_kernel"
  },
  "language_info": {
   "file_extension": ".m",
   "help_links": [
    {
     "text": "MetaKernel Magics",
     "url": "https://github.com/calysto/metakernel/blob/master/metakernel/magics/README.md"
    }
   ],
   "mimetype": "text/x-matlab",
   "name": "octave"
  }
 },
 "nbformat": 4,
 "nbformat_minor": 0
}
