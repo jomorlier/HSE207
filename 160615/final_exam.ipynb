{
 "cells": [
  {
   "cell_type": "markdown",
   "metadata": {},
   "source": [
    "<center><font size='6'><b>Final Exam</b></font></center>\n",
    "<p>\n",
    "<center><font size='4'><b>HSE 207: Engineering Mechanics</b></font></center>\n",
    "\n",
    "<table style=\"border-style: hidden; border-collapse: collapse;\" width = \"96%\"> \n",
    "    <tr style=\"border-style: hidden; border-collapse: collapse;\">\n",
    "        <td width = 80% style=\"border-style: hidden; border-collapse: collapse;\">\n",
    "             \n",
    "        </td>\n",
    "        <td width = 16%>\n",
    "            by Seungchul Lee\n",
    "        </td>\n",
    "    </tr>\n",
    "</table>\n",
    "\n"
   ]
  },
  {
   "cell_type": "markdown",
   "metadata": {},
   "source": [
    "# Problem 1\n",
    "\n",
    "<table style=\"border-style: hidden; border-collapse: collapse;\" width = \"100%\"> \n",
    "    <tr style=\"border-style: hidden; border-collapse: collapse;\">\n",
    "        <td width = 55% style=\"border-style: hidden; border-collapse: collapse;\">\n",
    "The spring is compressed by a cord between block A and block B. The masses of blocks A and B are 10 $kg$ and 15 $kg$, respectively. Assume that spring mass is negligible, and a floor is frictionless.\n",
    "\n",
    "$$ $$\n",
    "1) [5pt] If $V_A = 6 \\,m/s$ when the cord is cut, determine the velocity of block B.\n",
    "\n",
    "$$ $$\n",
    "2) [5pt] A spring constant is $k=15\\,kN/m$ and the spring is compressed by $200\\, mm$. When the cord is cut, determine the velocity of block A.             \n",
    "        </td>\n",
    "        <td width = 30%>\n",
    "<img src=\"./image_files/figure_01.png\" width = 250>\n",
    "<center>Figure 1</center>\n",
    "        </td>\n",
    "    </tr>\n",
    "</table>\n"
   ]
  },
  {
   "cell_type": "markdown",
   "metadata": {},
   "source": [
    "# Problem 2\n",
    "\n",
    "1) [5pt] Explane Figure 2 based on what we learned from the class.\n",
    "\n",
    "2) [5pt] Explane Figure 3 based on what we learned from the class.\n",
    "\n",
    "<table style=\"border-style: hidden; border-collapse: collapse;\" width = \"96%\"> \n",
    "    <tr style=\"border-style: hidden; border-collapse: collapse;\">\n",
    "        <td width = 48% style=\"border-style: hidden; border-collapse: collapse;\">\n",
    "<img src=\"./image_files/rocket.jpg\" width = 200>  \n",
    "<center>Figure 2</center>\n",
    "        </td>\n",
    "        <td width = 48%>\n",
    "<img src=\"./image_files/bicycle.jpg\" width = 130>\n",
    "<center>Figure 3</center>\n",
    "        </td>\n",
    "    </tr>\n",
    "</table>\n"
   ]
  },
  {
   "cell_type": "markdown",
   "metadata": {},
   "source": [
    "# Problem 3\n",
    "\n",
    "[10pt] The mass $m$ is pushed against the spring at A and released from rest. Neglecting friction, determine the smallest deflection of the spring for which the mass will travel around the loop and remain at all times in contact with the loop. Use the parameters $m,g,r,k$\n",
    "\n",
    "<img src=\"./image_files/spring_loop.png\" width = 400>\n",
    "<center>Figure 4</center>"
   ]
  },
  {
   "cell_type": "markdown",
   "metadata": {},
   "source": [
    "# Problem 4\n",
    "\n",
    "[10pt] A block $m$ is at rest at the top of a smooth cylindrical surface with radius = $r$. Suddenly, under the force of gravity, it beings to slide down the surface until it leaves the surface. Find the values of $\\theta$ at which the block leaves the surface.\n",
    "<br>\n",
    "<img src=\"./image_files/cylinder.png\" width = 300>\n",
    "<center>Figure 5</center>"
   ]
  },
  {
   "cell_type": "markdown",
   "metadata": {},
   "source": [
    "# Problem 5\n",
    "\n",
    "[10pt] The pendulum of mass $m$ is released from rest when it is at A. Determine the _speed_ of mass $m$ and the _tension_ in the cord when mass $m$ passes through its lowest position B. Use the parameters shown in Figure 6.\n",
    "\n",
    "<img src=\"./image_files/pendulum_tension.png\" width = 300>\n",
    "<center>Figure 6</center>"
   ]
  },
  {
   "cell_type": "markdown",
   "metadata": {
    "collapsed": true
   },
   "source": [
    "# Problem 6\n",
    "\n",
    "[5pt] Describe the change of room temperature when the door of an refrigerator is open. Clearly define the system in your explanation.\n",
    "\n",
    "<img src=\"./image_files/fridge.png\" width = 200>\n",
    "<center>Figure 7</center>"
   ]
  },
  {
   "cell_type": "markdown",
   "metadata": {},
   "source": [
    "# Problem 7\n",
    "\n",
    "Consider the system which takes the _integral_ of input. \n",
    "\n",
    "<img src=\"./image_files/integral_system_02.png\" width = 400>\n",
    "<center>Figure 8</center>\n",
    "\n",
    "1) [5pt] Draw the ouput of the system in a complex plane of Figure 9. Indicate all the necessary information in your sketch. \n",
    "\n",
    "2) [5pt] Sketch the ouput of the system in a time domain of Figure 10. Indicate all the necessary information in your sketch.\n",
    "\n",
    "<table style=\"border-style: hidden; border-collapse: collapse;\" width = \"96%\"> \n",
    "    <tr style=\"border-style: hidden; border-collapse: collapse;\">\n",
    "        <td width = 48% style=\"border-style: hidden; border-collapse: collapse;\">\n",
    "<img src=\"./image_files/rotating.png\" width = 300>\n",
    "<center>Figure 9: Complex plane</center>\n",
    "        </td>\n",
    "        <td width = 48%>\n",
    "<img src=\"./image_files/cos_03.png\" width = 300>\n",
    "<center>Figure 10: in time domain</center>\n",
    "        </td>\n",
    "    </tr>\n",
    "</table>\n",
    "\n",
    "\n",
    "\n"
   ]
  },
  {
   "cell_type": "markdown",
   "metadata": {},
   "source": [
    "# Problem 8\n",
    "\n",
    "We learned in a class that a simple harmonic motion in the spring and mass system can be understood by a circular motion as shown in Figure 11.\n",
    "\n",
    "<img src=\"./image_files/circular_oscillation.png\" width = 400>\n",
    "<center>Figure 11</center>\n",
    "\n",
    "1) [2pt] Show that the equation of motion is\n",
    "  \n",
    "$$ \\ddot x + \\omega_n^2 x = \\ddot x + \\frac{k}{m}x = 0 $$\n",
    "\n",
    "2) [2pt] Show that $x(t) = R \\cos(\\omega_n t + \\phi)$ satisfies the above equation of motion\n",
    "\n",
    "\n",
    "3) [2pt] Show that $z(t) = R e^{j(\\omega_n t + \\phi)}$ satisfies the above equation of motion\n",
    "\n",
    "\n",
    "4) [5pt] Given the initial conditions of $x(0) = x_0$, and $\\dot x(0) = \\upsilon_0$, find the values of $R$ and $\\phi$ using geometrical relationship shown in Figure 11.\n",
    "\n",
    "5) [5pt] Use the mechanical energy conservation to find the maximum displacement $R$ and show its value is the same as the one derived from 4)\n",
    "\n",
    "6) [5pt] Use the mechanical energy conservation to find the maxium speed $V$ at $x = 0$ and show its value is the same as the one derived from 4)\n"
   ]
  },
  {
   "cell_type": "markdown",
   "metadata": {
    "collapsed": true
   },
   "source": [
    "# Problem 9\n",
    "\n",
    "[5pt] Explain why a circular motion can be a solution of equation of $m\\ddot z + k z = 0$ using Figure 12.\n",
    "\n",
    "Hint: $p(t) = z$ and think about directions\n",
    "<img src=\"./image_files/circular_acc.png\" width = 200>\n",
    "<center>Figure 12</center>\n"
   ]
  },
  {
   "cell_type": "markdown",
   "metadata": {
    "collapsed": true
   },
   "source": [
    "# Problem 10\n",
    "\n",
    "[5pt] Two figures show the free oscillation of two different systems. What makes two systems respond differently?\n",
    "\n",
    "\n",
    "<table style=\"border-style: hidden; border-collapse: collapse;\" width = \"96%\"> \n",
    "    <tr style=\"border-style: hidden; border-collapse: collapse;\">\n",
    "        <td width = 48% style=\"border-style: hidden; border-collapse: collapse;\">\n",
    "<img src=\"./image_files/damped_01.png\" width = 400>\n",
    "<center>Figure 13: System A</center>\n",
    "        </td>\n",
    "        <td width = 48%>\n",
    "<img src=\"./image_files/damped_02.png\" width = 400>\n",
    "<center>Figure 14: System B</center>\n",
    "        </td>\n",
    "    </tr>\n",
    "</table>\n",
    "\n",
    "\n",
    "\n",
    "\n"
   ]
  },
  {
   "cell_type": "markdown",
   "metadata": {
    "collapsed": true
   },
   "source": [
    "# Problem 11\n",
    "\n",
    "1) [2pt] Compute the natural frequency $\\omega_n$ (angular velocity) for the system (a)\n",
    "\n",
    "2) [2pt] Compute the oscillating frequency $\\omega$ (angular velocity) for the system (b)\n",
    "\n",
    "3) [5pt] Explain why the system (b) is oscillating with a slower $\\omega$ than $\\omega_n = \\sqrt{\\frac{k}{m}}$.\n",
    "\n",
    "<table style=\"border-style: hidden; border-collapse: collapse;\" width = \"96%\"> \n",
    "    <tr style=\"border-style: hidden; border-collapse: collapse;\">\n",
    "        <td width = 48% style=\"border-style: hidden; border-collapse: collapse;\">\n",
    "<img src=\"./image_files/MassSpring_FreeVibration.png\" width = 250>\n",
    "        </td>\n",
    "        <td width = 48%>\n",
    "<img src=\"./image_files/MassSpringDamper_FreeVibration.png\" width = 250>\n",
    "        </td>\n",
    "    </tr>\n",
    "    <tr style=\"border-style: hidden; border-collapse: collapse;\">\n",
    "        <td width = 48% style=\"border-style: hidden; border-collapse: collapse;\">\n",
    "<center>Figure 15: a</center>\n",
    "        </td>\n",
    "        <td width = 48%>\n",
    "<center>Figure 16: b</center>\n",
    "        </td>\n",
    "    </tr>\n",
    "</table>\n",
    "\n"
   ]
  },
  {
   "cell_type": "markdown",
   "metadata": {},
   "source": [
    "# Problem 12\n",
    "\n",
    "[10pt] For a given linear time invariant second order system (for instance, a mass-spring-damper system), we obtained the following plots showing amplitude and phase of forced damped oscillation (amplitude plot on the left, and phase plot on the right) with respect to frequency of external excitation force with $\\gamma = \\frac{\\Omega}{\\omega_n}$ and $\\zeta = 0.3$. Find the output steady state solution of amplitude and phase with an input force of $f(t) = \\text{Re}\\left( 5 \\cdot e^{j\\omega_n t}  +  1 \\cdot e^{j 1.5 \\omega_n t} \\right)$ \n",
    "\n",
    "(For simplicity, assume $k=1$)\n",
    "\n",
    "<table style=\"border-style: hidden; border-collapse: collapse;\" width = \"88%\"> \n",
    "    <tr style=\"border-style: hidden; border-collapse: collapse;\">\n",
    "        <td width = 44% style=\"border-style: hidden; border-collapse: collapse;\">\n",
    "            <img src=\"./image_files/freq_amplitude_03.png\" width = 400>\n",
    "        </td>\n",
    "        <td width = 44%>\n",
    "            <img src=\"./image_files/freq_phase_02.png\" width = 400>\n",
    "        </td>\n",
    "    </tr>\n",
    "</table>\n",
    "<center>Figure 17</center>\n"
   ]
  },
  {
   "cell_type": "markdown",
   "metadata": {},
   "source": [
    "# Problem 13\n",
    "\n",
    "[5pt] A snapshot of a glass broken by the sound of a speaker is captured in Figure 18. Explain how it is possible.\n",
    "\n",
    "<img src=\"./image_files/cup_breaking.png\" width = 250>\n",
    "<center>Figure 18</center>\n"
   ]
  }
 ],
 "metadata": {
  "kernelspec": {
   "display_name": "Python 2",
   "language": "python",
   "name": "python2"
  },
  "language_info": {
   "codemirror_mode": {
    "name": "ipython",
    "version": 2
   },
   "file_extension": ".py",
   "mimetype": "text/x-python",
   "name": "python",
   "nbconvert_exporter": "python",
   "pygments_lexer": "ipython2",
   "version": "2.7.10"
  }
 },
 "nbformat": 4,
 "nbformat_minor": 0
}
