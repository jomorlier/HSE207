{
 "cells": [
  {
   "cell_type": "markdown",
   "metadata": {
    "collapsed": true
   },
   "source": [
    "<font size='6'><b>Forced Vibration</b></font>\n",
    "\n",
    "Table of Contents\n",
    "<div id=\"toc\"></div>"
   ]
  },
  {
   "cell_type": "code",
   "execution_count": 5,
   "metadata": {
    "collapsed": false
   },
   "outputs": [
    {
     "data": {
      "text/html": [
       "<iframe \n",
       "width=\"560\" height=\"315\" src=\"https://www.youtube.com/embed/W4s2UwKm7dc\" frameborder=\"0\" allowfullscreen>\n",
       "</iframe>"
      ],
      "text/plain": [
       "<IPython.core.display.HTML object>"
      ]
     },
     "metadata": {},
     "output_type": "display_data"
    }
   ],
   "source": [
    "%%html\n",
    "<iframe \n",
    "width=\"560\" height=\"315\" src=\"https://www.youtube.com/embed/W4s2UwKm7dc\" frameborder=\"0\" allowfullscreen>\n",
    "</iframe>"
   ]
  },
  {
   "cell_type": "markdown",
   "metadata": {},
   "source": [
    "# 1. Sinusoidal Signals\n",
    "\n",
    "\n",
    "$$ \n",
    "x(t) = x_m \\cos(\\omega t + \\theta)$$\n",
    "\n",
    "- amplitude: $x_m$\n",
    "\n",
    "- period: T sec\n",
    "\n",
    "- frequency (Hz): $f = \\frac{1}{T}$\n",
    "\n",
    "- frequency (rad/sec): $\\omega = 2\\pi f$\n",
    "\n",
    "- phase angle: $\\theta$"
   ]
  },
  {
   "cell_type": "code",
   "execution_count": 6,
   "metadata": {
    "collapsed": false
   },
   "outputs": [
    {
     "data": {
      "image/png": "[encoded data removed]",
      "text/plain": [
       "<IPython.core.display.Image object>"
      ]
     },
     "metadata": {},
     "output_type": "display_data"
    },
    {
     "data": {},
     "execution_count": 6,
     "metadata": {},
     "output_type": "execute_result"
    }
   ],
   "source": [
    "f = 1;\n",
    "w = 2*pi*f;\n",
    "T = 1/f;\n",
    "xm = 1;\n",
    "theta = pi/3;\n",
    "\n",
    "t = 0:0.01:3*T;\n",
    "\n",
    "x = xm*cos(w*t + theta);\n",
    "plot(t,x,t,zeros(size(t)),'k--'), ylim([-1.5 1.5])"
   ]
  },
  {
   "cell_type": "markdown",
   "metadata": {},
   "source": [
    "## 1.1. Two sinusoidal signals in complex plane\n",
    "\n",
    "<table style=\"border-style: hidden; border-collapse: collapse;\" width = \"60%\"> \n",
    "    <tr style=\"border-style: hidden; border-collapse: collapse;\">\n",
    "        <td width = 30% style=\"border-style: hidden; border-collapse: collapse;\">\n",
    "<img src=\"./image_files/two_sinusoidals.png\" width = 250>\n",
    "        </td>\n",
    "        <td width = 30%>\n",
    "$$ \n",
    "\\begin{align*}\n",
    "z_1 &= A e^{j \\omega t} \\\\\n",
    "z_2 &= A e^{j\\left(\\omega t + \\phi \\right)}\n",
    "\\end{align*}$$\n",
    "\n",
    "        </td>\n",
    "    </tr>\n",
    "</table>\n",
    "\n",
    "- Both $z_1$ and $z_2$ ar rotating with angular velocity $\\omega$, but angle $\\phi$ between $z_1$ and $z_2$ is remaining constant.\n",
    "\n",
    "## 1.2. Sinusoidal input and output to differential system\n",
    "\n",
    "\n",
    "<img src=\"./image_files/Diff_system.png\" width = 400>\n",
    "\n",
    "- input\n",
    "\n",
    "$$ x = x_m e^{j\\omega t}$$\n",
    "\n",
    "- output\n",
    "\n",
    "<table style=\"border-style: hidden; border-collapse: collapse;\" width = \"80%\"> \n",
    "    <tr style=\"border-style: hidden; border-collapse: collapse;\">\n",
    "        <td width = 40% style=\"border-style: hidden; border-collapse: collapse;\">\n",
    "$$ y = \\frac{dx}{dt} = j\\omega \\cdot x_m e^{j\\omega t} = j\\omega x = \\omega e^{j\\frac{\\pi}{2}}x$$\n",
    "        </td>\n",
    "        <td width = 40%>\n",
    "<img src=\"./image_files/Diff_input_output.png\" width = 300>\n",
    "        </td>\n",
    "    </tr>\n",
    "</table>\n",
    "\n",
    "\n",
    "|||note|\n",
    "|---|----|----|\n",
    "|1|sinusoidal $\\longrightarrow$ sinusoidal|  |\n",
    "|2|$\\omega \\longrightarrow \\omega$|input and output rotate with the same $\\omega$|\n",
    "|3|$\\phi = \\frac{\\pi}{2}$| output leads input by $\\frac{\\pi}{2}$|\n",
    "|4|$A = \\left\\lvert \\frac{y}{x} \\right\\rvert = \\omega$| amplitude gain is a function of $\\omega$|\n"
   ]
  },
  {
   "cell_type": "code",
   "execution_count": 7,
   "metadata": {
    "collapsed": false
   },
   "outputs": [
    {
     "data": {
      "image/png": "[encoded data removed]",
      "text/plain": [
       "<IPython.core.display.Image object>"
      ]
     },
     "metadata": {},
     "output_type": "display_data"
    },
    {
     "data": {},
     "execution_count": 7,
     "metadata": {},
     "output_type": "execute_result"
    }
   ],
   "source": [
    "f = 1;\n",
    "w = 2*pi*f;\n",
    "T = 1/f;\n",
    "xm = 1;\n",
    "theta = pi/3;\n",
    "\n",
    "t = 0:0.01:3*T;\n",
    "\n",
    "x1 = xm*exp(1j*w*t);\n",
    "x2 = xm*exp(1j*(w*t + theta));\n",
    "\n",
    "plot(t,real(x1),t,real(x2),t,zeros(size(t)),'k--'), ylim([-1.5 1.5])\n",
    "legend('input','output')"
   ]
  },
  {
   "cell_type": "markdown",
   "metadata": {},
   "source": [
    "## 1.3. Sinusoidal input to linear system\n",
    "\n",
    "<img src=\"./image_files/linearsystem_input_output.png\" width = 500>\n"
   ]
  },
  {
   "cell_type": "markdown",
   "metadata": {},
   "source": [
    "# 2. Forced Oscillation\n",
    "\n",
    "- So far, we have not taken an external force into account\n",
    "\n",
    "\n",
    "- large input $\\rightarrow$ large output ?\n",
    "    - not always true. why ?\n",
    "    - non-linear system ? \n",
    "\n",
    "- Swing example\n",
    "    - frequency\n",
    "    - phase\n",
    "\n",
    "- sinusoidal input and sinusoidal output ?\n",
    "    - difficult to explain\n"
   ]
  },
  {
   "cell_type": "markdown",
   "metadata": {},
   "source": [
    "## 2.1. Mass + spring + damper system\n",
    "\n",
    "<img src=\"./image_files/MassSpringDamper_DirectForce_Horiz.png\" width = 500>\n",
    "\n",
    "<br><br>\n",
    "\n",
    "- Equations of motion\n",
    "\n",
    "$$ \\quad m \\ddot{x} + c \\dot{x} + kx = f(t) $$\n",
    "\n",
    "- When $f(t) = F_0 \\cos \\Omega t$\n",
    "\n",
    "$$ \\quad m \\ddot{x} + c \\dot{x} + kx = F_0\\cos \\Omega t $$\n",
    "\n",
    "- We could also write this equation in terms of the damping ratio, $\\zeta$, and natural frequency, $\\omega_n$.\n",
    "\n",
    "$$ \\quad \\ddot{x} + 2\\zeta\\omega_n\\dot{x} + \\omega_n^2x = \\frac{F_0}{m}\\cos \\Omega t = \\omega_n^2 \\frac{F_0}{k}\\cos \\Omega t$$\n",
    "\n",
    "- in complex number representation $x = \\text{Re}(z)$\n",
    "\n",
    "$$ \\quad \\ddot{z} + 2\\zeta\\omega_n\\dot{z} + \\omega_n^2 z = \\omega_n^2 \\frac{F_0}{k}e^{j \\Omega t}$$\n",
    "\n",
    "- Which ones are input and ouput?\n",
    "    - input = $f$\n",
    "    - output = $x$\n",
    "\n",
    "\n",
    "- We know that $z$ is in the form of \n",
    "\n",
    "$$z = A e^{j(\\Omega t + \\phi)}$$\n",
    "\n",
    "<br>\n",
    "$$ \n",
    "\\begin{align*}\\left( -\\Omega^2 + j 2\\zeta \\omega_n \\Omega + \\omega_n^2 \\right)Ae^{j\\phi} e^{j\\Omega t} &= \\omega_n^2 \\frac{F_0}{k}e^{j \\Omega t} \\\\\n",
    "Ae^{j\\phi} &= \\frac{ \\omega_n^2 \\frac{F_0}{k}}{-\\Omega^2 + j 2\\zeta \\omega_n \\Omega + \\omega_n^2} = \\frac{F_0}{k}\\frac{1}{1-\\left(\\frac{\\Omega}{\\omega_n}\\right)^2 + j 2\\zeta \\left(\\frac{\\Omega}{\\omega_n}\\right)}\n",
    "\\end{align*}$$\n",
    "\n",
    "<br>\n",
    "$$ \n",
    "\\begin{align*}A &= \\frac{F_0}{k}\\frac{1}{ \\sqrt{ \\left(1-\\left(\\frac{\\Omega}{\\omega_n}\\right)^2 \\right)^2 +  4\\zeta^2 \\left(\\frac{\\Omega}{\\omega_n}\\right)^2 }} = \\frac{F_0}{k}\\frac{1}{ \\sqrt{ \\left(1-\\gamma^2 \\right)^2 +  4\\zeta^2 \\gamma^2 }}, \\quad  \\left(\\gamma = \\frac{\\Omega}{\\omega_n} \\right)\\\\\n",
    "\\phi &= -\\tan^{-1} \\left( \\frac{2\\zeta \\frac{\\Omega}{\\omega_n}}{1-\\left(\\frac{\\Omega}{\\omega_n}\\right)^2} \\right) =-\\tan^{-1} \\left( \\frac{2\\zeta \\gamma}{1-\\gamma^2} \\right)\n",
    "\\end{align*}$$\n"
   ]
  },
  {
   "cell_type": "code",
   "execution_count": 19,
   "metadata": {
    "collapsed": false
   },
   "outputs": [
    {
     "data": {
      "image/png": "[encoded data removed]",
      "text/plain": [
       "<IPython.core.display.Image object>"
      ]
     },
     "metadata": {},
     "output_type": "display_data"
    },
    {
     "data": {},
     "execution_count": 19,
     "metadata": {},
     "output_type": "execute_result"
    }
   ],
   "source": [
    "r = 0:0.1:4;\n",
    "\n",
    "zeta = 0.1:0.2:1;\n",
    "M = [];\n",
    "for i = 1:length(zeta)\n",
    "    M(i,:) = 1./sqrt((1-r.^2).^2 + (2*zeta(i)*r).^2); % ignore a constant of F0/k\n",
    "end\n",
    "\n",
    "plot(r,M)\n",
    "xlabel('\\gamma','fontsize',16)\n",
    "ylabel('M','fontsize',14)\n",
    "legend('0.1','0.3','0.5','0.7','0.9')"
   ]
  },
  {
   "cell_type": "code",
   "execution_count": 22,
   "metadata": {
    "collapsed": false
   },
   "outputs": [
    {
     "data": {
      "image/png": "[encoded data removed]",
      "text/plain": [
       "<IPython.core.display.Image object>"
      ]
     },
     "metadata": {},
     "output_type": "display_data"
    },
    {
     "data": {},
     "execution_count": 22,
     "metadata": {},
     "output_type": "execute_result"
    }
   ],
   "source": [
    "phi = [];\n",
    "for i = 1:length(zeta)\n",
    "    phi(i,:) = -atan2((2*zeta(i).*r),(1-r.^2));\n",
    "end\n",
    "\n",
    "plot(r,phi*180/pi)\n",
    "xlabel('\\gamma','fontsize',16)\n",
    "ylabel('\\phi','fontsize',16)\n",
    "legend('0.1','0.3','0.5','0.7','0.9')"
   ]
  },
  {
   "cell_type": "markdown",
   "metadata": {},
   "source": [
    "## 2.2. Resonance\n",
    "\n",
    "- Input frequency near resonance frequency\n",
    "\n",
    "\n",
    "- Resonance frequency is generally different from natural frequency, but they often are close enough"
   ]
  },
  {
   "cell_type": "code",
   "execution_count": 23,
   "metadata": {
    "collapsed": false
   },
   "outputs": [
    {
     "data": {
      "image/png": "[encoded data removed]",
      "text/plain": [
       "<IPython.core.display.Image object>"
      ]
     },
     "metadata": {},
     "output_type": "display_data"
    },
    {
     "data": {},
     "execution_count": 23,
     "metadata": {},
     "output_type": "execute_result"
    }
   ],
   "source": [
    "% in time domain\n",
    "f = 1;\n",
    "w = 2*pi*f;\n",
    "F0 = 1;\n",
    "k = 1;\n",
    "\n",
    "zeta = 0.2;\n",
    "r = 3;\n",
    "M = 1./sqrt((1-r.^2).^2 + (2*zeta*r)^2); % ignore a constant of F0/k\n",
    "phi = -atan2((2*zeta*r),(1-r^2));\n",
    "\n",
    "t = 0:0.01:3;\n",
    "\n",
    "x1 = F0*exp(1j*w*t);\n",
    "x2 = F0/k*M*exp(1j*(w*t + phi));\n",
    "\n",
    "plot(t,real(x1),t,real(x2),t,zeros(size(t)),'k--'), ylim([-4 4])\n",
    "legend('input','output')"
   ]
  },
  {
   "cell_type": "code",
   "execution_count": 11,
   "metadata": {
    "collapsed": false
   },
   "outputs": [
    {
     "data": {
      "text/html": [
       "<iframe \n",
       "width=\"560\" height=\"315\" src=\"https://www.youtube.com/embed/pjzggPk8DO4?list=PLBD_gON7g_m06aIGNGB3BE_sV2rZdo8wX\" frameborder=\"0\" allowfullscreen>\n",
       "</iframe>"
      ],
      "text/plain": [
       "<IPython.core.display.HTML object>"
      ]
     },
     "metadata": {},
     "output_type": "display_data"
    }
   ],
   "source": [
    "%%html\n",
    "<iframe \n",
    "width=\"560\" height=\"315\" src=\"https://www.youtube.com/embed/pjzggPk8DO4?list=PLBD_gON7g_m06aIGNGB3BE_sV2rZdo8wX\" frameborder=\"0\" allowfullscreen>\n",
    "</iframe>"
   ]
  },
  {
   "cell_type": "code",
   "execution_count": 12,
   "metadata": {
    "collapsed": false
   },
   "outputs": [
    {
     "data": {
      "text/html": [
       "<iframe \n",
       "width=\"560\" height=\"315\" src=\"https://www.youtube.com/embed/TYA8C85CdCc?list=PLBD_gON7g_m06aIGNGB3BE_sV2rZdo8wX\" frameborder=\"0\" allowfullscreen>\n",
       "</iframe>"
      ],
      "text/plain": [
       "<IPython.core.display.HTML object>"
      ]
     },
     "metadata": {},
     "output_type": "display_data"
    }
   ],
   "source": [
    "%%html\n",
    "<iframe \n",
    "width=\"560\" height=\"315\" src=\"https://www.youtube.com/embed/TYA8C85CdCc?list=PLBD_gON7g_m06aIGNGB3BE_sV2rZdo8wX\" frameborder=\"0\" allowfullscreen>\n",
    "</iframe>"
   ]
  },
  {
   "cell_type": "code",
   "execution_count": 13,
   "metadata": {
    "collapsed": false
   },
   "outputs": [
    {
     "data": {
      "text/html": [
       "<iframe width=\"420\" height=\"315\" \n",
       "src=\"https://www.youtube.com/embed/Mqt_Amkw-0Y\" frameborder=\"0\" allowfullscreen>\n",
       "</iframe>"
      ],
      "text/plain": [
       "<IPython.core.display.HTML object>"
      ]
     },
     "metadata": {},
     "output_type": "display_data"
    }
   ],
   "source": [
    "%%html\n",
    "<iframe width=\"420\" height=\"315\" \n",
    "src=\"https://www.youtube.com/embed/Mqt_Amkw-0Y\" frameborder=\"0\" allowfullscreen>\n",
    "</iframe>"
   ]
  },
  {
   "cell_type": "code",
   "execution_count": 14,
   "metadata": {
    "collapsed": false
   },
   "outputs": [
    {
     "data": {
      "text/html": [
       "<iframe width=\"420\" height=\"315\" \n",
       "src=\"https://www.youtube.com/embed/CzJ8EKi11pU\" frameborder=\"0\" allowfullscreen>\n",
       "</iframe>"
      ],
      "text/plain": [
       "<IPython.core.display.HTML object>"
      ]
     },
     "metadata": {},
     "output_type": "display_data"
    }
   ],
   "source": [
    "%%html\n",
    "<iframe width=\"420\" height=\"315\" \n",
    "src=\"https://www.youtube.com/embed/CzJ8EKi11pU\" frameborder=\"0\" allowfullscreen>\n",
    "</iframe>"
   ]
  },
  {
   "cell_type": "code",
   "execution_count": 15,
   "metadata": {
    "collapsed": false
   },
   "outputs": [
    {
     "data": {
      "text/html": [
       "<iframe \n",
       "width=\"420\" height=\"315\" src=\"https://www.youtube.com/embed/lXyG68_caV4\" frameborder=\"0\" allowfullscreen>\n",
       "</iframe>"
      ],
      "text/plain": [
       "<IPython.core.display.HTML object>"
      ]
     },
     "metadata": {},
     "output_type": "display_data"
    }
   ],
   "source": [
    "%%html\n",
    "<iframe \n",
    "width=\"420\" height=\"315\" src=\"https://www.youtube.com/embed/lXyG68_caV4\" frameborder=\"0\" allowfullscreen>\n",
    "</iframe>"
   ]
  },
  {
   "cell_type": "code",
   "execution_count": 16,
   "metadata": {
    "collapsed": false
   },
   "outputs": [
    {
     "data": {
      "text/html": [
       "<iframe \n",
       "width=\"420\" height=\"315\" src=\"https://www.youtube.com/embed/S9gr4w_U9Qs\" frameborder=\"0\" allowfullscreen>\n",
       "</iframe>"
      ],
      "text/plain": [
       "<IPython.core.display.HTML object>"
      ]
     },
     "metadata": {},
     "output_type": "display_data"
    }
   ],
   "source": [
    "%%html\n",
    "<iframe \n",
    "width=\"420\" height=\"315\" src=\"https://www.youtube.com/embed/S9gr4w_U9Qs\" frameborder=\"0\" allowfullscreen>\n",
    "</iframe>"
   ]
  },
  {
   "cell_type": "code",
   "execution_count": 25,
   "metadata": {
    "collapsed": false
   },
   "outputs": [
    {
     "data": {
      "application/javascript": [
       "$.getScript('https://kmahelona.github.io/ipython_notebook_goodies/ipython_notebook_toc.js')"
      ],
      "text/plain": [
       "<IPython.core.display.Javascript object>"
      ]
     },
     "metadata": {},
     "output_type": "display_data"
    }
   ],
   "source": [
    "%%javascript\n",
    "$.getScript('https://kmahelona.github.io/ipython_notebook_goodies/ipython_notebook_toc.js')"
   ]
  }
 ],
 "metadata": {
  "kernelspec": {
   "display_name": "Matlab",
   "language": "matlab",
   "name": "matlab_kernel"
  },
  "language_info": {
   "file_extension": ".m",
   "help_links": [
    {
     "text": "MetaKernel Magics",
     "url": "https://github.com/calysto/metakernel/blob/master/metakernel/magics/README.md"
    }
   ],
   "mimetype": "text/x-matlab",
   "name": "octave"
  }
 },
 "nbformat": 4,
 "nbformat_minor": 0
}
