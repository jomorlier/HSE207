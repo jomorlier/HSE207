{
 "cells": [
  {
   "cell_type": "markdown",
   "metadata": {
    "collapsed": true
   },
   "source": [
    "<font size='6'><b>Complex number</b></font>\n",
    "\n",
    "Table of Contents\n",
    "<div id=\"toc\"></div>"
   ]
  },
  {
   "cell_type": "markdown",
   "metadata": {},
   "source": [
    "# 1. Complex Number\n",
    "\n",
    "$$\n",
    "a+jb \\qquad a+bj \\qquad a+ib \\qquad a+bi \n",
    "$$\n",
    "\n",
    "<br>\n",
    "<img src=\"./image_files/Complex_number1.png\" width=300>\n",
    "<br>\n",
    "\n",
    "$$\\text{Complex number = vector in 2D}$$"
   ]
  },
  {
   "cell_type": "markdown",
   "metadata": {},
   "source": [
    "## 1.1. Adding Complex Numbers\n",
    "\n",
    "$$\\begin{align*}\n",
    "z_1 = a_1 + b_1 i, \\qquad  \\vec{z}_1 = \\begin{bmatrix}a_1 \\\\ b_1 \\end{bmatrix}\\\\\n",
    "z_2 = a_2 + b_2 i, \\qquad  \\vec{z}_2 = \\begin{bmatrix}a_2 \\\\ b_2 \\end{bmatrix}\\\\\n",
    "\\end{align*}$$\n",
    "\n",
    "<table style=\"border-style: hidden; border-collapse: collapse;\" width = \"96%\"> \n",
    "    <tr style=\"border-style: hidden; border-collapse: collapse;\">\n",
    "        <td width = 48% style=\"border-style: hidden; border-collapse: collapse;\">\n",
    "            <img src=\"./image_files/Complex_number2.png\" width=300>\n",
    "        </td>\n",
    "        <td width = 48%>\n",
    "$$\\begin{align*}\n",
    "z = z_1 + z_2 &= (a_1 + a_2) + (b_1 + b_2)i\\\\ \\\\\n",
    "\\vec{z} = \\vec{z}_1 + \\vec{z}_2 &= \\begin{bmatrix}a_1 \\\\ b_1 \\end{bmatrix} + \\begin{bmatrix}a_2 \\\\ b_2 \\end{bmatrix} = \\begin{bmatrix}a_1 + a_2 \\\\ b_1 + b_2 \\end{bmatrix}\n",
    "\\end{align*}$$\n",
    "        </td>\n",
    "    </tr>\n",
    "</table>\n"
   ]
  },
  {
   "cell_type": "markdown",
   "metadata": {},
   "source": [
    "## 1.2. Complex Exponential Function (Euler's Formular)\n",
    "\n",
    "<br>\n",
    "$$\n",
    "\\large\n",
    "e^{i\\theta} = \\cos\\theta + i\\sin\\theta $$\n",
    "<br>\n",
    "\n",
    "<table style=\"border-style: hidden; border-collapse: collapse;\" width = \"96%\"> \n",
    "    <tr style=\"border-style: hidden; border-collapse: collapse;\">\n",
    "        <td width = 48% style=\"border-style: hidden; border-collapse: collapse;\">\n",
    "            <img src=\"./image_files/Complex_number3.png\" width=250>\n",
    "        </td>\n",
    "        <td width = 48%>\n",
    "\n",
    "$$\\begin{align*}\n",
    "z &= r\\cos\\theta + i\\,r\\sin\\theta \\\\\n",
    "\\vec{z} &= re^{i\\theta} = r\\,(\\cos\\theta + i\\sin\\theta)\\\\ \\\\\n",
    "r &\\text{ : magnitude (length)}\\\\\n",
    "\\theta &\\text{ : phase (angle)}\n",
    "\\end{align*}$$\n",
    "        </td>\n",
    "    </tr>\n",
    "</table>"
   ]
  },
  {
   "cell_type": "markdown",
   "metadata": {},
   "source": [
    "## 1.3. Multiplying/Dividing Complex Numbers\n",
    "\n",
    "- Just like an exponential function\n",
    "\n",
    "$$\n",
    "\\begin{align*}\n",
    "z_1 = r_1e^{i\\theta_1} \\\\\n",
    "z_2 = r_2e^{i\\theta_2}\n",
    "\\end{align*}$$\n",
    "\n",
    "$$\\implies \\begin{align*} z_1 \\cdot z_2 & = r_1r_2 e^{i(\\theta_1 + \\theta_2)}\\\\\n",
    "\\frac{z_1}{z_2} & = \\frac{r_1}{r_2} e^{i(\\theta_1 - \\theta_2)}\n",
    "\\end{align*}$$"
   ]
  },
  {
   "cell_type": "markdown",
   "metadata": {},
   "source": [
    "# 2. Circular Motion Represented by Complex Number\n",
    "\n",
    "## 2.1. Geometrical Meaning of $e^{i\\theta}$\n",
    "\n",
    "$$\n",
    "e^{i\\theta} = \\cos\\theta + i\\sin\\theta$$\n",
    "\n",
    "<br>\n",
    "<table style=\"border-style: hidden; border-collapse: collapse;\" width = \"80%\"> \n",
    "    <tr style=\"border-style: hidden; border-collapse: collapse;\">\n",
    "        <td width = 40% style=\"border-style: hidden; border-collapse: collapse;\">\n",
    "            <img src=\"./image_files/Complex_number4.png\" width=300>\n",
    "        </td>\n",
    "        <td width = 40%>\n",
    "$$\\begin{align*}\n",
    "e^{i\\theta} & \\text{: point on the unit circle with angle of } \\theta \\\\\n",
    "e^{i\\theta} &=  e^{i(\\theta + 2\\pi)}\n",
    "\\end{align*}$$\n",
    "        </td>\n",
    "    </tr>\n",
    "</table>\n"
   ]
  },
  {
   "cell_type": "markdown",
   "metadata": {},
   "source": [
    "## 2.2. Geometrical Meaning of $e^{i\\omega t}$\n",
    "\n",
    "<br>\n",
    "<table style=\"border-style: hidden; border-collapse: collapse;\" width = \"80%\"> \n",
    "    <tr style=\"border-style: hidden; border-collapse: collapse;\">\n",
    "        <td width = 40% style=\"border-style: hidden; border-collapse: collapse;\">\n",
    "            <img src=\"./image_files/Complex_number5.png\" width=300>\n",
    "        </td>\n",
    "        <td width = 40%>\n",
    "$$\\begin{align*}\n",
    "\\theta &= \\omega t\\\\\n",
    "e^{i\\omega t} &: \\text{ rotating on an unit circle with angular velocity of }\\omega\n",
    "\\end{align*}$$\n",
    "        </td>\n",
    "    </tr>\n",
    "</table>"
   ]
  },
  {
   "cell_type": "markdown",
   "metadata": {},
   "source": [
    "## 2.3. Sinusoidal Functions from Circular Motions (sin & cos)\n",
    "\n",
    "<br>\n",
    "<table style=\"border-style: hidden; border-collapse: collapse;\" width = \"80%\"> \n",
    "    <tr>\n",
    "        <td width = 40% style=\"border-style: hidden; border-collapse: collapse;\">\n",
    "            $$\\text{ projection of } e^{j \\omega t} \\text{ onto Re-axis}$$            \n",
    "        </td>\n",
    "        <td width = 40% style=\"border-style: hidden; border-collapse: collapse;\">\n",
    "            $$\\text{ projection of } e^{j \\omega t} \\text{ onto Im-axis}$$           \n",
    "        </td>\n",
    "    </tr>\n",
    "    <tr>\n",
    "        <td width = 40% style=\"border-style: hidden; border-collapse: collapse;\">            \n",
    "            <img src = \"./image_files/Complex_number6.png\" width = 300>            \n",
    "        </td>\n",
    "        <td width = 40% style=\"border-style: hidden; border-collapse: collapse;\">            \n",
    "            <img src = \"./image_files/Complex_number7.png\" width = 350>           \n",
    "        </td>\n",
    "    </tr>\n",
    "    <tr>\n",
    "        <td width = 40% style=\"border-style: hidden; border-collapse: collapse;\">\n",
    "            $$\\text{Re}\\left(e^{i\\omega t}\\right) = \\cos\\omega t$$\n",
    "        </td>\n",
    "        <td width = 40% style=\"border-style: hidden; border-collapse: collapse;\">\n",
    "            $$\\text{Im}\\left(e^{i\\omega t}\\right) = \\sin\\omega t$$\n",
    "        </td>\n",
    "    </tr>\n",
    "</table>\n",
    "\n",
    "- Animated explanation of\n",
    "$$ \\cos \\omega t = \\frac{e^{i \\omega t} + e^{-i \\omega t}}{2}$$\n",
    "\n",
    "<img src=\"./image_files/oscillation3.gif\" width = 300>"
   ]
  },
  {
   "cell_type": "markdown",
   "metadata": {},
   "source": [
    "## 2.4. $i$ Multiplying\n",
    "\n",
    "\n",
    "<table style=\"border-style: hidden; border-collapse: collapse;\" width = \"60%\"> \n",
    "    <tr style=\"border-style: hidden; border-collapse: collapse;\">\n",
    "        <td width = 30% style=\"border-style: hidden; border-collapse: collapse;\">\n",
    "$$\n",
    "\\begin{align*}\n",
    "ie^{i\\theta} & = {?}\\\\\n",
    "z_1 & = i = e^{i \\frac{\\pi}{2}}\\\\\n",
    "z_2 & = e^{i\\theta}\n",
    "\\end{align*}\n",
    "$$             \n",
    "        </td>\n",
    "        <td width = 30%>\n",
    "$$z_1 z_2 = e^{i(\\frac{\\pi}{2} + \\theta)}$$\n",
    "        </td>\n",
    "    </tr>\n",
    "</table>\n",
    "\n",
    "- $i$ multiplication $\\implies$ $90^{o}$ rotation\n",
    "\n",
    "<img src=\"./image_files/Complex_number8.png\" width=300>\n",
    "<br>"
   ]
  },
  {
   "cell_type": "markdown",
   "metadata": {},
   "source": [
    "__Example__\n",
    "\n",
    "<table style=\"border-style: hidden; border-collapse: collapse;\" width = \"80%\"> \n",
    "    <tr style=\"border-style: hidden; border-collapse: collapse;\">\n",
    "        <td width = 40% style=\"border-style: hidden; border-collapse: collapse;\">\n",
    "$$\\begin{align*} \n",
    "z &= e^{i\\theta}  \\\\\n",
    "z^n &= \\left(e^{i\\theta}\\right)^n = e^{in\\theta}\n",
    "\\end{align*}$$             \n",
    "        </td>\n",
    "        <td width = 40%>\n",
    "            <img src=\"./image_files/Complex_number9.png\" width=300>\n",
    "        </td>\n",
    "    </tr>\n",
    "</table>"
   ]
  },
  {
   "cell_type": "markdown",
   "metadata": {},
   "source": [
    "## 2.5. Circular Motion\n",
    "\n",
    "- Particle rotates on the unit circle with angular velocity of $\\omega$\n",
    "\n",
    "$$\\begin{align*}\n",
    "p(t) &= re^{i\\omega t} &\\\\\n",
    "\\upsilon(t) &= \\frac{dp(t)}{dt} = r\\cdot i \\omega e^{i\\omega t}= r\\omega\\cdot i e^{i\\omega t} \\\\ \\\\\n",
    "\\lvert \\upsilon(t) \\rvert &= r\\omega\\\\\n",
    "\\angle \\upsilon(t) &= \\omega t + \\frac{\\pi}{2}\n",
    "\\end{align*}$$"
   ]
  },
  {
   "cell_type": "markdown",
   "metadata": {},
   "source": [
    "### 2.5.1. Velocity in Circular Motion\n",
    "\n",
    "<img src=\"./image_files/Complex_number10.png\", width=300>"
   ]
  },
  {
   "cell_type": "markdown",
   "metadata": {},
   "source": [
    "### 2.5.2. Acceleration in Circular Motion\n",
    "\n",
    "\n",
    "<table style=\"border-style: hidden; border-collapse: collapse;\" width = \"90%\"> \n",
    "    <tr style=\"border-style: hidden; border-collapse: collapse;\">\n",
    "        <td width = 45% style=\"border-style: hidden; border-collapse: collapse;\">\n",
    "$$\\begin{align*}\n",
    "a(t) &= \\frac{d \\upsilon(t)}{dt} = r\\omega i \\cdot i \\omega e^{i\\omega t}= - r \\omega^2 e ^{i\\omega t} \\\\ \\\\\n",
    "\\lvert a(t) \\rvert &= r\\omega^2\\\\\n",
    "\\angle a(t) &= \\omega t + \\pi\n",
    "\\end{align*}$$             \n",
    "        </td>\n",
    "        <td width = 45%>\n",
    "<img src=\"./image_files/circular_acc.png\" width = 250>\n",
    "        </td>\n",
    "    </tr>\n",
    "</table>"
   ]
  },
  {
   "cell_type": "markdown",
   "metadata": {},
   "source": [
    "__Recap: Vector Representation in Circular Motion__\n",
    "\n",
    "<table style=\"border-style: hidden; border-collapse: collapse;\" width = 600> \n",
    "    <tr>\n",
    "        <td width = 300 style=\"border-style: hidden; border-collapse: collapse;\">\n",
    "            <img src = \"./image_files/Complex_number12.png\" width = 200>\n",
    "        </td>\n",
    "        <td width = 300>\n",
    "            <img src = \"./image_files/Complex_number13.png\" width = 200>\n",
    "        </td>\n",
    "    </tr>\n",
    "</table>\n",
    "\n",
    "\n",
    "$$\\text{ How to represent } v \\text{ and } a \\text{ in a cross product form}\\\\$$\n",
    "$$\\begin{align*}\n",
    "\\vec v &= \\vec \\omega \\times \\vec r\\\\\n",
    "\\vec a &= \\vec \\omega \\times \\vec v\\\\\n",
    "& = \\vec \\omega \\times (\\vec \\omega \\times \\vec r )\n",
    "\\end{align*}$$\n"
   ]
  },
  {
   "cell_type": "markdown",
   "metadata": {},
   "source": [
    "# 3. Simple Harmonic Motion\n",
    "\n",
    "- At this moment, do not worry about the meaning of the harmonic motion"
   ]
  },
  {
   "cell_type": "markdown",
   "metadata": {},
   "source": [
    "## 3.1. Uniform circular motion\n",
    "\n",
    "- For $ z(t) = r e^{j\\omega t} $\n",
    "$$\n",
    "\\begin{align*}z(t) &= r e^{j\\omega t}\\\\\n",
    "\\upsilon(t) &= \\frac{dz(t)}{dt} = j\\omega r e^{j \\omega t} \\\\\n",
    "a(t) & = \\frac{d^2z(t)}{dt^2} = -r\\omega^2 e^{j \\omega t}\n",
    "\\end{align*}$$\n",
    "\n",
    "$$ -r\\omega^2 e^{j \\omega t} + \\omega^2 \\left( r e^{j\\omega t} \\right) = a(t) + \\omega^2 z(t) = \\frac{d^2z(t)}{dt^2} + \\omega^2 z(t) = 0$$\n",
    "\n",
    "- Show $ z(t) = r e^{-j\\omega t} $ also satisfies $$\\frac{d^2z(t)}{dt^2} + \\omega^2 z(t) = 0$$\n",
    "\n",
    "- Given the differential equation\n",
    "\n",
    "$$\\ddot z(t) + \\omega^2 z(t) = 0$$\n",
    "\n",
    "- Solution is a linear combination of \n",
    "\n",
    "$$ z(t) = c_1 r e^{j\\omega t} + c_2 r e^{-j\\omega t} = A e^{j\\omega t} + B e^{-j\\omega t}$$\n",
    "\n",
    "- $A,B$ are determined by initial conditions"
   ]
  },
  {
   "cell_type": "markdown",
   "metadata": {},
   "source": [
    "## 3.2. Spring and mass system\n",
    "\n",
    "<br>\n",
    "<table style=\"border-style: hidden; border-collapse: collapse;\" width = \"96%\"> \n",
    "    <tr style=\"border-style: hidden; border-collapse: collapse;\">\n",
    "        <td width = 48% style=\"border-style: hidden; border-collapse: collapse;\">\n",
    "             <img src = \"./image_files/Complex_number15.png\" width = 250>\n",
    "<img src = \"./image_files/Complex_number16.png\" width = 250>\n",
    "        </td>\n",
    "        <td width = 48%>\n",
    "$$ \n",
    "\\begin{align*}\n",
    "m \\ddot x(t) + k x(t) &= 0  \\implies \\\\\n",
    "\\ddot x(t) + \\omega^2 x(t) &= 0 \\qquad \\text{where } \\; \\omega^2 = \\frac{k}{m}\n",
    "\\end{align*}$$\n",
    "        </td>\n",
    "    </tr>\n",
    "</table>\n"
   ]
  },
  {
   "cell_type": "markdown",
   "metadata": {},
   "source": [
    "### 3.2.1. Differential equation\n",
    "\n",
    "- $2^{nd}$ order ODE (ordinary differential equation)\n",
    "\n",
    "$$\\ddot x(t) + \\omega^2 x(t) = 0$$\n",
    "\n",
    "\n",
    "- the solution is given\n",
    "\n",
    "$$ x(t) = \\text{Re} \\left\\{ A e^{j\\omega t} + B e^{-j\\omega t} \\right\\} \n",
    "= \\text{Re} \\left\\{ r e^{j(\\omega t + \\phi)} \\right\\} = r\\cos(\\omega t + \\phi)$$\n",
    "\n",
    "- two initial conditions determine the future motion (i.e., two unknown parameters $r$ and $\\phi$)\n",
    "\n",
    "$$ \\begin{cases}\n",
    "  x(0) = x_0 \\\\\n",
    "  \\dot x(0) = \\upsilon_0 \n",
    "\\end{cases} $$\n",
    "\n",
    "- No external force \n",
    "    - system contains: $m$, $k$ \n",
    "    - spring force $-kx$ is an internal force"
   ]
  },
  {
   "cell_type": "markdown",
   "metadata": {},
   "source": [
    "### 3.2.2. Determine unknown coefficients\n",
    "\n",
    "- How to obtain $r, \\phi$ from $x_0, \\upsilon_0$\n",
    "\n",
    "$$\\begin{align*}\n",
    "x(t) &= r\\cos (\\omega t + \\phi) & \\quad x(0) &= r \\cos \\phi = x_0\\\\\n",
    "\\dot x(t) &= - r\\omega\\sin(\\omega t + \\phi) & \\quad \\dot x(0) &= - r \\omega \\sin (\\phi) = - \\upsilon_0\n",
    "\\end{align*}$$"
   ]
  },
  {
   "cell_type": "markdown",
   "metadata": {},
   "source": [
    "### 3.2.3. Determine unknown coefficients from circle\n",
    "\n",
    "<table style=\"border-style: hidden; border-collapse: collapse;\" width = \"96%\"> \n",
    "    <tr style=\"border-style: hidden; border-collapse: collapse;\">\n",
    "        <td width = 48% style=\"border-style: hidden; border-collapse: collapse;\">\n",
    "            <img src = \"./image_files/Complex_number20.png\" width = 250>   \n",
    "        </td>\n",
    "        <td width = 48%>\n",
    "$$\\begin{align*}\n",
    "R\\cos \\phi = x_0 &\\\\\n",
    "\\upsilon_0 = \\upsilon \\sin\\phi &= R \\omega \\sin \\phi\n",
    "\\end{align*}$$\n",
    "        </td>\n",
    "    </tr>\n",
    "</table>\n"
   ]
  },
  {
   "cell_type": "markdown",
   "metadata": {},
   "source": [
    "__Example 1: Initial Conditions (pictorial interpretation)__\n",
    "\n",
    "<table style=\"border-style: hidden; border-collapse: collapse;\" width = \"60%\"> \n",
    "    <tr style=\"border-style: hidden; border-collapse: collapse;\">\n",
    "        <td width = 20% style=\"border-style: hidden; border-collapse: collapse;\">\n",
    "            $$x(0) = x_0$$\n",
    "            $$\\upsilon(0) = 0$$       \n",
    "        </td>\n",
    "        <td width = 40%>\n",
    "<img src = \"./image_files/Complex_number18.png\" width = 300>\n",
    "        </td>\n",
    "    </tr>\n",
    "</table>"
   ]
  },
  {
   "cell_type": "markdown",
   "metadata": {},
   "source": [
    "__Example 2: Initial Conditions (pictorial interpretation)__\n",
    "\n",
    "<table style=\"border-style: hidden; border-collapse: collapse;\" width = \"60%\"> \n",
    "    <tr style=\"border-style: hidden; border-collapse: collapse;\">\n",
    "        <td width = 20% style=\"border-style: hidden; border-collapse: collapse;\">\n",
    "            $$x(0) = x_0$$\n",
    "            $$\\upsilon(0) = \\upsilon_0$$       \n",
    "        </td>\n",
    "        <td width = 40%>\n",
    "<img src = \"./image_files/Complex_number19.png\" width = 250>\n",
    "        </td>\n",
    "    </tr>\n",
    "</table>"
   ]
  },
  {
   "cell_type": "markdown",
   "metadata": {},
   "source": [
    "## 3.3. Pendulum\n",
    "\n",
    "<table style=\"border-style: hidden; border-collapse: collapse;\" width = \"90%\"> \n",
    "    <tr style=\"border-style: hidden; border-collapse: collapse;\">\n",
    "        <td width = 30% style=\"border-style: hidden; border-collapse: collapse;\">\n",
    "             <img src = \"./image_files/Complex_number21.png\" width = 200>\n",
    "        </td>\n",
    "        <td width = 30% style=\"border-style: hidden; border-collapse: collapse;\">\n",
    "$$\\begin{align*}\n",
    "-T + mg \\cos \\theta & = -ml\\omega^2\\\\\n",
    "-mg\\sin\\theta &= ma = ml\\ddot\\theta\n",
    "\\end{align*}$$             \n",
    "        </td>\n",
    "        <td width = 30%>\n",
    "            <img src = \"./image_files/Complex_number22.png\" width = 170>\n",
    "        </td>\n",
    "    </tr>\n",
    "</table>"
   ]
  },
  {
   "cell_type": "markdown",
   "metadata": {},
   "source": [
    "__<font size='4'>From Nonlinear to Linear</font>__\n",
    "\n",
    "$$\n",
    "\\begin{align*}\n",
    "-mg\\sin\\theta = ma = ml\\ddot\\theta\n",
    "\\implies & \\ddot \\theta + \\frac{g}{l}\\sin \\theta = 0\\\\\n",
    "\\implies & \\ddot \\theta + \\frac{g}{l}\\theta = 0, \\qquad \\omega^2 = \\frac{g}{l}\n",
    "\\end{align*}$$\n",
    "\n",
    "\n",
    "- non linear system approximation possible?\n",
    "\n",
    "<img src = \"./image_files/Complex_number23.png\" width = 400>\n",
    "<br>\n",
    "\n",
    "- period is independent of mass (non-intuitive)"
   ]
  },
  {
   "cell_type": "code",
   "execution_count": 3,
   "metadata": {
    "collapsed": false
   },
   "outputs": [
    {
     "data": {
      "text/html": [
       "<iframe \n",
       "width=\"420\" height=\"315\" \n",
       "src=\"https://www.youtube.com/embed/YlSC2DfphaY\" frameborder=\"0\" allowfullscreen>\n",
       "</iframe>"
      ],
      "text/plain": [
       "<IPython.core.display.HTML object>"
      ]
     },
     "metadata": {},
     "output_type": "display_data"
    }
   ],
   "source": [
    "%%html\n",
    "<iframe \n",
    "width=\"420\" height=\"315\" \n",
    "src=\"https://www.youtube.com/embed/YlSC2DfphaY\" frameborder=\"0\" allowfullscreen>\n",
    "</iframe>"
   ]
  },
  {
   "cell_type": "markdown",
   "metadata": {},
   "source": [
    "__Note__\n",
    "\n",
    "- 'Equation of motion' means\n",
    "    \n",
    "    - Apply $F=ma$ to find ordinary differential equations\n",
    "    - Its solution will describe how it moves\n",
    "    \n",
    "- 'Simple harmonic motion' means\n",
    "\n",
    "$$ \\ddot x + \\omega_n^2x = 0$$"
   ]
  },
  {
   "cell_type": "code",
   "execution_count": 2,
   "metadata": {
    "collapsed": false
   },
   "outputs": [
    {
     "data": {
      "application/javascript": [
       "$.getScript('https://kmahelona.github.io/ipython_notebook_goodies/ipython_notebook_toc.js')"
      ],
      "text/plain": [
       "<IPython.core.display.Javascript object>"
      ]
     },
     "metadata": {},
     "output_type": "display_data"
    }
   ],
   "source": [
    "%%javascript\n",
    "$.getScript('https://kmahelona.github.io/ipython_notebook_goodies/ipython_notebook_toc.js')"
   ]
  }
 ],
 "metadata": {
  "kernelspec": {
   "display_name": "Matlab",
   "language": "matlab",
   "name": "matlab_kernel"
  },
  "language_info": {
   "file_extension": ".m",
   "help_links": [
    {
     "text": "MetaKernel Magics",
     "url": "https://github.com/calysto/metakernel/blob/master/metakernel/magics/README.md"
    }
   ],
   "mimetype": "text/x-matlab",
   "name": "octave"
  }
 },
 "nbformat": 4,
 "nbformat_minor": 0
}
