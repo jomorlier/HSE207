{
 "cells": [
  {
   "cell_type": "markdown",
   "metadata": {},
   "source": [
    "<center><font size='6'><b>Midterm Exam</b></font></center>\n",
    "<p>\n",
    "<center><font size='4'><b>HSE 207: Engineering Mechanics</b></font></center>\n",
    "\n",
    "<table style=\"border-style: hidden; border-collapse: collapse;\" width = \"96%\"> \n",
    "    <tr style=\"border-style: hidden; border-collapse: collapse;\">\n",
    "        <td width = 80% style=\"border-style: hidden; border-collapse: collapse;\">\n",
    "             \n",
    "        </td>\n",
    "        <td width = 16%>\n",
    "            by Seungchul Lee\n",
    "        </td>\n",
    "    </tr>\n",
    "</table>\n",
    "\n"
   ]
  },
  {
   "cell_type": "markdown",
   "metadata": {},
   "source": [
    "## Problem 1\n",
    "\n",
    "I mentioned many times in class that a circular motion is more beautiful than a linear translation motion. Of course, I exaggerated it in order to emphasize the importance of a circular motion. You are asked to list several reasons with supporting examples. \n"
   ]
  },
  {
   "cell_type": "markdown",
   "metadata": {},
   "source": [
    "## Problem 2\n",
    "\n",
    "Indicate (or draw) in a uniform circular motion with the center O \n",
    "\n",
    "1) The angular velocity vector and \n",
    "\n",
    "2) The acceleration vector of A \n",
    "\n",
    "<img src = \"./image_files/exam101.png\", width = 400>\n",
    "<center>Figure 1</center>\n",
    "<br>"
   ]
  },
  {
   "cell_type": "markdown",
   "metadata": {},
   "source": [
    "## Problem 3\n",
    "\n",
    "Design a mechanical system that can produce sine wave.\n"
   ]
  },
  {
   "cell_type": "markdown",
   "metadata": {},
   "source": [
    "## Problem 4\n",
    "\n",
    "Figure 2 shows the robot arm in our lab \n",
    "(Watch the video clip: https://www.youtube.com/watch?v=BzICLMCFM2M)\n",
    "\n",
    "1) Describe all the mechanical structures that you can find in the robot arm \n",
    "\n",
    "2) Explain why the end-effector of the arm is always kept parallel to the ground\n",
    "\n",
    "<br>\n",
    "<img src = \"./image_files/exam102.png\", width= 500>\n",
    "<center>Figure 2</center>\n",
    "<br>"
   ]
  },
  {
   "cell_type": "markdown",
   "metadata": {},
   "source": [
    "## Problem 5\n",
    "\n",
    "We learned that kinematics of an engine (cylinder and piston) is based on the slider-crank mechanism which enables us to transfer a circular motion to a linear translation motion or vice versa. However, I demonstrated in class that transferring a linear motion to a circular motion is not mechanically easy and smooth. Explain how car engines overcome this problem. \n",
    "\n",
    "<br>\n",
    "<img src = \"./image_files/exam103.png\", width = 400>\n",
    "<center>Figure 3</center>\n",
    "<br>"
   ]
  },
  {
   "cell_type": "markdown",
   "metadata": {},
   "source": [
    "## Problem 6\n",
    "\n",
    "When the velocity vector of point $C$ is shown as $\\upsilon_c$ at an instant of having the following configuration in the slider-crank mechanism, draw the velocity vector of point $B$ and indicate its magnitude\n",
    "\n",
    "<br>\n",
    "<img src = \"./image_files/exam104.png\", width = 500>\n",
    "<center>Figure 4</center>\n",
    "<br>"
   ]
  },
  {
   "cell_type": "markdown",
   "metadata": {},
   "source": [
    "## Problem 7\n",
    "\n",
    "Suppose a grenade of mass m moves along the following projectile with gravity downwards. When it reached at top, it exploded into two pieces with the same mass $(m/2)$. If one of $m/2$ drops vertically, draw the trajectory of the other $m/2$. Furthermore, explain why.\n",
    "\n",
    "<br>\n",
    "<img src = \"./image_files/exam105.png\", width = 500>\n",
    "<center>Figure 5</center>\n",
    "<br>"
   ]
  },
  {
   "cell_type": "markdown",
   "metadata": {},
   "source": [
    "## Problem 8\n",
    "\n",
    "Two expressions below for the Newton's second Law are mathematically the same. However, they represent very different perspectives of looking at motions and kinetics of mass $m$ in physics. Explain those differences.\n",
    "\n",
    "$$\\begin{align*}\n",
    "\\text{1)}\\; F =&\\, ma\\\\\n",
    "\\text{2)}\\; F -&\\, ma = 0\n",
    "\\end{align*}$$\n"
   ]
  },
  {
   "cell_type": "markdown",
   "metadata": {},
   "source": [
    "## Problem 9\n",
    "\n",
    "A body of mass $m$ is suspended from a spring with spring constant $k$ in configuration (i) and the spring is stretched $0.1 m$. If two identical bodies of mass m are suspended from a spring with the same spring constant k in configuration (ii), how much will the spring stretch? Explain your answer.\n",
    "\n",
    "<br>\n",
    "<img src = \"./image_files/exam106.png\", widht = 400>\n",
    "<center>Figure 6</center>\n",
    "<br>"
   ]
  },
  {
   "cell_type": "markdown",
   "metadata": {},
   "source": [
    "## Problem 10\n",
    "\n",
    "What is the weight of a satellite which is continuously rotating around the orbit of the Earth.\n"
   ]
  },
  {
   "cell_type": "markdown",
   "metadata": {},
   "source": [
    "## Problem 11\n",
    "\n",
    "I demonstrated what the acceleration looks like during a free fall using the IoT device in class. Draw or sketch acceleration changes over time in Figure 7 when the IoT device is thrown up with an initial velocity of $\\upsilon_0$  at time  $t_0$ in downward gravity field.\n",
    "\n",
    "<br>\n",
    "<img src = \"./image_files/exam107.png\", width = 600>\n",
    "<center>Figure 7</center>\n",
    "<br>"
   ]
  },
  {
   "cell_type": "markdown",
   "metadata": {},
   "source": [
    "## Problem 12\n",
    "\n",
    "1) Find an acceleration a with the inertia reference frame using FBD\n",
    "\n",
    "2) Find an acceleration a with the non-inertia reference frame (attached to mass $m_2$) using FBD\n",
    "\n",
    "3) Find the weights of mass $m_1$ and mass $m_2$ while they are moving.\n",
    "\n",
    "<br>\n",
    "<img src = \"./image_files/exam108.png\", width = 400>\n",
    "<center>Figure 8</center>\n",
    "<br>"
   ]
  },
  {
   "cell_type": "markdown",
   "metadata": {},
   "source": [
    "## Problem 13\n",
    "\n",
    "When both cars accelerate with acceleration $a$, \n",
    "\n",
    "1) Describe and sketch what will happen to a balloon and a ball with your explanation (why)\n",
    "\n",
    "<img src = \"./image_files/exam109.png\", width = 500>\n",
    "<center>Figure 9</center>\n",
    "<br>\n",
    "\n",
    "(The following three sub-problems are related only to the ball inside a car)\n",
    "\n",
    "2) Draw a free body diagram of a ball and apply the Newton's second law in the inertia reference frame\n",
    "\n",
    "3) Draw a free body diagram of a ball and apply the Newton's second law in the non-inertia reference frame (attached to a car)\n",
    "\n",
    "4) Find the weight of a ball whose mass is $m$ while it is moving \n"
   ]
  },
  {
   "cell_type": "markdown",
   "metadata": {},
   "source": [
    "## Problem 14\n",
    "\n",
    "We want to find acceleration a with different definitions of system\n",
    "\t\n",
    "1) System: mass $m$ and mass $M $\n",
    " \t\n",
    "2) System: mass \n",
    "    \n",
    "Draw FBDs to compute acceleration a in both systems\n",
    "\n",
    "<img src = \"./image_files/exam110.png\">\n",
    "<center>Figure 10</center>\n",
    "<br>\n"
   ]
  },
  {
   "cell_type": "markdown",
   "metadata": {},
   "source": [
    "## Problem 15\n",
    "\n",
    "An object sits on a frictionless (between mass $M$ and $m$) incline plane. Furthermore, mass $M$ sits on a frictionless floor as well. Assume that all objects are initially at rest.\n",
    "\n",
    "1) Find the relative acceleration of mass m to mass M and the acceleration of mass $M$ with a free-body diagram.\n",
    "\n",
    "2) Find the normal forces $N_1$ and $N_2$ while they are moving.\n",
    "\n",
    "\n",
    "<img src = \"./image_files/exam111.png\", width = 500>\n",
    "<center>Figure 11</center>\n",
    "<br>"
   ]
  },
  {
   "cell_type": "markdown",
   "metadata": {},
   "source": [
    "## Problem 16\n",
    "\n",
    "The two blocks shown in Figure 12 start from rest. The horizontal plane and the pulley are frictionless, and the pulley is assumed to be of negligible mass. Draw a free-body diagram and acceleration direction (kinematics) to apply the Newton’s second Law.\n",
    "\n",
    "1) Determine the acceleration of each block.\n",
    "\n",
    "2) Determine the tension.\n",
    "\n",
    "3) Explain why the tension in a string is identical.\n",
    "\n",
    "4) Draw a free-body diagram and acceleration direction (kinematics) with the non-inertial reference frame attached to  . (But, you do not need to compute. Just draw FBD)\n",
    "\n",
    "<br>\n",
    "<img src = \"./image_files/exam112.png\", width = 300>\n",
    "<center>Figure 12</center>\n",
    "<br>"
   ]
  },
  {
   "cell_type": "markdown",
   "metadata": {},
   "source": [
    "## Problem 17\n",
    "\n",
    "The ball D has a mass of m. If a force is applied horizontally to the ring at $A$, determine the dimension d so that the force in cable AC is zero.\n",
    "\n",
    "1) Draw free body diagram (FBD)\n",
    "\n",
    "2) Write down equilibrium equations\n",
    "\n",
    "3) Determine the dimension d so that the force in cable AC is zero\n",
    "\n",
    "<img src = \"./image_files/exam113.png\", width = 300>\n",
    "<center>Figure 13</center>\n",
    "<br>"
   ]
  },
  {
   "cell_type": "markdown",
   "metadata": {},
   "source": [
    "## Problem 18\n",
    "\n",
    "I showed the pictures shown in Figure 14 in class to explain big data and effectiveness of big data visualization. \n",
    "\n",
    "1) Describe what kind of data is visualized.\n",
    "\n",
    "2) Data is displayed on the map. Which city is it?\n",
    "\n",
    "3) What kind of information can you extract from this data visualization?\n",
    "\n",
    "4) What kind of policies can a city council make based on this data visualization if possible?\n",
    "\n",
    "<img src = \"./image_files/exam114.png\", width = 500>\n",
    "<center>Figure 14</center>\n",
    "<br>"
   ]
  }
 ],
 "metadata": {
  "kernelspec": {
   "display_name": "Python 3",
   "language": "python",
   "name": "python3"
  },
  "language_info": {
   "codemirror_mode": {
    "name": "ipython",
    "version": 3
   },
   "file_extension": ".py",
   "mimetype": "text/x-python",
   "name": "python",
   "nbconvert_exporter": "python",
   "pygments_lexer": "ipython3",
   "version": "3.3.5"
  }
 },
 "nbformat": 4,
 "nbformat_minor": 0
}
