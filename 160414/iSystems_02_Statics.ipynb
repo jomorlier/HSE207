{
 "cells": [
  {
   "cell_type": "markdown",
   "metadata": {
    "collapsed": true
   },
   "source": [
    "Table of Contents\n",
    "<div id=\"toc\"></div>\n",
    "\n"
   ]
  },
  {
   "cell_type": "markdown",
   "metadata": {
    "collapsed": true
   },
   "source": [
    "# 1. Statics and Free choice of axis\n",
    "\n",
    "**Learning goals**\n",
    "\n",
    "- Solve problems with objects under static equilibrium.\n",
    "- Learn how to choose the axis location when doing statics problems\n",
    "\n",
    "**Equilibrium Conditions**\n",
    "\n",
    "When we say that an object is in static equilibrium, we mean that the object does not rotate or translate. A great fraction of Mechanical and Civil engineering is (very well-developed) statics since many machines and structures have only a few parts designed to move.\n",
    "\n",
    "**Equilibrium Conditions for a Point Particle**\n",
    "\n",
    "We can see from Newton's Second Law that a point particle has to experience a zero net force to be in static equilibrium:\n",
    "\n",
    "> $\\sum \\vec{F}= 0$\n",
    "\n",
    "**Equilibrium Conditions for a Rigid Body**\n",
    "\n",
    "When considering rigid bodies, the body must also experience zero net torque to be in static equilibrium. \n",
    "\n",
    "In this course, we are only considering rotation in the $x$-$y$ plane, _i.e._ only one axis of rotation, the $z$ axis. We can express the conditions for static equilibrium as simply:\n",
    "\n",
    ">$\\sum \\vec{F}= 0$ (for both $x$ and $y$ forces)\n",
    "\n",
    "> $\\sum \\vec \\tau_z = 0$ about any axis anywhere in the plane & \n",
    "\n",
    "If an object is experiencing no rotation or translation, all points are fixed, and we can choose to label the axis of rotation $z$ anywhere on the object. We customarily choose a location that will make calculating torques easier. Often this is a location that will result in zero moment arms for one or more forces, especially ones that are unknown in the problem.\n",
    "\n",
    "> In statics problems, choose the axis of rotation so as to make the torque calculation as simple as possible.\n",
    "\n",
    "__Equations of Equilibrium__\n",
    "\n",
    "$$\n",
    "\\begin{align*}\n",
    "\\sum F_x &= 0\\\\\n",
    "\\sum F_y &= 0\\\\\n",
    "\\sum M_o &= 0\n",
    "\\end{align*}$$\n",
    "\n",
    "- Equivalent to solving the system of linear equations\n"
   ]
  },
  {
   "cell_type": "markdown",
   "metadata": {},
   "source": [
    "## Moment of a Couple\n",
    "\n",
    "\n",
    "$$\n",
    "M = Fd \\quad \\quad M = r \\times F, \\quad \\text{but }\\; F_{net} = 0$$\n",
    "\n",
    "<br><br>\n",
    "<table style=\"border-style: hidden; border-collapse: collapse;\" width = \"96%\"> \n",
    "    <tr style=\"border-style: hidden; border-collapse: collapse;\">\n",
    "        <td width = 48% style=\"border-style: hidden; border-collapse: collapse;\">\n",
    "            <img src=\"./image_files/statics_06.png\", width = 300>\n",
    "        </td>\n",
    "        <td width = 48%>\n",
    "            <img src=\"./image_files/statics_07.jpg\", width = 450>\n",
    "        </td>\n",
    "    </tr>\n",
    "</table>"
   ]
  },
  {
   "cell_type": "markdown",
   "metadata": {},
   "source": [
    "## Free-Body Diagrams\n",
    "\n",
    "\n",
    "<img src=\"./image_files/statics_08.png\", width = 500>\n",
    "\n",
    "<br>\n",
    "<br>\n",
    "\n",
    "<img src=\"./image_files/statics_09.png\", width = 500>\n",
    "<img src=\"./image_files/statics_10.png\", width = 500>"
   ]
  },
  {
   "cell_type": "markdown",
   "metadata": {},
   "source": [
    "## Exercise\n",
    "\n",
    "- Determine the moment of the force about point $O$\n",
    "\n",
    "    - Magnitude\n",
    "    \n",
    "    - Direction\n",
    "\n",
    "- Static?\n",
    "\n",
    "<img src=\"./image_files/statics_03.png\", width = 300>\n",
    "\n",
    "- Describe all the static forces and moments\n",
    "\n",
    "    - Reaction forces $F_a$ and $F_b$   \n",
    "\n",
    "    - Which one is bigger intuitively?\n",
    "\n",
    "    - Think about extreme case\n",
    "\n",
    "<img src=\"./image_files/statics_04.png\", width = 300>"
   ]
  },
  {
   "cell_type": "markdown",
   "metadata": {},
   "source": [
    "## Exercise\n",
    "\n",
    "The ball $D$ has a mass of 20 kg. If a force of is applied horizontally to the ring at A, determine the dimension $d$ so that the force in cable AC is zero.\n",
    "\n",
    "<img src=\"./image_files/statics_01.png\", width = 300>\n",
    "\n",
    "1) Draw free body diagram (FBD)\n",
    "\n",
    "2) Write down equilibrium equation\n",
    "\n",
    "3) Determine the dimension $d$ so that the force in cable AC is zero"
   ]
  },
  {
   "cell_type": "markdown",
   "metadata": {},
   "source": [
    "## Exercise\n",
    "\n",
    "Draw the free-body diagram of the uniform beam. The beam has a mass of 100 kg.\n",
    "\n",
    "<img src=\"./image_files/statics_12.png\", width = 450>"
   ]
  },
  {
   "cell_type": "markdown",
   "metadata": {},
   "source": [
    "## Exercise\n",
    "\n",
    "- Determine the horizontal and vertical components of reaction on the member at the pin A, and the normal reaction at the roller B.\n",
    "\n",
    "\n",
    "<img src=\"./image_files/statics_11.png\", width = 450>"
   ]
  },
  {
   "cell_type": "markdown",
   "metadata": {},
   "source": [
    "# 2. Structure\n"
   ]
  },
  {
   "cell_type": "markdown",
   "metadata": {},
   "source": [
    "## Tension and Compression\n",
    "\n",
    "- Sign of force vector on bar element\n",
    "\n",
    "- Sign of force vector on pin ?\n",
    "\n",
    "<img src=\"./image_files/statics_14.png\", width = 200>\n"
   ]
  },
  {
   "cell_type": "markdown",
   "metadata": {},
   "source": [
    "## Method of Joints\n",
    "\n",
    "- Determine the force in each member of the truss and indicate whether the members are in tension or compression.\n",
    "\n",
    "<img src=\"./image_files/statics_15.png\", width = 250>\n"
   ]
  },
  {
   "cell_type": "markdown",
   "metadata": {},
   "source": [
    "# Solution\n",
    "\n",
    "<img src=\"./image_files/statics_sol1.png\", width = 500>\n",
    "<img src=\"./image_files/statics_sol2.png\", width = 500>\n",
    "<img src=\"./image_files/statics_sol3.png\", width = 500>"
   ]
  },
  {
   "cell_type": "markdown",
   "metadata": {},
   "source": [
    "## Method of Section\n",
    "\n",
    "- Determine the force in members GE, GC, and BC of the truss. Indicate whether the members are in tension or compression\n",
    "\n",
    "<img src=\"./image_files/statics_16.png\", width = 350>"
   ]
  },
  {
   "cell_type": "code",
   "execution_count": 2,
   "metadata": {
    "collapsed": false
   },
   "outputs": [
    {
     "data": {
      "application/javascript": [
       "$.getScript('https://kmahelona.github.io/ipython_notebook_goodies/ipython_notebook_toc.js')"
      ],
      "text/plain": [
       "<IPython.core.display.Javascript object>"
      ]
     },
     "metadata": {},
     "output_type": "display_data"
    }
   ],
   "source": [
    "%%javascript\n",
    "$.getScript('https://kmahelona.github.io/ipython_notebook_goodies/ipython_notebook_toc.js')"
   ]
  }
 ],
 "metadata": {
  "kernelspec": {
   "display_name": "Matlab",
   "language": "matlab",
   "name": "matlab"
  },
  "language_info": {
   "codemirror_mode": "octave",
   "file_extension": ".m",
   "help_links": [
    {
     "text": "MetaKernel Magics",
     "url": "https://github.com/calysto/metakernel/blob/master/metakernel/magics/README.md"
    }
   ],
   "mimetype": "text/x-matlab",
   "name": "matlab",
   "version": "0.8.0"
  }
 },
 "nbformat": 4,
 "nbformat_minor": 0
}
